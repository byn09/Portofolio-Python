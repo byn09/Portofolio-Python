{
  "cells": [
    {
      "cell_type": "markdown",
      "source": [
        "**Project Background:**\n",
        "\n",
        "Bob has started his own mobile company. He wants to give tough fight to big companies like Apple,Samsung etc. He does not know how to estimate price of mobiles his company creates. In this competitive mobile phone market you cannot simply assume things. To solve this problem he collects sales data of mobile phones of various companies. Bob wants to find out some relation between features of a mobile phone(eg:- RAM,Internal Memory etc) and its selling price. But he is not so good at Machine Learning. So he needs your help to solve this problem.\n",
        "\n",
        "In this problem you do not have to predict actual price but a price range indicating how high the price is\n",
        "\n",
        "**Data from Kaggle.com**"
      ],
      "metadata": {
        "id": "vBRRETNDA9wN"
      }
    },
    {
      "cell_type": "markdown",
      "metadata": {
        "id": "XFeoLNdBWUoj"
      },
      "source": [
        "# **Import Data**"
      ]
    },
    {
      "cell_type": "code",
      "execution_count": 209,
      "metadata": {
        "id": "DQJ2grYbWrpB"
      },
      "outputs": [],
      "source": [
        "import numpy as np\n",
        "import pandas as pd\n",
        "import seaborn as sns\n",
        "import matplotlib.pyplot as plt\n",
        "\n",
        "from sklearn.metrics import confusion_matrix\n",
        "from sklearn.feature_selection import SelectKBest\n",
        "from sklearn.feature_selection import chi2\n",
        "from sklearn.preprocessing import StandardScaler\n",
        "from sklearn.preprocessing import LabelEncoder\n",
        "from sklearn.model_selection import train_test_split\n",
        "from sklearn.ensemble import RandomForestClassifier\n",
        "from sklearn.neighbors import KNeighborsClassifier\n",
        "from sklearn.naive_bayes import GaussianNB\n",
        "from sklearn.neural_network import MLPClassifier\n",
        "from sklearn.linear_model import LogisticRegression\n",
        "from sklearn.tree import DecisionTreeClassifier\n",
        "from sklearn.metrics import confusion_matrix\n",
        "from sklearn.neighbors import KNeighborsClassifier\n",
        "\n",
        "import warnings\n",
        "warnings.filterwarnings(\"ignore\")"
      ]
    },
    {
      "cell_type": "code",
      "execution_count": null,
      "metadata": {
        "id": "I5qdfe4QXqAI"
      },
      "outputs": [],
      "source": [
        "from google.colab import files\n",
        "files.upload"
      ]
    },
    {
      "cell_type": "markdown",
      "source": [
        "# **Main Dataset**\n",
        "**Data Application (Train)**"
      ],
      "metadata": {
        "id": "iZbP4tLEKTkY"
      }
    },
    {
      "cell_type": "code",
      "execution_count": 10,
      "metadata": {
        "colab": {
          "base_uri": "https://localhost:8080/",
          "height": 447
        },
        "id": "xEii3RwgX4t3",
        "outputId": "8da604c6-6b94-4ef9-9d34-78fc93683b0d"
      },
      "outputs": [
        {
          "output_type": "stream",
          "name": "stdout",
          "text": [
            "This dataset has 2000 rows dan 21 columns.\n",
            "\n"
          ]
        },
        {
          "output_type": "execute_result",
          "data": {
            "text/plain": [
              "   battery_power  blue  clock_speed  dual_sim  fc  four_g  int_memory  m_dep  \\\n",
              "0            842     0          2.2         0   1       0           7    0.6   \n",
              "1           1021     1          0.5         1   0       1          53    0.7   \n",
              "2            563     1          0.5         1   2       1          41    0.9   \n",
              "3            615     1          2.5         0   0       0          10    0.8   \n",
              "4           1821     1          1.2         0  13       1          44    0.6   \n",
              "5           1859     0          0.5         1   3       0          22    0.7   \n",
              "6           1821     0          1.7         0   4       1          10    0.8   \n",
              "7           1954     0          0.5         1   0       0          24    0.8   \n",
              "8           1445     1          0.5         0   0       0          53    0.7   \n",
              "9            509     1          0.6         1   2       1           9    0.1   \n",
              "\n",
              "   mobile_wt  n_cores  ...  px_height  px_width   ram  sc_h  sc_w  talk_time  \\\n",
              "0        188        2  ...         20       756  2549     9     7         19   \n",
              "1        136        3  ...        905      1988  2631    17     3          7   \n",
              "2        145        5  ...       1263      1716  2603    11     2          9   \n",
              "3        131        6  ...       1216      1786  2769    16     8         11   \n",
              "4        141        2  ...       1208      1212  1411     8     2         15   \n",
              "5        164        1  ...       1004      1654  1067    17     1         10   \n",
              "6        139        8  ...        381      1018  3220    13     8         18   \n",
              "7        187        4  ...        512      1149   700    16     3          5   \n",
              "8        174        7  ...        386       836  1099    17     1         20   \n",
              "9         93        5  ...       1137      1224   513    19    10         12   \n",
              "\n",
              "   three_g  touch_screen  wifi  price_range  \n",
              "0        0             0     1            1  \n",
              "1        1             1     0            2  \n",
              "2        1             1     0            2  \n",
              "3        1             0     0            2  \n",
              "4        1             1     0            1  \n",
              "5        1             0     0            1  \n",
              "6        1             0     1            3  \n",
              "7        1             1     1            0  \n",
              "8        1             0     0            0  \n",
              "9        1             0     0            0  \n",
              "\n",
              "[10 rows x 21 columns]"
            ],
            "text/html": [
              "\n",
              "  <div id=\"df-938a704c-568f-4af9-8531-c9977be7136b\" class=\"colab-df-container\">\n",
              "    <div>\n",
              "<style scoped>\n",
              "    .dataframe tbody tr th:only-of-type {\n",
              "        vertical-align: middle;\n",
              "    }\n",
              "\n",
              "    .dataframe tbody tr th {\n",
              "        vertical-align: top;\n",
              "    }\n",
              "\n",
              "    .dataframe thead th {\n",
              "        text-align: right;\n",
              "    }\n",
              "</style>\n",
              "<table border=\"1\" class=\"dataframe\">\n",
              "  <thead>\n",
              "    <tr style=\"text-align: right;\">\n",
              "      <th></th>\n",
              "      <th>battery_power</th>\n",
              "      <th>blue</th>\n",
              "      <th>clock_speed</th>\n",
              "      <th>dual_sim</th>\n",
              "      <th>fc</th>\n",
              "      <th>four_g</th>\n",
              "      <th>int_memory</th>\n",
              "      <th>m_dep</th>\n",
              "      <th>mobile_wt</th>\n",
              "      <th>n_cores</th>\n",
              "      <th>...</th>\n",
              "      <th>px_height</th>\n",
              "      <th>px_width</th>\n",
              "      <th>ram</th>\n",
              "      <th>sc_h</th>\n",
              "      <th>sc_w</th>\n",
              "      <th>talk_time</th>\n",
              "      <th>three_g</th>\n",
              "      <th>touch_screen</th>\n",
              "      <th>wifi</th>\n",
              "      <th>price_range</th>\n",
              "    </tr>\n",
              "  </thead>\n",
              "  <tbody>\n",
              "    <tr>\n",
              "      <th>0</th>\n",
              "      <td>842</td>\n",
              "      <td>0</td>\n",
              "      <td>2.2</td>\n",
              "      <td>0</td>\n",
              "      <td>1</td>\n",
              "      <td>0</td>\n",
              "      <td>7</td>\n",
              "      <td>0.6</td>\n",
              "      <td>188</td>\n",
              "      <td>2</td>\n",
              "      <td>...</td>\n",
              "      <td>20</td>\n",
              "      <td>756</td>\n",
              "      <td>2549</td>\n",
              "      <td>9</td>\n",
              "      <td>7</td>\n",
              "      <td>19</td>\n",
              "      <td>0</td>\n",
              "      <td>0</td>\n",
              "      <td>1</td>\n",
              "      <td>1</td>\n",
              "    </tr>\n",
              "    <tr>\n",
              "      <th>1</th>\n",
              "      <td>1021</td>\n",
              "      <td>1</td>\n",
              "      <td>0.5</td>\n",
              "      <td>1</td>\n",
              "      <td>0</td>\n",
              "      <td>1</td>\n",
              "      <td>53</td>\n",
              "      <td>0.7</td>\n",
              "      <td>136</td>\n",
              "      <td>3</td>\n",
              "      <td>...</td>\n",
              "      <td>905</td>\n",
              "      <td>1988</td>\n",
              "      <td>2631</td>\n",
              "      <td>17</td>\n",
              "      <td>3</td>\n",
              "      <td>7</td>\n",
              "      <td>1</td>\n",
              "      <td>1</td>\n",
              "      <td>0</td>\n",
              "      <td>2</td>\n",
              "    </tr>\n",
              "    <tr>\n",
              "      <th>2</th>\n",
              "      <td>563</td>\n",
              "      <td>1</td>\n",
              "      <td>0.5</td>\n",
              "      <td>1</td>\n",
              "      <td>2</td>\n",
              "      <td>1</td>\n",
              "      <td>41</td>\n",
              "      <td>0.9</td>\n",
              "      <td>145</td>\n",
              "      <td>5</td>\n",
              "      <td>...</td>\n",
              "      <td>1263</td>\n",
              "      <td>1716</td>\n",
              "      <td>2603</td>\n",
              "      <td>11</td>\n",
              "      <td>2</td>\n",
              "      <td>9</td>\n",
              "      <td>1</td>\n",
              "      <td>1</td>\n",
              "      <td>0</td>\n",
              "      <td>2</td>\n",
              "    </tr>\n",
              "    <tr>\n",
              "      <th>3</th>\n",
              "      <td>615</td>\n",
              "      <td>1</td>\n",
              "      <td>2.5</td>\n",
              "      <td>0</td>\n",
              "      <td>0</td>\n",
              "      <td>0</td>\n",
              "      <td>10</td>\n",
              "      <td>0.8</td>\n",
              "      <td>131</td>\n",
              "      <td>6</td>\n",
              "      <td>...</td>\n",
              "      <td>1216</td>\n",
              "      <td>1786</td>\n",
              "      <td>2769</td>\n",
              "      <td>16</td>\n",
              "      <td>8</td>\n",
              "      <td>11</td>\n",
              "      <td>1</td>\n",
              "      <td>0</td>\n",
              "      <td>0</td>\n",
              "      <td>2</td>\n",
              "    </tr>\n",
              "    <tr>\n",
              "      <th>4</th>\n",
              "      <td>1821</td>\n",
              "      <td>1</td>\n",
              "      <td>1.2</td>\n",
              "      <td>0</td>\n",
              "      <td>13</td>\n",
              "      <td>1</td>\n",
              "      <td>44</td>\n",
              "      <td>0.6</td>\n",
              "      <td>141</td>\n",
              "      <td>2</td>\n",
              "      <td>...</td>\n",
              "      <td>1208</td>\n",
              "      <td>1212</td>\n",
              "      <td>1411</td>\n",
              "      <td>8</td>\n",
              "      <td>2</td>\n",
              "      <td>15</td>\n",
              "      <td>1</td>\n",
              "      <td>1</td>\n",
              "      <td>0</td>\n",
              "      <td>1</td>\n",
              "    </tr>\n",
              "    <tr>\n",
              "      <th>5</th>\n",
              "      <td>1859</td>\n",
              "      <td>0</td>\n",
              "      <td>0.5</td>\n",
              "      <td>1</td>\n",
              "      <td>3</td>\n",
              "      <td>0</td>\n",
              "      <td>22</td>\n",
              "      <td>0.7</td>\n",
              "      <td>164</td>\n",
              "      <td>1</td>\n",
              "      <td>...</td>\n",
              "      <td>1004</td>\n",
              "      <td>1654</td>\n",
              "      <td>1067</td>\n",
              "      <td>17</td>\n",
              "      <td>1</td>\n",
              "      <td>10</td>\n",
              "      <td>1</td>\n",
              "      <td>0</td>\n",
              "      <td>0</td>\n",
              "      <td>1</td>\n",
              "    </tr>\n",
              "    <tr>\n",
              "      <th>6</th>\n",
              "      <td>1821</td>\n",
              "      <td>0</td>\n",
              "      <td>1.7</td>\n",
              "      <td>0</td>\n",
              "      <td>4</td>\n",
              "      <td>1</td>\n",
              "      <td>10</td>\n",
              "      <td>0.8</td>\n",
              "      <td>139</td>\n",
              "      <td>8</td>\n",
              "      <td>...</td>\n",
              "      <td>381</td>\n",
              "      <td>1018</td>\n",
              "      <td>3220</td>\n",
              "      <td>13</td>\n",
              "      <td>8</td>\n",
              "      <td>18</td>\n",
              "      <td>1</td>\n",
              "      <td>0</td>\n",
              "      <td>1</td>\n",
              "      <td>3</td>\n",
              "    </tr>\n",
              "    <tr>\n",
              "      <th>7</th>\n",
              "      <td>1954</td>\n",
              "      <td>0</td>\n",
              "      <td>0.5</td>\n",
              "      <td>1</td>\n",
              "      <td>0</td>\n",
              "      <td>0</td>\n",
              "      <td>24</td>\n",
              "      <td>0.8</td>\n",
              "      <td>187</td>\n",
              "      <td>4</td>\n",
              "      <td>...</td>\n",
              "      <td>512</td>\n",
              "      <td>1149</td>\n",
              "      <td>700</td>\n",
              "      <td>16</td>\n",
              "      <td>3</td>\n",
              "      <td>5</td>\n",
              "      <td>1</td>\n",
              "      <td>1</td>\n",
              "      <td>1</td>\n",
              "      <td>0</td>\n",
              "    </tr>\n",
              "    <tr>\n",
              "      <th>8</th>\n",
              "      <td>1445</td>\n",
              "      <td>1</td>\n",
              "      <td>0.5</td>\n",
              "      <td>0</td>\n",
              "      <td>0</td>\n",
              "      <td>0</td>\n",
              "      <td>53</td>\n",
              "      <td>0.7</td>\n",
              "      <td>174</td>\n",
              "      <td>7</td>\n",
              "      <td>...</td>\n",
              "      <td>386</td>\n",
              "      <td>836</td>\n",
              "      <td>1099</td>\n",
              "      <td>17</td>\n",
              "      <td>1</td>\n",
              "      <td>20</td>\n",
              "      <td>1</td>\n",
              "      <td>0</td>\n",
              "      <td>0</td>\n",
              "      <td>0</td>\n",
              "    </tr>\n",
              "    <tr>\n",
              "      <th>9</th>\n",
              "      <td>509</td>\n",
              "      <td>1</td>\n",
              "      <td>0.6</td>\n",
              "      <td>1</td>\n",
              "      <td>2</td>\n",
              "      <td>1</td>\n",
              "      <td>9</td>\n",
              "      <td>0.1</td>\n",
              "      <td>93</td>\n",
              "      <td>5</td>\n",
              "      <td>...</td>\n",
              "      <td>1137</td>\n",
              "      <td>1224</td>\n",
              "      <td>513</td>\n",
              "      <td>19</td>\n",
              "      <td>10</td>\n",
              "      <td>12</td>\n",
              "      <td>1</td>\n",
              "      <td>0</td>\n",
              "      <td>0</td>\n",
              "      <td>0</td>\n",
              "    </tr>\n",
              "  </tbody>\n",
              "</table>\n",
              "<p>10 rows × 21 columns</p>\n",
              "</div>\n",
              "    <div class=\"colab-df-buttons\">\n",
              "\n",
              "  <div class=\"colab-df-container\">\n",
              "    <button class=\"colab-df-convert\" onclick=\"convertToInteractive('df-938a704c-568f-4af9-8531-c9977be7136b')\"\n",
              "            title=\"Convert this dataframe to an interactive table.\"\n",
              "            style=\"display:none;\">\n",
              "\n",
              "  <svg xmlns=\"http://www.w3.org/2000/svg\" height=\"24px\" viewBox=\"0 -960 960 960\">\n",
              "    <path d=\"M120-120v-720h720v720H120Zm60-500h600v-160H180v160Zm220 220h160v-160H400v160Zm0 220h160v-160H400v160ZM180-400h160v-160H180v160Zm440 0h160v-160H620v160ZM180-180h160v-160H180v160Zm440 0h160v-160H620v160Z\"/>\n",
              "  </svg>\n",
              "    </button>\n",
              "\n",
              "  <style>\n",
              "    .colab-df-container {\n",
              "      display:flex;\n",
              "      gap: 12px;\n",
              "    }\n",
              "\n",
              "    .colab-df-convert {\n",
              "      background-color: #E8F0FE;\n",
              "      border: none;\n",
              "      border-radius: 50%;\n",
              "      cursor: pointer;\n",
              "      display: none;\n",
              "      fill: #1967D2;\n",
              "      height: 32px;\n",
              "      padding: 0 0 0 0;\n",
              "      width: 32px;\n",
              "    }\n",
              "\n",
              "    .colab-df-convert:hover {\n",
              "      background-color: #E2EBFA;\n",
              "      box-shadow: 0px 1px 2px rgba(60, 64, 67, 0.3), 0px 1px 3px 1px rgba(60, 64, 67, 0.15);\n",
              "      fill: #174EA6;\n",
              "    }\n",
              "\n",
              "    .colab-df-buttons div {\n",
              "      margin-bottom: 4px;\n",
              "    }\n",
              "\n",
              "    [theme=dark] .colab-df-convert {\n",
              "      background-color: #3B4455;\n",
              "      fill: #D2E3FC;\n",
              "    }\n",
              "\n",
              "    [theme=dark] .colab-df-convert:hover {\n",
              "      background-color: #434B5C;\n",
              "      box-shadow: 0px 1px 3px 1px rgba(0, 0, 0, 0.15);\n",
              "      filter: drop-shadow(0px 1px 2px rgba(0, 0, 0, 0.3));\n",
              "      fill: #FFFFFF;\n",
              "    }\n",
              "  </style>\n",
              "\n",
              "    <script>\n",
              "      const buttonEl =\n",
              "        document.querySelector('#df-938a704c-568f-4af9-8531-c9977be7136b button.colab-df-convert');\n",
              "      buttonEl.style.display =\n",
              "        google.colab.kernel.accessAllowed ? 'block' : 'none';\n",
              "\n",
              "      async function convertToInteractive(key) {\n",
              "        const element = document.querySelector('#df-938a704c-568f-4af9-8531-c9977be7136b');\n",
              "        const dataTable =\n",
              "          await google.colab.kernel.invokeFunction('convertToInteractive',\n",
              "                                                    [key], {});\n",
              "        if (!dataTable) return;\n",
              "\n",
              "        const docLinkHtml = 'Like what you see? Visit the ' +\n",
              "          '<a target=\"_blank\" href=https://colab.research.google.com/notebooks/data_table.ipynb>data table notebook</a>'\n",
              "          + ' to learn more about interactive tables.';\n",
              "        element.innerHTML = '';\n",
              "        dataTable['output_type'] = 'display_data';\n",
              "        await google.colab.output.renderOutput(dataTable, element);\n",
              "        const docLink = document.createElement('div');\n",
              "        docLink.innerHTML = docLinkHtml;\n",
              "        element.appendChild(docLink);\n",
              "      }\n",
              "    </script>\n",
              "  </div>\n",
              "\n",
              "\n",
              "<div id=\"df-8c1e2598-1c54-4aff-9280-02a7a00b1535\">\n",
              "  <button class=\"colab-df-quickchart\" onclick=\"quickchart('df-8c1e2598-1c54-4aff-9280-02a7a00b1535')\"\n",
              "            title=\"Suggest charts\"\n",
              "            style=\"display:none;\">\n",
              "\n",
              "<svg xmlns=\"http://www.w3.org/2000/svg\" height=\"24px\"viewBox=\"0 0 24 24\"\n",
              "     width=\"24px\">\n",
              "    <g>\n",
              "        <path d=\"M19 3H5c-1.1 0-2 .9-2 2v14c0 1.1.9 2 2 2h14c1.1 0 2-.9 2-2V5c0-1.1-.9-2-2-2zM9 17H7v-7h2v7zm4 0h-2V7h2v10zm4 0h-2v-4h2v4z\"/>\n",
              "    </g>\n",
              "</svg>\n",
              "  </button>\n",
              "\n",
              "<style>\n",
              "  .colab-df-quickchart {\n",
              "      --bg-color: #E8F0FE;\n",
              "      --fill-color: #1967D2;\n",
              "      --hover-bg-color: #E2EBFA;\n",
              "      --hover-fill-color: #174EA6;\n",
              "      --disabled-fill-color: #AAA;\n",
              "      --disabled-bg-color: #DDD;\n",
              "  }\n",
              "\n",
              "  [theme=dark] .colab-df-quickchart {\n",
              "      --bg-color: #3B4455;\n",
              "      --fill-color: #D2E3FC;\n",
              "      --hover-bg-color: #434B5C;\n",
              "      --hover-fill-color: #FFFFFF;\n",
              "      --disabled-bg-color: #3B4455;\n",
              "      --disabled-fill-color: #666;\n",
              "  }\n",
              "\n",
              "  .colab-df-quickchart {\n",
              "    background-color: var(--bg-color);\n",
              "    border: none;\n",
              "    border-radius: 50%;\n",
              "    cursor: pointer;\n",
              "    display: none;\n",
              "    fill: var(--fill-color);\n",
              "    height: 32px;\n",
              "    padding: 0;\n",
              "    width: 32px;\n",
              "  }\n",
              "\n",
              "  .colab-df-quickchart:hover {\n",
              "    background-color: var(--hover-bg-color);\n",
              "    box-shadow: 0 1px 2px rgba(60, 64, 67, 0.3), 0 1px 3px 1px rgba(60, 64, 67, 0.15);\n",
              "    fill: var(--button-hover-fill-color);\n",
              "  }\n",
              "\n",
              "  .colab-df-quickchart-complete:disabled,\n",
              "  .colab-df-quickchart-complete:disabled:hover {\n",
              "    background-color: var(--disabled-bg-color);\n",
              "    fill: var(--disabled-fill-color);\n",
              "    box-shadow: none;\n",
              "  }\n",
              "\n",
              "  .colab-df-spinner {\n",
              "    border: 2px solid var(--fill-color);\n",
              "    border-color: transparent;\n",
              "    border-bottom-color: var(--fill-color);\n",
              "    animation:\n",
              "      spin 1s steps(1) infinite;\n",
              "  }\n",
              "\n",
              "  @keyframes spin {\n",
              "    0% {\n",
              "      border-color: transparent;\n",
              "      border-bottom-color: var(--fill-color);\n",
              "      border-left-color: var(--fill-color);\n",
              "    }\n",
              "    20% {\n",
              "      border-color: transparent;\n",
              "      border-left-color: var(--fill-color);\n",
              "      border-top-color: var(--fill-color);\n",
              "    }\n",
              "    30% {\n",
              "      border-color: transparent;\n",
              "      border-left-color: var(--fill-color);\n",
              "      border-top-color: var(--fill-color);\n",
              "      border-right-color: var(--fill-color);\n",
              "    }\n",
              "    40% {\n",
              "      border-color: transparent;\n",
              "      border-right-color: var(--fill-color);\n",
              "      border-top-color: var(--fill-color);\n",
              "    }\n",
              "    60% {\n",
              "      border-color: transparent;\n",
              "      border-right-color: var(--fill-color);\n",
              "    }\n",
              "    80% {\n",
              "      border-color: transparent;\n",
              "      border-right-color: var(--fill-color);\n",
              "      border-bottom-color: var(--fill-color);\n",
              "    }\n",
              "    90% {\n",
              "      border-color: transparent;\n",
              "      border-bottom-color: var(--fill-color);\n",
              "    }\n",
              "  }\n",
              "</style>\n",
              "\n",
              "  <script>\n",
              "    async function quickchart(key) {\n",
              "      const quickchartButtonEl =\n",
              "        document.querySelector('#' + key + ' button');\n",
              "      quickchartButtonEl.disabled = true;  // To prevent multiple clicks.\n",
              "      quickchartButtonEl.classList.add('colab-df-spinner');\n",
              "      try {\n",
              "        const charts = await google.colab.kernel.invokeFunction(\n",
              "            'suggestCharts', [key], {});\n",
              "      } catch (error) {\n",
              "        console.error('Error during call to suggestCharts:', error);\n",
              "      }\n",
              "      quickchartButtonEl.classList.remove('colab-df-spinner');\n",
              "      quickchartButtonEl.classList.add('colab-df-quickchart-complete');\n",
              "    }\n",
              "    (() => {\n",
              "      let quickchartButtonEl =\n",
              "        document.querySelector('#df-8c1e2598-1c54-4aff-9280-02a7a00b1535 button');\n",
              "      quickchartButtonEl.style.display =\n",
              "        google.colab.kernel.accessAllowed ? 'block' : 'none';\n",
              "    })();\n",
              "  </script>\n",
              "</div>\n",
              "    </div>\n",
              "  </div>\n"
            ],
            "application/vnd.google.colaboratory.intrinsic+json": {
              "type": "dataframe",
              "variable_name": "df_train"
            }
          },
          "metadata": {},
          "execution_count": 10
        }
      ],
      "source": [
        "df_train = pd.read_csv(\"/content/train.csv\")\n",
        "print('This dataset has %d rows dan %d columns.\\n' % df_train.shape)\n",
        "df_train.head(10)"
      ]
    },
    {
      "cell_type": "markdown",
      "source": [
        "There are total 2,000 rows which contains the information of loans and there are 21 features.\n",
        "\n",
        "The TARGET feature determines whether the smartphone falls into a high-priced category. A value of 3 indicates that the phone is in the very high price range, signifying a premium or expensive device. A value of 2 denotes that the phone is in the high price range. A value of 1 indicates that the phone is in the medium price range. Conversely, a value of 0 indicates that the phone is not in the high price range, indicating a more affordable or budget-friendly device."
      ],
      "metadata": {
        "id": "INVmGF5TLKma"
      }
    },
    {
      "cell_type": "markdown",
      "source": [
        "# **Exploratory Data Analysis (EDA)**\n"
      ],
      "metadata": {
        "id": "cxayUb34OUBx"
      }
    },
    {
      "cell_type": "markdown",
      "source": [
        "**Check Data Types**"
      ],
      "metadata": {
        "id": "6xkXXPE8OZo0"
      }
    },
    {
      "cell_type": "code",
      "execution_count": 6,
      "metadata": {
        "colab": {
          "base_uri": "https://localhost:8080/"
        },
        "id": "0bTOLFD_P-Lz",
        "outputId": "1afbde73-bc2f-42b8-be76-928874e526bb"
      },
      "outputs": [
        {
          "output_type": "stream",
          "name": "stdout",
          "text": [
            "<class 'pandas.core.frame.DataFrame'>\n",
            "RangeIndex: 2000 entries, 0 to 1999\n",
            "Data columns (total 21 columns):\n",
            " #   Column         Non-Null Count  Dtype  \n",
            "---  ------         --------------  -----  \n",
            " 0   battery_power  2000 non-null   int64  \n",
            " 1   blue           2000 non-null   int64  \n",
            " 2   clock_speed    2000 non-null   float64\n",
            " 3   dual_sim       2000 non-null   int64  \n",
            " 4   fc             2000 non-null   int64  \n",
            " 5   four_g         2000 non-null   int64  \n",
            " 6   int_memory     2000 non-null   int64  \n",
            " 7   m_dep          2000 non-null   float64\n",
            " 8   mobile_wt      2000 non-null   int64  \n",
            " 9   n_cores        2000 non-null   int64  \n",
            " 10  pc             2000 non-null   int64  \n",
            " 11  px_height      2000 non-null   int64  \n",
            " 12  px_width       2000 non-null   int64  \n",
            " 13  ram            2000 non-null   int64  \n",
            " 14  sc_h           2000 non-null   int64  \n",
            " 15  sc_w           2000 non-null   int64  \n",
            " 16  talk_time      2000 non-null   int64  \n",
            " 17  three_g        2000 non-null   int64  \n",
            " 18  touch_screen   2000 non-null   int64  \n",
            " 19  wifi           2000 non-null   int64  \n",
            " 20  price_range    2000 non-null   int64  \n",
            "dtypes: float64(2), int64(19)\n",
            "memory usage: 328.2 KB\n"
          ]
        }
      ],
      "source": [
        "df_train.info()"
      ]
    },
    {
      "cell_type": "markdown",
      "source": [
        "**Visualization**"
      ],
      "metadata": {
        "id": "dQrE-KKnOjx6"
      }
    },
    {
      "cell_type": "code",
      "source": [
        "train = df_train.copy()"
      ],
      "metadata": {
        "id": "fgdqPjwiOrLj"
      },
      "execution_count": 74,
      "outputs": []
    },
    {
      "cell_type": "code",
      "source": [
        "train['ID'] = range(1, 2001)\n",
        "train.insert(0, 'ID', train.pop('ID'))"
      ],
      "metadata": {
        "id": "bqjAPgKSaast"
      },
      "execution_count": 75,
      "outputs": []
    },
    {
      "cell_type": "markdown",
      "source": [
        "**Univariate: Analysis of Smartphone Price Ranges**"
      ],
      "metadata": {
        "id": "yBNCHXa3OxFJ"
      }
    },
    {
      "cell_type": "code",
      "source": [
        "decode_map = {0: \"Low\", 1: \"Medium\", 2: \"High\", 3: \"Very High\"}\n",
        "def decode_sentiment(label):\n",
        "    return decode_map[int(label)]\n",
        "\n",
        "train['price_range'] = train['price_range'].apply(lambda x: decode_sentiment(x))"
      ],
      "metadata": {
        "id": "RMYhgj2YO0BY"
      },
      "execution_count": 77,
      "outputs": []
    },
    {
      "cell_type": "code",
      "source": [
        "target_grp = (train[['price_range']]\n",
        "                .groupby(\"price_range\")\n",
        "                .agg(COUNT=(\"price_range\",\"count\"))\n",
        "                .sort_values(by=[\"COUNT\"],ascending=False)\n",
        "                .reset_index()\n",
        "                )\n",
        "\n",
        "target_grp.style.background_gradient(cmap='viridis')"
      ],
      "metadata": {
        "colab": {
          "base_uri": "https://localhost:8080/",
          "height": 175
        },
        "id": "jNJzfJw5QHXt",
        "outputId": "51f894aa-1517-4be2-e54e-19dcb7742be1"
      },
      "execution_count": 78,
      "outputs": [
        {
          "output_type": "execute_result",
          "data": {
            "text/plain": [
              "<pandas.io.formats.style.Styler at 0x7c2936e06770>"
            ],
            "text/html": [
              "<style type=\"text/css\">\n",
              "#T_545a8_row0_col1, #T_545a8_row1_col1, #T_545a8_row2_col1, #T_545a8_row3_col1 {\n",
              "  background-color: #440154;\n",
              "  color: #f1f1f1;\n",
              "}\n",
              "</style>\n",
              "<table id=\"T_545a8\" class=\"dataframe\">\n",
              "  <thead>\n",
              "    <tr>\n",
              "      <th class=\"blank level0\" >&nbsp;</th>\n",
              "      <th id=\"T_545a8_level0_col0\" class=\"col_heading level0 col0\" >price_range</th>\n",
              "      <th id=\"T_545a8_level0_col1\" class=\"col_heading level0 col1\" >COUNT</th>\n",
              "    </tr>\n",
              "  </thead>\n",
              "  <tbody>\n",
              "    <tr>\n",
              "      <th id=\"T_545a8_level0_row0\" class=\"row_heading level0 row0\" >0</th>\n",
              "      <td id=\"T_545a8_row0_col0\" class=\"data row0 col0\" >High</td>\n",
              "      <td id=\"T_545a8_row0_col1\" class=\"data row0 col1\" >500</td>\n",
              "    </tr>\n",
              "    <tr>\n",
              "      <th id=\"T_545a8_level0_row1\" class=\"row_heading level0 row1\" >1</th>\n",
              "      <td id=\"T_545a8_row1_col0\" class=\"data row1 col0\" >Low</td>\n",
              "      <td id=\"T_545a8_row1_col1\" class=\"data row1 col1\" >500</td>\n",
              "    </tr>\n",
              "    <tr>\n",
              "      <th id=\"T_545a8_level0_row2\" class=\"row_heading level0 row2\" >2</th>\n",
              "      <td id=\"T_545a8_row2_col0\" class=\"data row2 col0\" >Medium</td>\n",
              "      <td id=\"T_545a8_row2_col1\" class=\"data row2 col1\" >500</td>\n",
              "    </tr>\n",
              "    <tr>\n",
              "      <th id=\"T_545a8_level0_row3\" class=\"row_heading level0 row3\" >3</th>\n",
              "      <td id=\"T_545a8_row3_col0\" class=\"data row3 col0\" >Very High</td>\n",
              "      <td id=\"T_545a8_row3_col1\" class=\"data row3 col1\" >500</td>\n",
              "    </tr>\n",
              "  </tbody>\n",
              "</table>\n"
            ]
          },
          "metadata": {},
          "execution_count": 78
        }
      ]
    },
    {
      "cell_type": "code",
      "source": [
        "grp = train['price_range'].value_counts(normalize=True)\n",
        "grp.reset_index().style.background_gradient(cmap='viridis')"
      ],
      "metadata": {
        "colab": {
          "base_uri": "https://localhost:8080/",
          "height": 175
        },
        "id": "_PTakB9QQcgd",
        "outputId": "ec63047c-3e64-46dc-e301-503e78522970"
      },
      "execution_count": 79,
      "outputs": [
        {
          "output_type": "execute_result",
          "data": {
            "text/plain": [
              "<pandas.io.formats.style.Styler at 0x7c293707ccd0>"
            ],
            "text/html": [
              "<style type=\"text/css\">\n",
              "#T_91af8_row0_col1, #T_91af8_row1_col1, #T_91af8_row2_col1, #T_91af8_row3_col1 {\n",
              "  background-color: #440154;\n",
              "  color: #f1f1f1;\n",
              "}\n",
              "</style>\n",
              "<table id=\"T_91af8\" class=\"dataframe\">\n",
              "  <thead>\n",
              "    <tr>\n",
              "      <th class=\"blank level0\" >&nbsp;</th>\n",
              "      <th id=\"T_91af8_level0_col0\" class=\"col_heading level0 col0\" >index</th>\n",
              "      <th id=\"T_91af8_level0_col1\" class=\"col_heading level0 col1\" >price_range</th>\n",
              "    </tr>\n",
              "  </thead>\n",
              "  <tbody>\n",
              "    <tr>\n",
              "      <th id=\"T_91af8_level0_row0\" class=\"row_heading level0 row0\" >0</th>\n",
              "      <td id=\"T_91af8_row0_col0\" class=\"data row0 col0\" >Medium</td>\n",
              "      <td id=\"T_91af8_row0_col1\" class=\"data row0 col1\" >0.250000</td>\n",
              "    </tr>\n",
              "    <tr>\n",
              "      <th id=\"T_91af8_level0_row1\" class=\"row_heading level0 row1\" >1</th>\n",
              "      <td id=\"T_91af8_row1_col0\" class=\"data row1 col0\" >High</td>\n",
              "      <td id=\"T_91af8_row1_col1\" class=\"data row1 col1\" >0.250000</td>\n",
              "    </tr>\n",
              "    <tr>\n",
              "      <th id=\"T_91af8_level0_row2\" class=\"row_heading level0 row2\" >2</th>\n",
              "      <td id=\"T_91af8_row2_col0\" class=\"data row2 col0\" >Very High</td>\n",
              "      <td id=\"T_91af8_row2_col1\" class=\"data row2 col1\" >0.250000</td>\n",
              "    </tr>\n",
              "    <tr>\n",
              "      <th id=\"T_91af8_level0_row3\" class=\"row_heading level0 row3\" >3</th>\n",
              "      <td id=\"T_91af8_row3_col0\" class=\"data row3 col0\" >Low</td>\n",
              "      <td id=\"T_91af8_row3_col1\" class=\"data row3 col1\" >0.250000</td>\n",
              "    </tr>\n",
              "  </tbody>\n",
              "</table>\n"
            ]
          },
          "metadata": {},
          "execution_count": 79
        }
      ]
    },
    {
      "cell_type": "code",
      "source": [
        "fig = plt.figure(figsize = (10,5))\n",
        "grp.plot(kind='bar', color= ['mediumaquamarine', 'turquoise', 'Teal', 'Aquamarine'], alpha = 0.9, rot=0)\n",
        "plt.title('The Distribution of Price Range\\n', fontsize=14)\n",
        "plt.show()"
      ],
      "metadata": {
        "colab": {
          "base_uri": "https://localhost:8080/",
          "height": 491
        },
        "id": "lCTv-bA1Qq3p",
        "outputId": "85909318-9cd5-4c5b-829d-a0af631d01e3"
      },
      "execution_count": 80,
      "outputs": [
        {
          "output_type": "display_data",
          "data": {
            "text/plain": [
              "<Figure size 1000x500 with 1 Axes>"
            ],
            "image/png": "[encoded data removed]"
          },
          "metadata": {}
        }
      ]
    },
    {
      "cell_type": "markdown",
      "source": [
        "**Bivariate: Categorical Features Vs Price Range**"
      ],
      "metadata": {
        "id": "mOGgmkXaTWxZ"
      }
    },
    {
      "cell_type": "markdown",
      "source": [
        "Bluetooth, Dual Slim, 4G, 3G, touchscree, and wifi"
      ],
      "metadata": {
        "id": "edRcaG-2TlFA"
      }
    },
    {
      "cell_type": "code",
      "execution_count": 81,
      "metadata": {
        "colab": {
          "base_uri": "https://localhost:8080/",
          "height": 1000
        },
        "id": "gKwYCndxWDIr",
        "outputId": "6604ebcc-1999-4261-fe39-7d70551ad93e"
      },
      "outputs": [
        {
          "output_type": "execute_result",
          "data": {
            "text/plain": [
              "<Axes: title={'center': 'Price Range By WiFi\\n'}, xlabel='wifi', ylabel='count'>"
            ]
          },
          "metadata": {},
          "execution_count": 81
        },
        {
          "output_type": "display_data",
          "data": {
            "text/plain": [
              "<Figure size 1500x2200 with 6 Axes>"
            ],
            "image/png": "[encoded data removed]"
          },
          "metadata": {}
        }
      ],
      "source": [
        "# visualization pt 1\n",
        "sns.set_style('whitegrid')\n",
        "fig, ax = plt.subplots(3,2, figsize=(15,22))\n",
        "sns.set_context('paper', font_scale=1)\n",
        "\n",
        "ax[0][0].set_title('Price Range By Bluetooth\\n', fontweight='bold', fontsize=12)\n",
        "sns.countplot(x='blue', data = train, hue = 'price_range', palette = 'viridis', ax=ax[0][0])\n",
        "\n",
        "ax[0][1].set_title('Price Range By Dual Sim\\n', fontweight='bold', fontsize=12)\n",
        "sns.countplot(x='dual_sim', data = train, hue = 'price_range', palette = 'viridis', ax=ax[0][1])\n",
        "\n",
        "ax[1][0].set_title('\\nPrice Range By 4G\\n', fontweight='bold', fontsize=12)\n",
        "sns.countplot(x='four_g', data = train, hue = 'price_range', palette = 'viridis', ax=ax[1][0])\n",
        "\n",
        "ax[1][1].set_title('\\nPrice Range By 3G\\n', fontweight='bold', fontsize=12)\n",
        "sns.countplot(x='three_g', data = train, hue = 'price_range', palette = 'viridis', ax=ax[1][1])\n",
        "\n",
        "ax[2][0].set_title('Price Range By touchscreen\\n', fontweight='bold', fontsize=12)\n",
        "sns.countplot(x='touch_screen', data = train, hue = 'price_range', palette = 'viridis', ax=ax[2][0])\n",
        "\n",
        "ax[2][1].set_title('Price Range By WiFi\\n', fontweight='bold', fontsize=12)\n",
        "sns.countplot(x='wifi', data = train, hue = 'price_range', palette = 'viridis', ax=ax[2][1])"
      ]
    },
    {
      "cell_type": "markdown",
      "source": [
        "**Bluetooth Vs Price Range**"
      ],
      "metadata": {
        "id": "kTDqN9z8Vygt"
      }
    },
    {
      "cell_type": "code",
      "source": [
        "ct = train.groupby(by=['blue', 'price_range'], as_index=False)['ID'].count()\n",
        "print('Price Range By Bluetooth')\n",
        "ct.sort_values(by='ID', ascending=False)\n",
        "ct.style.background_gradient(cmap='Pastel1')"
      ],
      "metadata": {
        "colab": {
          "base_uri": "https://localhost:8080/",
          "height": 318
        },
        "id": "Q8qRkmkJVuAy",
        "outputId": "1b542bfd-ab84-45e6-ee8e-a7537031bebf"
      },
      "execution_count": 96,
      "outputs": [
        {
          "output_type": "stream",
          "name": "stdout",
          "text": [
            "Price Range By Bluetooth\n"
          ]
        },
        {
          "output_type": "execute_result",
          "data": {
            "text/plain": [
              "<pandas.io.formats.style.Styler at 0x7c2936ef09a0>"
            ],
            "text/html": [
              "<style type=\"text/css\">\n",
              "#T_06fe3_row0_col0, #T_06fe3_row1_col0, #T_06fe3_row2_col0, #T_06fe3_row3_col0, #T_06fe3_row3_col2 {\n",
              "  background-color: #fbb4ae;\n",
              "  color: #000000;\n",
              "}\n",
              "#T_06fe3_row0_col2, #T_06fe3_row1_col2, #T_06fe3_row4_col0, #T_06fe3_row5_col0, #T_06fe3_row6_col0, #T_06fe3_row7_col0, #T_06fe3_row7_col2 {\n",
              "  background-color: #f2f2f2;\n",
              "  color: #000000;\n",
              "}\n",
              "#T_06fe3_row2_col2 {\n",
              "  background-color: #fddaec;\n",
              "  color: #000000;\n",
              "}\n",
              "#T_06fe3_row4_col2, #T_06fe3_row5_col2 {\n",
              "  background-color: #b3cde3;\n",
              "  color: #000000;\n",
              "}\n",
              "#T_06fe3_row6_col2 {\n",
              "  background-color: #ccebc5;\n",
              "  color: #000000;\n",
              "}\n",
              "</style>\n",
              "<table id=\"T_06fe3\" class=\"dataframe\">\n",
              "  <thead>\n",
              "    <tr>\n",
              "      <th class=\"blank level0\" >&nbsp;</th>\n",
              "      <th id=\"T_06fe3_level0_col0\" class=\"col_heading level0 col0\" >blue</th>\n",
              "      <th id=\"T_06fe3_level0_col1\" class=\"col_heading level0 col1\" >price_range</th>\n",
              "      <th id=\"T_06fe3_level0_col2\" class=\"col_heading level0 col2\" >ID</th>\n",
              "    </tr>\n",
              "  </thead>\n",
              "  <tbody>\n",
              "    <tr>\n",
              "      <th id=\"T_06fe3_level0_row0\" class=\"row_heading level0 row0\" >0</th>\n",
              "      <td id=\"T_06fe3_row0_col0\" class=\"data row0 col0\" >0</td>\n",
              "      <td id=\"T_06fe3_row0_col1\" class=\"data row0 col1\" >High</td>\n",
              "      <td id=\"T_06fe3_row0_col2\" class=\"data row0 col2\" >257</td>\n",
              "    </tr>\n",
              "    <tr>\n",
              "      <th id=\"T_06fe3_level0_row1\" class=\"row_heading level0 row1\" >1</th>\n",
              "      <td id=\"T_06fe3_row1_col0\" class=\"data row1 col0\" >0</td>\n",
              "      <td id=\"T_06fe3_row1_col1\" class=\"data row1 col1\" >Low</td>\n",
              "      <td id=\"T_06fe3_row1_col2\" class=\"data row1 col2\" >257</td>\n",
              "    </tr>\n",
              "    <tr>\n",
              "      <th id=\"T_06fe3_level0_row2\" class=\"row_heading level0 row2\" >2</th>\n",
              "      <td id=\"T_06fe3_row2_col0\" class=\"data row2 col0\" >0</td>\n",
              "      <td id=\"T_06fe3_row2_col1\" class=\"data row2 col1\" >Medium</td>\n",
              "      <td id=\"T_06fe3_row2_col2\" class=\"data row2 col2\" >255</td>\n",
              "    </tr>\n",
              "    <tr>\n",
              "      <th id=\"T_06fe3_level0_row3\" class=\"row_heading level0 row3\" >3</th>\n",
              "      <td id=\"T_06fe3_row3_col0\" class=\"data row3 col0\" >0</td>\n",
              "      <td id=\"T_06fe3_row3_col1\" class=\"data row3 col1\" >Very High</td>\n",
              "      <td id=\"T_06fe3_row3_col2\" class=\"data row3 col2\" >241</td>\n",
              "    </tr>\n",
              "    <tr>\n",
              "      <th id=\"T_06fe3_level0_row4\" class=\"row_heading level0 row4\" >4</th>\n",
              "      <td id=\"T_06fe3_row4_col0\" class=\"data row4 col0\" >1</td>\n",
              "      <td id=\"T_06fe3_row4_col1\" class=\"data row4 col1\" >High</td>\n",
              "      <td id=\"T_06fe3_row4_col2\" class=\"data row4 col2\" >243</td>\n",
              "    </tr>\n",
              "    <tr>\n",
              "      <th id=\"T_06fe3_level0_row5\" class=\"row_heading level0 row5\" >5</th>\n",
              "      <td id=\"T_06fe3_row5_col0\" class=\"data row5 col0\" >1</td>\n",
              "      <td id=\"T_06fe3_row5_col1\" class=\"data row5 col1\" >Low</td>\n",
              "      <td id=\"T_06fe3_row5_col2\" class=\"data row5 col2\" >243</td>\n",
              "    </tr>\n",
              "    <tr>\n",
              "      <th id=\"T_06fe3_level0_row6\" class=\"row_heading level0 row6\" >6</th>\n",
              "      <td id=\"T_06fe3_row6_col0\" class=\"data row6 col0\" >1</td>\n",
              "      <td id=\"T_06fe3_row6_col1\" class=\"data row6 col1\" >Medium</td>\n",
              "      <td id=\"T_06fe3_row6_col2\" class=\"data row6 col2\" >245</td>\n",
              "    </tr>\n",
              "    <tr>\n",
              "      <th id=\"T_06fe3_level0_row7\" class=\"row_heading level0 row7\" >7</th>\n",
              "      <td id=\"T_06fe3_row7_col0\" class=\"data row7 col0\" >1</td>\n",
              "      <td id=\"T_06fe3_row7_col1\" class=\"data row7 col1\" >Very High</td>\n",
              "      <td id=\"T_06fe3_row7_col2\" class=\"data row7 col2\" >259</td>\n",
              "    </tr>\n",
              "  </tbody>\n",
              "</table>\n"
            ]
          },
          "metadata": {},
          "execution_count": 96
        }
      ]
    },
    {
      "cell_type": "markdown",
      "source": [
        "It can be seen that the distribution of price ranges varies between devices without Bluetooth feature and those with Bluetooth feature. Devices without bluetooh have the highest count in the 'High' Price range and with Bluetooth have the highest count in the 'Very High' price range. Indicating a potential difference in pricing strategies or product categories based on the Bluetooth feature."
      ],
      "metadata": {
        "id": "zRIb_jqMi437"
      }
    },
    {
      "cell_type": "markdown",
      "source": [
        "**Dual Sim Vs Price Range**"
      ],
      "metadata": {
        "id": "NgK4ZZ0ih8m6"
      }
    },
    {
      "cell_type": "code",
      "source": [
        "ct = train.groupby(by=['dual_sim', 'price_range'], as_index=False)['ID'].count()\n",
        "print('Price Range By Dual Sim')\n",
        "ct.sort_values(by='ID', ascending=False)\n",
        "ct.style.background_gradient(cmap='Pastel1')"
      ],
      "metadata": {
        "colab": {
          "base_uri": "https://localhost:8080/",
          "height": 318
        },
        "id": "VSNDyxYNi3qU",
        "outputId": "d30d5f8a-8359-4a40-db46-523435d9196d"
      },
      "execution_count": 99,
      "outputs": [
        {
          "output_type": "stream",
          "name": "stdout",
          "text": [
            "Price Range By Dual Sim\n"
          ]
        },
        {
          "output_type": "execute_result",
          "data": {
            "text/plain": [
              "<pandas.io.formats.style.Styler at 0x7c29368919f0>"
            ],
            "text/html": [
              "<style type=\"text/css\">\n",
              "#T_509f9_row0_col0, #T_509f9_row1_col0, #T_509f9_row2_col0, #T_509f9_row3_col0, #T_509f9_row3_col2 {\n",
              "  background-color: #fbb4ae;\n",
              "  color: #000000;\n",
              "}\n",
              "#T_509f9_row0_col2, #T_509f9_row1_col2, #T_509f9_row4_col2, #T_509f9_row5_col2 {\n",
              "  background-color: #fed9a6;\n",
              "  color: #000000;\n",
              "}\n",
              "#T_509f9_row2_col2 {\n",
              "  background-color: #decbe4;\n",
              "  color: #000000;\n",
              "}\n",
              "#T_509f9_row4_col0, #T_509f9_row5_col0, #T_509f9_row6_col0, #T_509f9_row7_col0, #T_509f9_row7_col2 {\n",
              "  background-color: #f2f2f2;\n",
              "  color: #000000;\n",
              "}\n",
              "#T_509f9_row6_col2 {\n",
              "  background-color: #e5d8bd;\n",
              "  color: #000000;\n",
              "}\n",
              "</style>\n",
              "<table id=\"T_509f9\" class=\"dataframe\">\n",
              "  <thead>\n",
              "    <tr>\n",
              "      <th class=\"blank level0\" >&nbsp;</th>\n",
              "      <th id=\"T_509f9_level0_col0\" class=\"col_heading level0 col0\" >dual_sim</th>\n",
              "      <th id=\"T_509f9_level0_col1\" class=\"col_heading level0 col1\" >price_range</th>\n",
              "      <th id=\"T_509f9_level0_col2\" class=\"col_heading level0 col2\" >ID</th>\n",
              "    </tr>\n",
              "  </thead>\n",
              "  <tbody>\n",
              "    <tr>\n",
              "      <th id=\"T_509f9_level0_row0\" class=\"row_heading level0 row0\" >0</th>\n",
              "      <td id=\"T_509f9_row0_col0\" class=\"data row0 col0\" >0</td>\n",
              "      <td id=\"T_509f9_row0_col1\" class=\"data row0 col1\" >High</td>\n",
              "      <td id=\"T_509f9_row0_col2\" class=\"data row0 col2\" >251</td>\n",
              "    </tr>\n",
              "    <tr>\n",
              "      <th id=\"T_509f9_level0_row1\" class=\"row_heading level0 row1\" >1</th>\n",
              "      <td id=\"T_509f9_row1_col0\" class=\"data row1 col0\" >0</td>\n",
              "      <td id=\"T_509f9_row1_col1\" class=\"data row1 col1\" >Low</td>\n",
              "      <td id=\"T_509f9_row1_col2\" class=\"data row1 col2\" >250</td>\n",
              "    </tr>\n",
              "    <tr>\n",
              "      <th id=\"T_509f9_level0_row2\" class=\"row_heading level0 row2\" >2</th>\n",
              "      <td id=\"T_509f9_row2_col0\" class=\"data row2 col0\" >0</td>\n",
              "      <td id=\"T_509f9_row2_col1\" class=\"data row2 col1\" >Medium</td>\n",
              "      <td id=\"T_509f9_row2_col2\" class=\"data row2 col2\" >245</td>\n",
              "    </tr>\n",
              "    <tr>\n",
              "      <th id=\"T_509f9_level0_row3\" class=\"row_heading level0 row3\" >3</th>\n",
              "      <td id=\"T_509f9_row3_col0\" class=\"data row3 col0\" >0</td>\n",
              "      <td id=\"T_509f9_row3_col1\" class=\"data row3 col1\" >Very High</td>\n",
              "      <td id=\"T_509f9_row3_col2\" class=\"data row3 col2\" >235</td>\n",
              "    </tr>\n",
              "    <tr>\n",
              "      <th id=\"T_509f9_level0_row4\" class=\"row_heading level0 row4\" >4</th>\n",
              "      <td id=\"T_509f9_row4_col0\" class=\"data row4 col0\" >1</td>\n",
              "      <td id=\"T_509f9_row4_col1\" class=\"data row4 col1\" >High</td>\n",
              "      <td id=\"T_509f9_row4_col2\" class=\"data row4 col2\" >249</td>\n",
              "    </tr>\n",
              "    <tr>\n",
              "      <th id=\"T_509f9_level0_row5\" class=\"row_heading level0 row5\" >5</th>\n",
              "      <td id=\"T_509f9_row5_col0\" class=\"data row5 col0\" >1</td>\n",
              "      <td id=\"T_509f9_row5_col1\" class=\"data row5 col1\" >Low</td>\n",
              "      <td id=\"T_509f9_row5_col2\" class=\"data row5 col2\" >250</td>\n",
              "    </tr>\n",
              "    <tr>\n",
              "      <th id=\"T_509f9_level0_row6\" class=\"row_heading level0 row6\" >6</th>\n",
              "      <td id=\"T_509f9_row6_col0\" class=\"data row6 col0\" >1</td>\n",
              "      <td id=\"T_509f9_row6_col1\" class=\"data row6 col1\" >Medium</td>\n",
              "      <td id=\"T_509f9_row6_col2\" class=\"data row6 col2\" >255</td>\n",
              "    </tr>\n",
              "    <tr>\n",
              "      <th id=\"T_509f9_level0_row7\" class=\"row_heading level0 row7\" >7</th>\n",
              "      <td id=\"T_509f9_row7_col0\" class=\"data row7 col0\" >1</td>\n",
              "      <td id=\"T_509f9_row7_col1\" class=\"data row7 col1\" >Very High</td>\n",
              "      <td id=\"T_509f9_row7_col2\" class=\"data row7 col2\" >265</td>\n",
              "    </tr>\n",
              "  </tbody>\n",
              "</table>\n"
            ]
          },
          "metadata": {},
          "execution_count": 99
        }
      ]
    },
    {
      "cell_type": "markdown",
      "source": [
        "It can be seen that the distribution of price ranges varies between devices with dual sim feature and those without dual sim feature. Devices without dual sim have the highest count in the 'High' Price range and with dual sim have the highest count in the 'Very High' price range. Indicating a potential difference in pricing strategies or product categories based on the dual sim feature."
      ],
      "metadata": {
        "id": "OQyaOEqijFj9"
      }
    },
    {
      "cell_type": "markdown",
      "source": [
        "**4G Vs Price Range**"
      ],
      "metadata": {
        "id": "IE_mowAjjGB8"
      }
    },
    {
      "cell_type": "code",
      "source": [
        "ct = train.groupby(by=['four_g', 'price_range'], as_index=False)['ID'].count()\n",
        "print('Price Range By 4G')\n",
        "ct.sort_values(by='ID', ascending=False)\n",
        "ct.style.background_gradient(cmap='Pastel1')"
      ],
      "metadata": {
        "colab": {
          "base_uri": "https://localhost:8080/",
          "height": 318
        },
        "id": "Jk6MhkW0jHC7",
        "outputId": "19690c40-f3be-4c3e-f45f-a78f99a3bb64"
      },
      "execution_count": 100,
      "outputs": [
        {
          "output_type": "stream",
          "name": "stdout",
          "text": [
            "Price Range By 4G\n"
          ]
        },
        {
          "output_type": "execute_result",
          "data": {
            "text/plain": [
              "<pandas.io.formats.style.Styler at 0x7c2936890f70>"
            ],
            "text/html": [
              "<style type=\"text/css\">\n",
              "#T_826de_row0_col0, #T_826de_row1_col0, #T_826de_row2_col0, #T_826de_row3_col0, #T_826de_row3_col2 {\n",
              "  background-color: #fbb4ae;\n",
              "  color: #000000;\n",
              "}\n",
              "#T_826de_row0_col2 {\n",
              "  background-color: #ffffcc;\n",
              "  color: #000000;\n",
              "}\n",
              "#T_826de_row1_col2, #T_826de_row2_col2 {\n",
              "  background-color: #ccebc5;\n",
              "  color: #000000;\n",
              "}\n",
              "#T_826de_row4_col0, #T_826de_row5_col0, #T_826de_row6_col0, #T_826de_row7_col0, #T_826de_row7_col2 {\n",
              "  background-color: #f2f2f2;\n",
              "  color: #000000;\n",
              "}\n",
              "#T_826de_row4_col2 {\n",
              "  background-color: #decbe4;\n",
              "  color: #000000;\n",
              "}\n",
              "#T_826de_row5_col2, #T_826de_row6_col2 {\n",
              "  background-color: #e5d8bd;\n",
              "  color: #000000;\n",
              "}\n",
              "</style>\n",
              "<table id=\"T_826de\" class=\"dataframe\">\n",
              "  <thead>\n",
              "    <tr>\n",
              "      <th class=\"blank level0\" >&nbsp;</th>\n",
              "      <th id=\"T_826de_level0_col0\" class=\"col_heading level0 col0\" >four_g</th>\n",
              "      <th id=\"T_826de_level0_col1\" class=\"col_heading level0 col1\" >price_range</th>\n",
              "      <th id=\"T_826de_level0_col2\" class=\"col_heading level0 col2\" >ID</th>\n",
              "    </tr>\n",
              "  </thead>\n",
              "  <tbody>\n",
              "    <tr>\n",
              "      <th id=\"T_826de_level0_row0\" class=\"row_heading level0 row0\" >0</th>\n",
              "      <td id=\"T_826de_row0_col0\" class=\"data row0 col0\" >0</td>\n",
              "      <td id=\"T_826de_row0_col1\" class=\"data row0 col1\" >High</td>\n",
              "      <td id=\"T_826de_row0_col2\" class=\"data row0 col2\" >253</td>\n",
              "    </tr>\n",
              "    <tr>\n",
              "      <th id=\"T_826de_level0_row1\" class=\"row_heading level0 row1\" >1</th>\n",
              "      <td id=\"T_826de_row1_col0\" class=\"data row1 col0\" >0</td>\n",
              "      <td id=\"T_826de_row1_col1\" class=\"data row1 col1\" >Low</td>\n",
              "      <td id=\"T_826de_row1_col2\" class=\"data row1 col2\" >241</td>\n",
              "    </tr>\n",
              "    <tr>\n",
              "      <th id=\"T_826de_level0_row2\" class=\"row_heading level0 row2\" >2</th>\n",
              "      <td id=\"T_826de_row2_col0\" class=\"data row2 col0\" >0</td>\n",
              "      <td id=\"T_826de_row2_col1\" class=\"data row2 col1\" >Medium</td>\n",
              "      <td id=\"T_826de_row2_col2\" class=\"data row2 col2\" >238</td>\n",
              "    </tr>\n",
              "    <tr>\n",
              "      <th id=\"T_826de_level0_row3\" class=\"row_heading level0 row3\" >3</th>\n",
              "      <td id=\"T_826de_row3_col0\" class=\"data row3 col0\" >0</td>\n",
              "      <td id=\"T_826de_row3_col1\" class=\"data row3 col1\" >Very High</td>\n",
              "      <td id=\"T_826de_row3_col2\" class=\"data row3 col2\" >225</td>\n",
              "    </tr>\n",
              "    <tr>\n",
              "      <th id=\"T_826de_level0_row4\" class=\"row_heading level0 row4\" >4</th>\n",
              "      <td id=\"T_826de_row4_col0\" class=\"data row4 col0\" >1</td>\n",
              "      <td id=\"T_826de_row4_col1\" class=\"data row4 col1\" >High</td>\n",
              "      <td id=\"T_826de_row4_col2\" class=\"data row4 col2\" >247</td>\n",
              "    </tr>\n",
              "    <tr>\n",
              "      <th id=\"T_826de_level0_row5\" class=\"row_heading level0 row5\" >5</th>\n",
              "      <td id=\"T_826de_row5_col0\" class=\"data row5 col0\" >1</td>\n",
              "      <td id=\"T_826de_row5_col1\" class=\"data row5 col1\" >Low</td>\n",
              "      <td id=\"T_826de_row5_col2\" class=\"data row5 col2\" >259</td>\n",
              "    </tr>\n",
              "    <tr>\n",
              "      <th id=\"T_826de_level0_row6\" class=\"row_heading level0 row6\" >6</th>\n",
              "      <td id=\"T_826de_row6_col0\" class=\"data row6 col0\" >1</td>\n",
              "      <td id=\"T_826de_row6_col1\" class=\"data row6 col1\" >Medium</td>\n",
              "      <td id=\"T_826de_row6_col2\" class=\"data row6 col2\" >262</td>\n",
              "    </tr>\n",
              "    <tr>\n",
              "      <th id=\"T_826de_level0_row7\" class=\"row_heading level0 row7\" >7</th>\n",
              "      <td id=\"T_826de_row7_col0\" class=\"data row7 col0\" >1</td>\n",
              "      <td id=\"T_826de_row7_col1\" class=\"data row7 col1\" >Very High</td>\n",
              "      <td id=\"T_826de_row7_col2\" class=\"data row7 col2\" >275</td>\n",
              "    </tr>\n",
              "  </tbody>\n",
              "</table>\n"
            ]
          },
          "metadata": {},
          "execution_count": 100
        }
      ]
    },
    {
      "cell_type": "markdown",
      "source": [
        "It can be seen that the distribution of price ranges varies between devices with 4G. Devices without 4G have the highest count in the 'High' Price range and with 4G have the highest count in the 'Very High' price range. Indicating a potential difference in pricing strategies or product categories based on the 4G feature."
      ],
      "metadata": {
        "id": "J194MH2YjJOr"
      }
    },
    {
      "cell_type": "markdown",
      "source": [
        "**3G Vs Price Range**"
      ],
      "metadata": {
        "id": "I95fQfB0jKae"
      }
    },
    {
      "cell_type": "code",
      "source": [
        "ct = train.groupby(by=['three_g', 'price_range'], as_index=False)['ID'].count()\n",
        "print('Price Range By 3G')\n",
        "ct.sort_values(by='ID', ascending=False)\n",
        "ct.style.background_gradient(cmap='Pastel1')"
      ],
      "metadata": {
        "colab": {
          "base_uri": "https://localhost:8080/",
          "height": 318
        },
        "id": "67Ic3NGPjK9Q",
        "outputId": "18ca6ab1-d938-4811-fe17-0b1317430e13"
      },
      "execution_count": 101,
      "outputs": [
        {
          "output_type": "stream",
          "name": "stdout",
          "text": [
            "Price Range By 3G\n"
          ]
        },
        {
          "output_type": "execute_result",
          "data": {
            "text/plain": [
              "<pandas.io.formats.style.Styler at 0x7c2936ef3e80>"
            ],
            "text/html": [
              "<style type=\"text/css\">\n",
              "#T_a0771_row0_col0, #T_a0771_row0_col2, #T_a0771_row1_col0, #T_a0771_row1_col2, #T_a0771_row2_col0, #T_a0771_row2_col2, #T_a0771_row3_col0, #T_a0771_row3_col2 {\n",
              "  background-color: #fbb4ae;\n",
              "  color: #000000;\n",
              "}\n",
              "#T_a0771_row4_col0, #T_a0771_row4_col2, #T_a0771_row5_col0, #T_a0771_row5_col2, #T_a0771_row6_col0, #T_a0771_row6_col2, #T_a0771_row7_col0, #T_a0771_row7_col2 {\n",
              "  background-color: #f2f2f2;\n",
              "  color: #000000;\n",
              "}\n",
              "</style>\n",
              "<table id=\"T_a0771\" class=\"dataframe\">\n",
              "  <thead>\n",
              "    <tr>\n",
              "      <th class=\"blank level0\" >&nbsp;</th>\n",
              "      <th id=\"T_a0771_level0_col0\" class=\"col_heading level0 col0\" >three_g</th>\n",
              "      <th id=\"T_a0771_level0_col1\" class=\"col_heading level0 col1\" >price_range</th>\n",
              "      <th id=\"T_a0771_level0_col2\" class=\"col_heading level0 col2\" >ID</th>\n",
              "    </tr>\n",
              "  </thead>\n",
              "  <tbody>\n",
              "    <tr>\n",
              "      <th id=\"T_a0771_level0_row0\" class=\"row_heading level0 row0\" >0</th>\n",
              "      <td id=\"T_a0771_row0_col0\" class=\"data row0 col0\" >0</td>\n",
              "      <td id=\"T_a0771_row0_col1\" class=\"data row0 col1\" >High</td>\n",
              "      <td id=\"T_a0771_row0_col2\" class=\"data row0 col2\" >113</td>\n",
              "    </tr>\n",
              "    <tr>\n",
              "      <th id=\"T_a0771_level0_row1\" class=\"row_heading level0 row1\" >1</th>\n",
              "      <td id=\"T_a0771_row1_col0\" class=\"data row1 col0\" >0</td>\n",
              "      <td id=\"T_a0771_row1_col1\" class=\"data row1 col1\" >Low</td>\n",
              "      <td id=\"T_a0771_row1_col2\" class=\"data row1 col2\" >127</td>\n",
              "    </tr>\n",
              "    <tr>\n",
              "      <th id=\"T_a0771_level0_row2\" class=\"row_heading level0 row2\" >2</th>\n",
              "      <td id=\"T_a0771_row2_col0\" class=\"data row2 col0\" >0</td>\n",
              "      <td id=\"T_a0771_row2_col1\" class=\"data row2 col1\" >Medium</td>\n",
              "      <td id=\"T_a0771_row2_col2\" class=\"data row2 col2\" >122</td>\n",
              "    </tr>\n",
              "    <tr>\n",
              "      <th id=\"T_a0771_level0_row3\" class=\"row_heading level0 row3\" >3</th>\n",
              "      <td id=\"T_a0771_row3_col0\" class=\"data row3 col0\" >0</td>\n",
              "      <td id=\"T_a0771_row3_col1\" class=\"data row3 col1\" >Very High</td>\n",
              "      <td id=\"T_a0771_row3_col2\" class=\"data row3 col2\" >115</td>\n",
              "    </tr>\n",
              "    <tr>\n",
              "      <th id=\"T_a0771_level0_row4\" class=\"row_heading level0 row4\" >4</th>\n",
              "      <td id=\"T_a0771_row4_col0\" class=\"data row4 col0\" >1</td>\n",
              "      <td id=\"T_a0771_row4_col1\" class=\"data row4 col1\" >High</td>\n",
              "      <td id=\"T_a0771_row4_col2\" class=\"data row4 col2\" >387</td>\n",
              "    </tr>\n",
              "    <tr>\n",
              "      <th id=\"T_a0771_level0_row5\" class=\"row_heading level0 row5\" >5</th>\n",
              "      <td id=\"T_a0771_row5_col0\" class=\"data row5 col0\" >1</td>\n",
              "      <td id=\"T_a0771_row5_col1\" class=\"data row5 col1\" >Low</td>\n",
              "      <td id=\"T_a0771_row5_col2\" class=\"data row5 col2\" >373</td>\n",
              "    </tr>\n",
              "    <tr>\n",
              "      <th id=\"T_a0771_level0_row6\" class=\"row_heading level0 row6\" >6</th>\n",
              "      <td id=\"T_a0771_row6_col0\" class=\"data row6 col0\" >1</td>\n",
              "      <td id=\"T_a0771_row6_col1\" class=\"data row6 col1\" >Medium</td>\n",
              "      <td id=\"T_a0771_row6_col2\" class=\"data row6 col2\" >378</td>\n",
              "    </tr>\n",
              "    <tr>\n",
              "      <th id=\"T_a0771_level0_row7\" class=\"row_heading level0 row7\" >7</th>\n",
              "      <td id=\"T_a0771_row7_col0\" class=\"data row7 col0\" >1</td>\n",
              "      <td id=\"T_a0771_row7_col1\" class=\"data row7 col1\" >Very High</td>\n",
              "      <td id=\"T_a0771_row7_col2\" class=\"data row7 col2\" >385</td>\n",
              "    </tr>\n",
              "  </tbody>\n",
              "</table>\n"
            ]
          },
          "metadata": {},
          "execution_count": 101
        }
      ]
    },
    {
      "cell_type": "markdown",
      "source": [
        "It can be seen that the distribution of price ranges varies between devices with 3G. Devices without 3G have the highest count in the 'Low' Price range and with 3G have the highest count in the 'High' price range. Indicating a potential difference in pricing strategies or product categories based on the 3G feature.\n",
        "And Price range 4G highest than 3G"
      ],
      "metadata": {
        "id": "isRTxpOcjMDa"
      }
    },
    {
      "cell_type": "markdown",
      "source": [
        "**Touchscreen Vs Price Range**"
      ],
      "metadata": {
        "id": "_RxJ1xLgjMWx"
      }
    },
    {
      "cell_type": "code",
      "source": [
        "ct = train.groupby(by=['touch_screen', 'price_range'], as_index=False)['ID'].count()\n",
        "print('Price Range By Touchscreen')\n",
        "ct.sort_values(by='ID', ascending=False)\n",
        "ct.style.background_gradient(cmap='Pastel1')"
      ],
      "metadata": {
        "colab": {
          "base_uri": "https://localhost:8080/",
          "height": 318
        },
        "id": "nJR2tXY0jMwB",
        "outputId": "b6603fdb-9aec-4d81-b502-626b60113547"
      },
      "execution_count": 102,
      "outputs": [
        {
          "output_type": "stream",
          "name": "stdout",
          "text": [
            "Price Range By Touchscreen\n"
          ]
        },
        {
          "output_type": "execute_result",
          "data": {
            "text/plain": [
              "<pandas.io.formats.style.Styler at 0x7c2936880be0>"
            ],
            "text/html": [
              "<style type=\"text/css\">\n",
              "#T_6515f_row0_col0, #T_6515f_row1_col0, #T_6515f_row1_col2, #T_6515f_row2_col0, #T_6515f_row3_col0, #T_6515f_row4_col2 {\n",
              "  background-color: #fbb4ae;\n",
              "  color: #000000;\n",
              "}\n",
              "#T_6515f_row0_col2, #T_6515f_row4_col0, #T_6515f_row5_col0, #T_6515f_row5_col2, #T_6515f_row6_col0, #T_6515f_row7_col0 {\n",
              "  background-color: #f2f2f2;\n",
              "  color: #000000;\n",
              "}\n",
              "#T_6515f_row2_col2 {\n",
              "  background-color: #b3cde3;\n",
              "  color: #000000;\n",
              "}\n",
              "#T_6515f_row3_col2 {\n",
              "  background-color: #ffffcc;\n",
              "  color: #000000;\n",
              "}\n",
              "#T_6515f_row6_col2 {\n",
              "  background-color: #fddaec;\n",
              "  color: #000000;\n",
              "}\n",
              "#T_6515f_row7_col2 {\n",
              "  background-color: #decbe4;\n",
              "  color: #000000;\n",
              "}\n",
              "</style>\n",
              "<table id=\"T_6515f\" class=\"dataframe\">\n",
              "  <thead>\n",
              "    <tr>\n",
              "      <th class=\"blank level0\" >&nbsp;</th>\n",
              "      <th id=\"T_6515f_level0_col0\" class=\"col_heading level0 col0\" >touch_screen</th>\n",
              "      <th id=\"T_6515f_level0_col1\" class=\"col_heading level0 col1\" >price_range</th>\n",
              "      <th id=\"T_6515f_level0_col2\" class=\"col_heading level0 col2\" >ID</th>\n",
              "    </tr>\n",
              "  </thead>\n",
              "  <tbody>\n",
              "    <tr>\n",
              "      <th id=\"T_6515f_level0_row0\" class=\"row_heading level0 row0\" >0</th>\n",
              "      <td id=\"T_6515f_row0_col0\" class=\"data row0 col0\" >0</td>\n",
              "      <td id=\"T_6515f_row0_col1\" class=\"data row0 col1\" >High</td>\n",
              "      <td id=\"T_6515f_row0_col2\" class=\"data row0 col2\" >265</td>\n",
              "    </tr>\n",
              "    <tr>\n",
              "      <th id=\"T_6515f_level0_row1\" class=\"row_heading level0 row1\" >1</th>\n",
              "      <td id=\"T_6515f_row1_col0\" class=\"data row1 col0\" >0</td>\n",
              "      <td id=\"T_6515f_row1_col1\" class=\"data row1 col1\" >Low</td>\n",
              "      <td id=\"T_6515f_row1_col2\" class=\"data row1 col2\" >238</td>\n",
              "    </tr>\n",
              "    <tr>\n",
              "      <th id=\"T_6515f_level0_row2\" class=\"row_heading level0 row2\" >2</th>\n",
              "      <td id=\"T_6515f_row2_col0\" class=\"data row2 col0\" >0</td>\n",
              "      <td id=\"T_6515f_row2_col1\" class=\"data row2 col1\" >Medium</td>\n",
              "      <td id=\"T_6515f_row2_col2\" class=\"data row2 col2\" >239</td>\n",
              "    </tr>\n",
              "    <tr>\n",
              "      <th id=\"T_6515f_level0_row3\" class=\"row_heading level0 row3\" >3</th>\n",
              "      <td id=\"T_6515f_row3_col0\" class=\"data row3 col0\" >0</td>\n",
              "      <td id=\"T_6515f_row3_col1\" class=\"data row3 col1\" >Very High</td>\n",
              "      <td id=\"T_6515f_row3_col2\" class=\"data row3 col2\" >252</td>\n",
              "    </tr>\n",
              "    <tr>\n",
              "      <th id=\"T_6515f_level0_row4\" class=\"row_heading level0 row4\" >4</th>\n",
              "      <td id=\"T_6515f_row4_col0\" class=\"data row4 col0\" >1</td>\n",
              "      <td id=\"T_6515f_row4_col1\" class=\"data row4 col1\" >High</td>\n",
              "      <td id=\"T_6515f_row4_col2\" class=\"data row4 col2\" >235</td>\n",
              "    </tr>\n",
              "    <tr>\n",
              "      <th id=\"T_6515f_level0_row5\" class=\"row_heading level0 row5\" >5</th>\n",
              "      <td id=\"T_6515f_row5_col0\" class=\"data row5 col0\" >1</td>\n",
              "      <td id=\"T_6515f_row5_col1\" class=\"data row5 col1\" >Low</td>\n",
              "      <td id=\"T_6515f_row5_col2\" class=\"data row5 col2\" >262</td>\n",
              "    </tr>\n",
              "    <tr>\n",
              "      <th id=\"T_6515f_level0_row6\" class=\"row_heading level0 row6\" >6</th>\n",
              "      <td id=\"T_6515f_row6_col0\" class=\"data row6 col0\" >1</td>\n",
              "      <td id=\"T_6515f_row6_col1\" class=\"data row6 col1\" >Medium</td>\n",
              "      <td id=\"T_6515f_row6_col2\" class=\"data row6 col2\" >261</td>\n",
              "    </tr>\n",
              "    <tr>\n",
              "      <th id=\"T_6515f_level0_row7\" class=\"row_heading level0 row7\" >7</th>\n",
              "      <td id=\"T_6515f_row7_col0\" class=\"data row7 col0\" >1</td>\n",
              "      <td id=\"T_6515f_row7_col1\" class=\"data row7 col1\" >Very High</td>\n",
              "      <td id=\"T_6515f_row7_col2\" class=\"data row7 col2\" >248</td>\n",
              "    </tr>\n",
              "  </tbody>\n",
              "</table>\n"
            ]
          },
          "metadata": {},
          "execution_count": 102
        }
      ]
    },
    {
      "cell_type": "markdown",
      "source": [
        "It can be seen that the distribution of price ranges varies between devices with touchscreen. Devices without touchscreen have the highest count in the 'High' Price range and with touchscreen have the highest count in the 'low' price range. Indicating a potential difference in pricing strategies or product categories based on the touchscreen feature."
      ],
      "metadata": {
        "id": "UnBncToMjODX"
      }
    },
    {
      "cell_type": "markdown",
      "source": [
        "**WiFi Vs Price Range**"
      ],
      "metadata": {
        "id": "iZXQAZH9jOV7"
      }
    },
    {
      "cell_type": "code",
      "source": [
        "ct = train.groupby(by=['wifi', 'price_range'], as_index=False)['ID'].count()\n",
        "print('Price Range By WiFi')\n",
        "ct.sort_values(by='ID', ascending=False)\n",
        "ct.style.background_gradient(cmap='Pastel1')"
      ],
      "metadata": {
        "colab": {
          "base_uri": "https://localhost:8080/",
          "height": 318
        },
        "id": "zrQesPCQjO1B",
        "outputId": "ce8afdb1-58a5-44c4-d297-25c123127500"
      },
      "execution_count": 103,
      "outputs": [
        {
          "output_type": "stream",
          "name": "stdout",
          "text": [
            "Price Range By WiFi\n"
          ]
        },
        {
          "output_type": "execute_result",
          "data": {
            "text/plain": [
              "<pandas.io.formats.style.Styler at 0x7c2936891810>"
            ],
            "text/html": [
              "<style type=\"text/css\">\n",
              "#T_4d04f_row0_col0, #T_4d04f_row1_col0, #T_4d04f_row2_col0, #T_4d04f_row3_col0, #T_4d04f_row3_col2 {\n",
              "  background-color: #fbb4ae;\n",
              "  color: #000000;\n",
              "}\n",
              "#T_4d04f_row0_col2, #T_4d04f_row2_col2, #T_4d04f_row5_col2 {\n",
              "  background-color: #decbe4;\n",
              "  color: #000000;\n",
              "}\n",
              "#T_4d04f_row1_col2, #T_4d04f_row4_col2, #T_4d04f_row6_col2 {\n",
              "  background-color: #ffffcc;\n",
              "  color: #000000;\n",
              "}\n",
              "#T_4d04f_row4_col0, #T_4d04f_row5_col0, #T_4d04f_row6_col0, #T_4d04f_row7_col0, #T_4d04f_row7_col2 {\n",
              "  background-color: #f2f2f2;\n",
              "  color: #000000;\n",
              "}\n",
              "</style>\n",
              "<table id=\"T_4d04f\" class=\"dataframe\">\n",
              "  <thead>\n",
              "    <tr>\n",
              "      <th class=\"blank level0\" >&nbsp;</th>\n",
              "      <th id=\"T_4d04f_level0_col0\" class=\"col_heading level0 col0\" >wifi</th>\n",
              "      <th id=\"T_4d04f_level0_col1\" class=\"col_heading level0 col1\" >price_range</th>\n",
              "      <th id=\"T_4d04f_level0_col2\" class=\"col_heading level0 col2\" >ID</th>\n",
              "    </tr>\n",
              "  </thead>\n",
              "  <tbody>\n",
              "    <tr>\n",
              "      <th id=\"T_4d04f_level0_row0\" class=\"row_heading level0 row0\" >0</th>\n",
              "      <td id=\"T_4d04f_row0_col0\" class=\"data row0 col0\" >0</td>\n",
              "      <td id=\"T_4d04f_row0_col1\" class=\"data row0 col1\" >High</td>\n",
              "      <td id=\"T_4d04f_row0_col2\" class=\"data row0 col2\" >248</td>\n",
              "    </tr>\n",
              "    <tr>\n",
              "      <th id=\"T_4d04f_level0_row1\" class=\"row_heading level0 row1\" >1</th>\n",
              "      <td id=\"T_4d04f_row1_col0\" class=\"data row1 col0\" >0</td>\n",
              "      <td id=\"T_4d04f_row1_col1\" class=\"data row1 col1\" >Low</td>\n",
              "      <td id=\"T_4d04f_row1_col2\" class=\"data row1 col2\" >252</td>\n",
              "    </tr>\n",
              "    <tr>\n",
              "      <th id=\"T_4d04f_level0_row2\" class=\"row_heading level0 row2\" >2</th>\n",
              "      <td id=\"T_4d04f_row2_col0\" class=\"data row2 col0\" >0</td>\n",
              "      <td id=\"T_4d04f_row2_col1\" class=\"data row2 col1\" >Medium</td>\n",
              "      <td id=\"T_4d04f_row2_col2\" class=\"data row2 col2\" >248</td>\n",
              "    </tr>\n",
              "    <tr>\n",
              "      <th id=\"T_4d04f_level0_row3\" class=\"row_heading level0 row3\" >3</th>\n",
              "      <td id=\"T_4d04f_row3_col0\" class=\"data row3 col0\" >0</td>\n",
              "      <td id=\"T_4d04f_row3_col1\" class=\"data row3 col1\" >Very High</td>\n",
              "      <td id=\"T_4d04f_row3_col2\" class=\"data row3 col2\" >238</td>\n",
              "    </tr>\n",
              "    <tr>\n",
              "      <th id=\"T_4d04f_level0_row4\" class=\"row_heading level0 row4\" >4</th>\n",
              "      <td id=\"T_4d04f_row4_col0\" class=\"data row4 col0\" >1</td>\n",
              "      <td id=\"T_4d04f_row4_col1\" class=\"data row4 col1\" >High</td>\n",
              "      <td id=\"T_4d04f_row4_col2\" class=\"data row4 col2\" >252</td>\n",
              "    </tr>\n",
              "    <tr>\n",
              "      <th id=\"T_4d04f_level0_row5\" class=\"row_heading level0 row5\" >5</th>\n",
              "      <td id=\"T_4d04f_row5_col0\" class=\"data row5 col0\" >1</td>\n",
              "      <td id=\"T_4d04f_row5_col1\" class=\"data row5 col1\" >Low</td>\n",
              "      <td id=\"T_4d04f_row5_col2\" class=\"data row5 col2\" >248</td>\n",
              "    </tr>\n",
              "    <tr>\n",
              "      <th id=\"T_4d04f_level0_row6\" class=\"row_heading level0 row6\" >6</th>\n",
              "      <td id=\"T_4d04f_row6_col0\" class=\"data row6 col0\" >1</td>\n",
              "      <td id=\"T_4d04f_row6_col1\" class=\"data row6 col1\" >Medium</td>\n",
              "      <td id=\"T_4d04f_row6_col2\" class=\"data row6 col2\" >252</td>\n",
              "    </tr>\n",
              "    <tr>\n",
              "      <th id=\"T_4d04f_level0_row7\" class=\"row_heading level0 row7\" >7</th>\n",
              "      <td id=\"T_4d04f_row7_col0\" class=\"data row7 col0\" >1</td>\n",
              "      <td id=\"T_4d04f_row7_col1\" class=\"data row7 col1\" >Very High</td>\n",
              "      <td id=\"T_4d04f_row7_col2\" class=\"data row7 col2\" >262</td>\n",
              "    </tr>\n",
              "  </tbody>\n",
              "</table>\n"
            ]
          },
          "metadata": {},
          "execution_count": 103
        }
      ]
    },
    {
      "cell_type": "markdown",
      "source": [
        "It can be seen that the distribution of price ranges varies between devices with WiFi. Devices without WiFi have the highest count in the 'Low' Price range and with WiFi have the highest count in the 'High' and 'Medium' price range. Indicating a potential difference in pricing strategies or product categories based on the touchscreen feature."
      ],
      "metadata": {
        "id": "kapNKYEbkD0D"
      }
    },
    {
      "cell_type": "markdown",
      "source": [
        "**Bivariate: Numerical Features Vs Price Range**"
      ],
      "metadata": {
        "id": "8hQPy2vQknn_"
      }
    },
    {
      "cell_type": "markdown",
      "source": [
        "**Battery Power, Clock Speed, Front Camera, Internal Memory, Mobile Depth, Weight, Core of Processor, Primary Camera Mega Pixel, Pixel Resolution Height**"
      ],
      "metadata": {
        "id": "86P2kG0cl5Xk"
      }
    },
    {
      "cell_type": "code",
      "source": [
        "# visualization pt 2\n",
        "sns.set_style('whitegrid')\n",
        "fig, ax = plt.subplots(3, 3, figsize=(15, 22))\n",
        "sns.set_context('paper', font_scale=1)\n",
        "\n",
        "ax[0][0].set_title('Price Range By Battery Power\\n', fontweight='bold', fontsize=12)\n",
        "sns.boxplot(x='price_range', y='battery_power', data=train, palette='viridis', ax=ax[0][0])\n",
        "\n",
        "ax[0][1].set_title('Price Range By Clock Speed\\n', fontweight='bold', fontsize=12)\n",
        "sns.boxplot(x='price_range', y='clock_speed', data=train, palette='viridis', ax=ax[0][1])\n",
        "\n",
        "ax[0][2].set_title('\\nPrice Range By Front Camera\\n', fontweight='bold', fontsize=12)\n",
        "sns.boxplot(x='price_range', y='fc', data=train, palette='viridis', ax=ax[0][2])\n",
        "\n",
        "ax[1][0].set_title('\\nPrice Range By Internal Memory\\n', fontweight='bold', fontsize=12)\n",
        "sns.boxplot(x='price_range', y='int_memory', data=train, palette='viridis', ax=ax[1][0])\n",
        "\n",
        "ax[1][1].set_title('Price Range By Mobile Depth\\n', fontweight='bold', fontsize=12)\n",
        "sns.boxplot(x='price_range', y='m_dep', data=train, palette='viridis', ax=ax[1][1])\n",
        "\n",
        "ax[1][2].set_title('Price Range By Weight\\n', fontweight='bold', fontsize=12)\n",
        "sns.boxplot(x='price_range', y='mobile_wt', data=train, palette='viridis', ax=ax[1][2])\n",
        "\n",
        "ax[2][0].set_title('Price Range By Core of Processor\\n', fontweight='bold', fontsize=12)\n",
        "sns.boxplot(x='price_range', y='n_cores', data=train, palette='viridis', ax=ax[2][0])\n",
        "\n",
        "ax[2][1].set_title('Price Range By Primary Camera Mega Pixel\\n', fontweight='bold', fontsize=12)\n",
        "sns.boxplot(x='price_range', y='pc', data=train, palette='viridis', ax=ax[2][1])\n",
        "\n",
        "ax[2][2].set_title('Price Range By Pixel Resolution Height\\n', fontweight='bold', fontsize=12)\n",
        "sns.boxplot(x='price_range', y='px_height', data=train, palette='viridis', ax=ax[2][2])"
      ],
      "metadata": {
        "colab": {
          "base_uri": "https://localhost:8080/",
          "height": 1000
        },
        "id": "XUtETDq9l4gZ",
        "outputId": "9cb18a8a-61f9-4f6c-bd7a-05b98b03e496"
      },
      "execution_count": 110,
      "outputs": [
        {
          "output_type": "execute_result",
          "data": {
            "text/plain": [
              "<Axes: title={'center': 'Price Range By Pixel Resolution Height\\n'}, xlabel='price_range', ylabel='px_height'>"
            ]
          },
          "metadata": {},
          "execution_count": 110
        },
        {
          "output_type": "display_data",
          "data": {
            "text/plain": [
              "<Figure size 1500x2200 with 9 Axes>"
            ],
            "image/png": "[encoded data removed]"
          },
          "metadata": {}
        }
      ]
    },
    {
      "cell_type": "markdown",
      "source": [
        "It can be seen that products range have a very high value compared to products in the low categories."
      ],
      "metadata": {
        "id": "R3ZmURuur5_Z"
      }
    },
    {
      "cell_type": "code",
      "source": [
        "# visualization pt 3\n",
        "sns.set_style('whitegrid')\n",
        "fig, ax = plt.subplots(2, 2, figsize=(15, 15))\n",
        "sns.set_context('paper', font_scale=1)\n",
        "\n",
        "ax[0][0].set_title('Price Range By Pixel Resolution Width\\n', fontweight='bold', fontsize=12)\n",
        "sns.boxplot(x='price_range', y='px_width', data=train, palette='viridis', ax=ax[0][0])\n",
        "\n",
        "ax[0][1].set_title('Price Range By RAM\\n', fontweight='bold', fontsize=12)\n",
        "sns.boxplot(x='price_range', y='ram', data=train, palette='viridis', ax=ax[0][1])\n",
        "\n",
        "ax[1][0].set_title('\\nPrice Range By Screen Height\\n', fontweight='bold', fontsize=12)\n",
        "sns.boxplot(x='price_range', y='sc_h', data=train, palette='viridis', ax=ax[1][0])\n",
        "\n",
        "ax[1][1].set_title('\\nPrice Range By Screen Width\\n', fontweight='bold', fontsize=12)\n",
        "sns.boxplot(x='price_range', y='sc_w', data=train, palette='viridis', ax=ax[1][1])"
      ],
      "metadata": {
        "colab": {
          "base_uri": "https://localhost:8080/",
          "height": 1000
        },
        "id": "0Ikmdqamr7XI",
        "outputId": "185eab11-4484-4f08-a68c-dbdc5ccfe56a"
      },
      "execution_count": 116,
      "outputs": [
        {
          "output_type": "execute_result",
          "data": {
            "text/plain": [
              "<Axes: title={'center': '\\nPrice Range By Screen Width\\n'}, xlabel='price_range', ylabel='sc_w'>"
            ]
          },
          "metadata": {},
          "execution_count": 116
        },
        {
          "output_type": "display_data",
          "data": {
            "text/plain": [
              "<Figure size 1500x1500 with 4 Axes>"
            ],
            "image/png": "[encoded data removed]"
          },
          "metadata": {}
        }
      ]
    },
    {
      "cell_type": "markdown",
      "source": [
        "It can be seen that the very high value of the very high price range for Screen Height, Screen Width, Ram, and pixel resolution width is higher than the low categories. This indicates that products range have a very high value compared to products in the low categories."
      ],
      "metadata": {
        "id": "9MC0TkSPvK3Z"
      }
    },
    {
      "cell_type": "markdown",
      "source": [
        "**Talk Time Vs Price Range**"
      ],
      "metadata": {
        "id": "HaHW-AthvoQX"
      }
    },
    {
      "cell_type": "code",
      "source": [
        "# visualization pt 4\n",
        "sns.boxplot(x='price_range', y='talk_time', data=train, palette = 'viridis')\n",
        "plt.grid()\n",
        "plt.show()"
      ],
      "metadata": {
        "colab": {
          "base_uri": "https://localhost:8080/",
          "height": 449
        },
        "id": "2bAvRSvNvMC6",
        "outputId": "52b151b7-da97-4567-bc7f-713c843b4a75"
      },
      "execution_count": 206,
      "outputs": [
        {
          "output_type": "display_data",
          "data": {
            "text/plain": [
              "<Figure size 640x480 with 1 Axes>"
            ],
            "image/png": "[encoded data removed]"
          },
          "metadata": {}
        }
      ]
    },
    {
      "cell_type": "markdown",
      "source": [
        "It can be seen that the median value of the medium price range for talk time is higher than the median values for the very high and low categories. This indicates that products with a medium talk time range have a higher median value compared to products in the very high and low categories. Therefore, products with a medium talk time range tend to have a medium price range compared to products in the very high and low categories in this context."
      ],
      "metadata": {
        "id": "y5YXzeoHv1dD"
      }
    },
    {
      "cell_type": "markdown",
      "source": [
        "# **Data Cleaning**\n",
        "\n",
        "**Detecting Data Duplication**"
      ],
      "metadata": {
        "id": "J6BoqbsAv7Wt"
      }
    },
    {
      "cell_type": "code",
      "source": [
        "print('The number of duplication is:', df_train.duplicated().sum())"
      ],
      "metadata": {
        "colab": {
          "base_uri": "https://localhost:8080/"
        },
        "id": "udAUV8ShwGf4",
        "outputId": "2e71b0eb-5443-4478-d1fc-f32e33448e2d"
      },
      "execution_count": 118,
      "outputs": [
        {
          "output_type": "stream",
          "name": "stdout",
          "text": [
            "The number of duplication is: 0\n"
          ]
        }
      ]
    },
    {
      "cell_type": "markdown",
      "source": [
        "**Detecting Missing Values**"
      ],
      "metadata": {
        "id": "usDTUm6vwKrj"
      }
    },
    {
      "cell_type": "code",
      "source": [
        "print('Missing values status:', df_train.isnull().values.any())\n",
        "nvc = pd.DataFrame(df_train.isnull().sum(), columns=['Total Null Values'])\n",
        "nvc['Percentage'] = (nvc['Total Null Values']/df_train.shape[0])*100\n",
        "nvc.sort_values(by=['Percentage'], ascending=False).reset_index()"
      ],
      "metadata": {
        "colab": {
          "base_uri": "https://localhost:8080/",
          "height": 725
        },
        "id": "G1QHxInNwM1K",
        "outputId": "ad45dcb1-e5eb-40f1-e80d-4a112f981419"
      },
      "execution_count": 119,
      "outputs": [
        {
          "output_type": "stream",
          "name": "stdout",
          "text": [
            "Missing values status: False\n"
          ]
        },
        {
          "output_type": "execute_result",
          "data": {
            "text/plain": [
              "            index  Total Null Values  Percentage\n",
              "0   battery_power                  0         0.0\n",
              "1       px_height                  0         0.0\n",
              "2            wifi                  0         0.0\n",
              "3    touch_screen                  0         0.0\n",
              "4         three_g                  0         0.0\n",
              "5       talk_time                  0         0.0\n",
              "6            sc_w                  0         0.0\n",
              "7            sc_h                  0         0.0\n",
              "8             ram                  0         0.0\n",
              "9        px_width                  0         0.0\n",
              "10             pc                  0         0.0\n",
              "11           blue                  0         0.0\n",
              "12        n_cores                  0         0.0\n",
              "13      mobile_wt                  0         0.0\n",
              "14          m_dep                  0         0.0\n",
              "15     int_memory                  0         0.0\n",
              "16         four_g                  0         0.0\n",
              "17             fc                  0         0.0\n",
              "18       dual_sim                  0         0.0\n",
              "19    clock_speed                  0         0.0\n",
              "20    price_range                  0         0.0"
            ],
            "text/html": [
              "\n",
              "  <div id=\"df-af46f41c-0c5d-46e3-9037-a15e0768c0b6\" class=\"colab-df-container\">\n",
              "    <div>\n",
              "<style scoped>\n",
              "    .dataframe tbody tr th:only-of-type {\n",
              "        vertical-align: middle;\n",
              "    }\n",
              "\n",
              "    .dataframe tbody tr th {\n",
              "        vertical-align: top;\n",
              "    }\n",
              "\n",
              "    .dataframe thead th {\n",
              "        text-align: right;\n",
              "    }\n",
              "</style>\n",
              "<table border=\"1\" class=\"dataframe\">\n",
              "  <thead>\n",
              "    <tr style=\"text-align: right;\">\n",
              "      <th></th>\n",
              "      <th>index</th>\n",
              "      <th>Total Null Values</th>\n",
              "      <th>Percentage</th>\n",
              "    </tr>\n",
              "  </thead>\n",
              "  <tbody>\n",
              "    <tr>\n",
              "      <th>0</th>\n",
              "      <td>battery_power</td>\n",
              "      <td>0</td>\n",
              "      <td>0.0</td>\n",
              "    </tr>\n",
              "    <tr>\n",
              "      <th>1</th>\n",
              "      <td>px_height</td>\n",
              "      <td>0</td>\n",
              "      <td>0.0</td>\n",
              "    </tr>\n",
              "    <tr>\n",
              "      <th>2</th>\n",
              "      <td>wifi</td>\n",
              "      <td>0</td>\n",
              "      <td>0.0</td>\n",
              "    </tr>\n",
              "    <tr>\n",
              "      <th>3</th>\n",
              "      <td>touch_screen</td>\n",
              "      <td>0</td>\n",
              "      <td>0.0</td>\n",
              "    </tr>\n",
              "    <tr>\n",
              "      <th>4</th>\n",
              "      <td>three_g</td>\n",
              "      <td>0</td>\n",
              "      <td>0.0</td>\n",
              "    </tr>\n",
              "    <tr>\n",
              "      <th>5</th>\n",
              "      <td>talk_time</td>\n",
              "      <td>0</td>\n",
              "      <td>0.0</td>\n",
              "    </tr>\n",
              "    <tr>\n",
              "      <th>6</th>\n",
              "      <td>sc_w</td>\n",
              "      <td>0</td>\n",
              "      <td>0.0</td>\n",
              "    </tr>\n",
              "    <tr>\n",
              "      <th>7</th>\n",
              "      <td>sc_h</td>\n",
              "      <td>0</td>\n",
              "      <td>0.0</td>\n",
              "    </tr>\n",
              "    <tr>\n",
              "      <th>8</th>\n",
              "      <td>ram</td>\n",
              "      <td>0</td>\n",
              "      <td>0.0</td>\n",
              "    </tr>\n",
              "    <tr>\n",
              "      <th>9</th>\n",
              "      <td>px_width</td>\n",
              "      <td>0</td>\n",
              "      <td>0.0</td>\n",
              "    </tr>\n",
              "    <tr>\n",
              "      <th>10</th>\n",
              "      <td>pc</td>\n",
              "      <td>0</td>\n",
              "      <td>0.0</td>\n",
              "    </tr>\n",
              "    <tr>\n",
              "      <th>11</th>\n",
              "      <td>blue</td>\n",
              "      <td>0</td>\n",
              "      <td>0.0</td>\n",
              "    </tr>\n",
              "    <tr>\n",
              "      <th>12</th>\n",
              "      <td>n_cores</td>\n",
              "      <td>0</td>\n",
              "      <td>0.0</td>\n",
              "    </tr>\n",
              "    <tr>\n",
              "      <th>13</th>\n",
              "      <td>mobile_wt</td>\n",
              "      <td>0</td>\n",
              "      <td>0.0</td>\n",
              "    </tr>\n",
              "    <tr>\n",
              "      <th>14</th>\n",
              "      <td>m_dep</td>\n",
              "      <td>0</td>\n",
              "      <td>0.0</td>\n",
              "    </tr>\n",
              "    <tr>\n",
              "      <th>15</th>\n",
              "      <td>int_memory</td>\n",
              "      <td>0</td>\n",
              "      <td>0.0</td>\n",
              "    </tr>\n",
              "    <tr>\n",
              "      <th>16</th>\n",
              "      <td>four_g</td>\n",
              "      <td>0</td>\n",
              "      <td>0.0</td>\n",
              "    </tr>\n",
              "    <tr>\n",
              "      <th>17</th>\n",
              "      <td>fc</td>\n",
              "      <td>0</td>\n",
              "      <td>0.0</td>\n",
              "    </tr>\n",
              "    <tr>\n",
              "      <th>18</th>\n",
              "      <td>dual_sim</td>\n",
              "      <td>0</td>\n",
              "      <td>0.0</td>\n",
              "    </tr>\n",
              "    <tr>\n",
              "      <th>19</th>\n",
              "      <td>clock_speed</td>\n",
              "      <td>0</td>\n",
              "      <td>0.0</td>\n",
              "    </tr>\n",
              "    <tr>\n",
              "      <th>20</th>\n",
              "      <td>price_range</td>\n",
              "      <td>0</td>\n",
              "      <td>0.0</td>\n",
              "    </tr>\n",
              "  </tbody>\n",
              "</table>\n",
              "</div>\n",
              "    <div class=\"colab-df-buttons\">\n",
              "\n",
              "  <div class=\"colab-df-container\">\n",
              "    <button class=\"colab-df-convert\" onclick=\"convertToInteractive('df-af46f41c-0c5d-46e3-9037-a15e0768c0b6')\"\n",
              "            title=\"Convert this dataframe to an interactive table.\"\n",
              "            style=\"display:none;\">\n",
              "\n",
              "  <svg xmlns=\"http://www.w3.org/2000/svg\" height=\"24px\" viewBox=\"0 -960 960 960\">\n",
              "    <path d=\"M120-120v-720h720v720H120Zm60-500h600v-160H180v160Zm220 220h160v-160H400v160Zm0 220h160v-160H400v160ZM180-400h160v-160H180v160Zm440 0h160v-160H620v160ZM180-180h160v-160H180v160Zm440 0h160v-160H620v160Z\"/>\n",
              "  </svg>\n",
              "    </button>\n",
              "\n",
              "  <style>\n",
              "    .colab-df-container {\n",
              "      display:flex;\n",
              "      gap: 12px;\n",
              "    }\n",
              "\n",
              "    .colab-df-convert {\n",
              "      background-color: #E8F0FE;\n",
              "      border: none;\n",
              "      border-radius: 50%;\n",
              "      cursor: pointer;\n",
              "      display: none;\n",
              "      fill: #1967D2;\n",
              "      height: 32px;\n",
              "      padding: 0 0 0 0;\n",
              "      width: 32px;\n",
              "    }\n",
              "\n",
              "    .colab-df-convert:hover {\n",
              "      background-color: #E2EBFA;\n",
              "      box-shadow: 0px 1px 2px rgba(60, 64, 67, 0.3), 0px 1px 3px 1px rgba(60, 64, 67, 0.15);\n",
              "      fill: #174EA6;\n",
              "    }\n",
              "\n",
              "    .colab-df-buttons div {\n",
              "      margin-bottom: 4px;\n",
              "    }\n",
              "\n",
              "    [theme=dark] .colab-df-convert {\n",
              "      background-color: #3B4455;\n",
              "      fill: #D2E3FC;\n",
              "    }\n",
              "\n",
              "    [theme=dark] .colab-df-convert:hover {\n",
              "      background-color: #434B5C;\n",
              "      box-shadow: 0px 1px 3px 1px rgba(0, 0, 0, 0.15);\n",
              "      filter: drop-shadow(0px 1px 2px rgba(0, 0, 0, 0.3));\n",
              "      fill: #FFFFFF;\n",
              "    }\n",
              "  </style>\n",
              "\n",
              "    <script>\n",
              "      const buttonEl =\n",
              "        document.querySelector('#df-af46f41c-0c5d-46e3-9037-a15e0768c0b6 button.colab-df-convert');\n",
              "      buttonEl.style.display =\n",
              "        google.colab.kernel.accessAllowed ? 'block' : 'none';\n",
              "\n",
              "      async function convertToInteractive(key) {\n",
              "        const element = document.querySelector('#df-af46f41c-0c5d-46e3-9037-a15e0768c0b6');\n",
              "        const dataTable =\n",
              "          await google.colab.kernel.invokeFunction('convertToInteractive',\n",
              "                                                    [key], {});\n",
              "        if (!dataTable) return;\n",
              "\n",
              "        const docLinkHtml = 'Like what you see? Visit the ' +\n",
              "          '<a target=\"_blank\" href=https://colab.research.google.com/notebooks/data_table.ipynb>data table notebook</a>'\n",
              "          + ' to learn more about interactive tables.';\n",
              "        element.innerHTML = '';\n",
              "        dataTable['output_type'] = 'display_data';\n",
              "        await google.colab.output.renderOutput(dataTable, element);\n",
              "        const docLink = document.createElement('div');\n",
              "        docLink.innerHTML = docLinkHtml;\n",
              "        element.appendChild(docLink);\n",
              "      }\n",
              "    </script>\n",
              "  </div>\n",
              "\n",
              "\n",
              "<div id=\"df-4a38199a-4685-42bc-9f3f-2f34899a341a\">\n",
              "  <button class=\"colab-df-quickchart\" onclick=\"quickchart('df-4a38199a-4685-42bc-9f3f-2f34899a341a')\"\n",
              "            title=\"Suggest charts\"\n",
              "            style=\"display:none;\">\n",
              "\n",
              "<svg xmlns=\"http://www.w3.org/2000/svg\" height=\"24px\"viewBox=\"0 0 24 24\"\n",
              "     width=\"24px\">\n",
              "    <g>\n",
              "        <path d=\"M19 3H5c-1.1 0-2 .9-2 2v14c0 1.1.9 2 2 2h14c1.1 0 2-.9 2-2V5c0-1.1-.9-2-2-2zM9 17H7v-7h2v7zm4 0h-2V7h2v10zm4 0h-2v-4h2v4z\"/>\n",
              "    </g>\n",
              "</svg>\n",
              "  </button>\n",
              "\n",
              "<style>\n",
              "  .colab-df-quickchart {\n",
              "      --bg-color: #E8F0FE;\n",
              "      --fill-color: #1967D2;\n",
              "      --hover-bg-color: #E2EBFA;\n",
              "      --hover-fill-color: #174EA6;\n",
              "      --disabled-fill-color: #AAA;\n",
              "      --disabled-bg-color: #DDD;\n",
              "  }\n",
              "\n",
              "  [theme=dark] .colab-df-quickchart {\n",
              "      --bg-color: #3B4455;\n",
              "      --fill-color: #D2E3FC;\n",
              "      --hover-bg-color: #434B5C;\n",
              "      --hover-fill-color: #FFFFFF;\n",
              "      --disabled-bg-color: #3B4455;\n",
              "      --disabled-fill-color: #666;\n",
              "  }\n",
              "\n",
              "  .colab-df-quickchart {\n",
              "    background-color: var(--bg-color);\n",
              "    border: none;\n",
              "    border-radius: 50%;\n",
              "    cursor: pointer;\n",
              "    display: none;\n",
              "    fill: var(--fill-color);\n",
              "    height: 32px;\n",
              "    padding: 0;\n",
              "    width: 32px;\n",
              "  }\n",
              "\n",
              "  .colab-df-quickchart:hover {\n",
              "    background-color: var(--hover-bg-color);\n",
              "    box-shadow: 0 1px 2px rgba(60, 64, 67, 0.3), 0 1px 3px 1px rgba(60, 64, 67, 0.15);\n",
              "    fill: var(--button-hover-fill-color);\n",
              "  }\n",
              "\n",
              "  .colab-df-quickchart-complete:disabled,\n",
              "  .colab-df-quickchart-complete:disabled:hover {\n",
              "    background-color: var(--disabled-bg-color);\n",
              "    fill: var(--disabled-fill-color);\n",
              "    box-shadow: none;\n",
              "  }\n",
              "\n",
              "  .colab-df-spinner {\n",
              "    border: 2px solid var(--fill-color);\n",
              "    border-color: transparent;\n",
              "    border-bottom-color: var(--fill-color);\n",
              "    animation:\n",
              "      spin 1s steps(1) infinite;\n",
              "  }\n",
              "\n",
              "  @keyframes spin {\n",
              "    0% {\n",
              "      border-color: transparent;\n",
              "      border-bottom-color: var(--fill-color);\n",
              "      border-left-color: var(--fill-color);\n",
              "    }\n",
              "    20% {\n",
              "      border-color: transparent;\n",
              "      border-left-color: var(--fill-color);\n",
              "      border-top-color: var(--fill-color);\n",
              "    }\n",
              "    30% {\n",
              "      border-color: transparent;\n",
              "      border-left-color: var(--fill-color);\n",
              "      border-top-color: var(--fill-color);\n",
              "      border-right-color: var(--fill-color);\n",
              "    }\n",
              "    40% {\n",
              "      border-color: transparent;\n",
              "      border-right-color: var(--fill-color);\n",
              "      border-top-color: var(--fill-color);\n",
              "    }\n",
              "    60% {\n",
              "      border-color: transparent;\n",
              "      border-right-color: var(--fill-color);\n",
              "    }\n",
              "    80% {\n",
              "      border-color: transparent;\n",
              "      border-right-color: var(--fill-color);\n",
              "      border-bottom-color: var(--fill-color);\n",
              "    }\n",
              "    90% {\n",
              "      border-color: transparent;\n",
              "      border-bottom-color: var(--fill-color);\n",
              "    }\n",
              "  }\n",
              "</style>\n",
              "\n",
              "  <script>\n",
              "    async function quickchart(key) {\n",
              "      const quickchartButtonEl =\n",
              "        document.querySelector('#' + key + ' button');\n",
              "      quickchartButtonEl.disabled = true;  // To prevent multiple clicks.\n",
              "      quickchartButtonEl.classList.add('colab-df-spinner');\n",
              "      try {\n",
              "        const charts = await google.colab.kernel.invokeFunction(\n",
              "            'suggestCharts', [key], {});\n",
              "      } catch (error) {\n",
              "        console.error('Error during call to suggestCharts:', error);\n",
              "      }\n",
              "      quickchartButtonEl.classList.remove('colab-df-spinner');\n",
              "      quickchartButtonEl.classList.add('colab-df-quickchart-complete');\n",
              "    }\n",
              "    (() => {\n",
              "      let quickchartButtonEl =\n",
              "        document.querySelector('#df-4a38199a-4685-42bc-9f3f-2f34899a341a button');\n",
              "      quickchartButtonEl.style.display =\n",
              "        google.colab.kernel.accessAllowed ? 'block' : 'none';\n",
              "    })();\n",
              "  </script>\n",
              "</div>\n",
              "    </div>\n",
              "  </div>\n"
            ],
            "application/vnd.google.colaboratory.intrinsic+json": {
              "type": "dataframe",
              "summary": "{\n  \"name\": \"nvc\",\n  \"rows\": 21,\n  \"fields\": [\n    {\n      \"column\": \"index\",\n      \"properties\": {\n        \"dtype\": \"string\",\n        \"num_unique_values\": 21,\n        \"samples\": [\n          \"battery_power\",\n          \"fc\",\n          \"int_memory\"\n        ],\n        \"semantic_type\": \"\",\n        \"description\": \"\"\n      }\n    },\n    {\n      \"column\": \"Total Null Values\",\n      \"properties\": {\n        \"dtype\": \"number\",\n        \"std\": 0,\n        \"min\": 0,\n        \"max\": 0,\n        \"num_unique_values\": 1,\n        \"samples\": [\n          0\n        ],\n        \"semantic_type\": \"\",\n        \"description\": \"\"\n      }\n    },\n    {\n      \"column\": \"Percentage\",\n      \"properties\": {\n        \"dtype\": \"number\",\n        \"std\": 0.0,\n        \"min\": 0.0,\n        \"max\": 0.0,\n        \"num_unique_values\": 1,\n        \"samples\": [\n          0.0\n        ],\n        \"semantic_type\": \"\",\n        \"description\": \"\"\n      }\n    }\n  ]\n}"
            }
          },
          "metadata": {},
          "execution_count": 119
        }
      ]
    },
    {
      "cell_type": "markdown",
      "source": [
        "**Feature Selection**\n",
        "\n",
        "**Drop Unnecessary Feature**"
      ],
      "metadata": {
        "id": "40zd0QGSxBZl"
      }
    },
    {
      "cell_type": "code",
      "execution_count": 121,
      "metadata": {
        "id": "l35dArMb0MvA"
      },
      "outputs": [],
      "source": [
        "train.drop(['ID'], inplace=True, axis=1)"
      ]
    },
    {
      "cell_type": "code",
      "source": [
        "x = df_train.drop(['price_range'], axis=1)\n",
        "y = df_train['price_range']"
      ],
      "metadata": {
        "id": "VLzh_JPwxcz5"
      },
      "execution_count": 122,
      "outputs": []
    },
    {
      "cell_type": "code",
      "source": [
        "# feature selection\n",
        "bestfeatures = SelectKBest(score_func=chi2, k=10)\n",
        "fit = bestfeatures.fit(x,y)\n",
        "dfscores = pd.DataFrame(fit.scores_)\n",
        "dfcolumns = pd.DataFrame(x.columns)\n",
        "featureScores = pd.concat([dfcolumns, dfscores], axis = 1)\n",
        "featureScores.columns = ['Features', 'Score']\n",
        "print('The features that correlate well with target feature:\\n')\n",
        "featureScores.sort_values(by=['Score'], ascending=False)"
      ],
      "metadata": {
        "colab": {
          "base_uri": "https://localhost:8080/",
          "height": 711
        },
        "id": "tOr-3tsGxuXE",
        "outputId": "1f999f1e-dbd0-49aa-e005-831fceaa950b"
      },
      "execution_count": 123,
      "outputs": [
        {
          "output_type": "stream",
          "name": "stdout",
          "text": [
            "The features that correlate well with target feature:\n",
            "\n"
          ]
        },
        {
          "output_type": "execute_result",
          "data": {
            "text/plain": [
              "         Features          Score\n",
              "13            ram  931267.519053\n",
              "11      px_height   17363.569536\n",
              "0   battery_power   14129.866576\n",
              "12       px_width    9810.586750\n",
              "8       mobile_wt      95.972863\n",
              "6      int_memory      89.839124\n",
              "15           sc_w      16.480319\n",
              "16      talk_time      13.236400\n",
              "4              fc      10.135166\n",
              "14           sc_h       9.614878\n",
              "10             pc       9.186054\n",
              "9         n_cores       9.097556\n",
              "18   touch_screen       1.928429\n",
              "5          four_g       1.521572\n",
              "7           m_dep       0.745820\n",
              "1            blue       0.723232\n",
              "2     clock_speed       0.648366\n",
              "3        dual_sim       0.631011\n",
              "19           wifi       0.422091\n",
              "17        three_g       0.327643"
            ],
            "text/html": [
              "\n",
              "  <div id=\"df-8196458c-813e-4b12-bc26-74f34a61c897\" class=\"colab-df-container\">\n",
              "    <div>\n",
              "<style scoped>\n",
              "    .dataframe tbody tr th:only-of-type {\n",
              "        vertical-align: middle;\n",
              "    }\n",
              "\n",
              "    .dataframe tbody tr th {\n",
              "        vertical-align: top;\n",
              "    }\n",
              "\n",
              "    .dataframe thead th {\n",
              "        text-align: right;\n",
              "    }\n",
              "</style>\n",
              "<table border=\"1\" class=\"dataframe\">\n",
              "  <thead>\n",
              "    <tr style=\"text-align: right;\">\n",
              "      <th></th>\n",
              "      <th>Features</th>\n",
              "      <th>Score</th>\n",
              "    </tr>\n",
              "  </thead>\n",
              "  <tbody>\n",
              "    <tr>\n",
              "      <th>13</th>\n",
              "      <td>ram</td>\n",
              "      <td>931267.519053</td>\n",
              "    </tr>\n",
              "    <tr>\n",
              "      <th>11</th>\n",
              "      <td>px_height</td>\n",
              "      <td>17363.569536</td>\n",
              "    </tr>\n",
              "    <tr>\n",
              "      <th>0</th>\n",
              "      <td>battery_power</td>\n",
              "      <td>14129.866576</td>\n",
              "    </tr>\n",
              "    <tr>\n",
              "      <th>12</th>\n",
              "      <td>px_width</td>\n",
              "      <td>9810.586750</td>\n",
              "    </tr>\n",
              "    <tr>\n",
              "      <th>8</th>\n",
              "      <td>mobile_wt</td>\n",
              "      <td>95.972863</td>\n",
              "    </tr>\n",
              "    <tr>\n",
              "      <th>6</th>\n",
              "      <td>int_memory</td>\n",
              "      <td>89.839124</td>\n",
              "    </tr>\n",
              "    <tr>\n",
              "      <th>15</th>\n",
              "      <td>sc_w</td>\n",
              "      <td>16.480319</td>\n",
              "    </tr>\n",
              "    <tr>\n",
              "      <th>16</th>\n",
              "      <td>talk_time</td>\n",
              "      <td>13.236400</td>\n",
              "    </tr>\n",
              "    <tr>\n",
              "      <th>4</th>\n",
              "      <td>fc</td>\n",
              "      <td>10.135166</td>\n",
              "    </tr>\n",
              "    <tr>\n",
              "      <th>14</th>\n",
              "      <td>sc_h</td>\n",
              "      <td>9.614878</td>\n",
              "    </tr>\n",
              "    <tr>\n",
              "      <th>10</th>\n",
              "      <td>pc</td>\n",
              "      <td>9.186054</td>\n",
              "    </tr>\n",
              "    <tr>\n",
              "      <th>9</th>\n",
              "      <td>n_cores</td>\n",
              "      <td>9.097556</td>\n",
              "    </tr>\n",
              "    <tr>\n",
              "      <th>18</th>\n",
              "      <td>touch_screen</td>\n",
              "      <td>1.928429</td>\n",
              "    </tr>\n",
              "    <tr>\n",
              "      <th>5</th>\n",
              "      <td>four_g</td>\n",
              "      <td>1.521572</td>\n",
              "    </tr>\n",
              "    <tr>\n",
              "      <th>7</th>\n",
              "      <td>m_dep</td>\n",
              "      <td>0.745820</td>\n",
              "    </tr>\n",
              "    <tr>\n",
              "      <th>1</th>\n",
              "      <td>blue</td>\n",
              "      <td>0.723232</td>\n",
              "    </tr>\n",
              "    <tr>\n",
              "      <th>2</th>\n",
              "      <td>clock_speed</td>\n",
              "      <td>0.648366</td>\n",
              "    </tr>\n",
              "    <tr>\n",
              "      <th>3</th>\n",
              "      <td>dual_sim</td>\n",
              "      <td>0.631011</td>\n",
              "    </tr>\n",
              "    <tr>\n",
              "      <th>19</th>\n",
              "      <td>wifi</td>\n",
              "      <td>0.422091</td>\n",
              "    </tr>\n",
              "    <tr>\n",
              "      <th>17</th>\n",
              "      <td>three_g</td>\n",
              "      <td>0.327643</td>\n",
              "    </tr>\n",
              "  </tbody>\n",
              "</table>\n",
              "</div>\n",
              "    <div class=\"colab-df-buttons\">\n",
              "\n",
              "  <div class=\"colab-df-container\">\n",
              "    <button class=\"colab-df-convert\" onclick=\"convertToInteractive('df-8196458c-813e-4b12-bc26-74f34a61c897')\"\n",
              "            title=\"Convert this dataframe to an interactive table.\"\n",
              "            style=\"display:none;\">\n",
              "\n",
              "  <svg xmlns=\"http://www.w3.org/2000/svg\" height=\"24px\" viewBox=\"0 -960 960 960\">\n",
              "    <path d=\"M120-120v-720h720v720H120Zm60-500h600v-160H180v160Zm220 220h160v-160H400v160Zm0 220h160v-160H400v160ZM180-400h160v-160H180v160Zm440 0h160v-160H620v160ZM180-180h160v-160H180v160Zm440 0h160v-160H620v160Z\"/>\n",
              "  </svg>\n",
              "    </button>\n",
              "\n",
              "  <style>\n",
              "    .colab-df-container {\n",
              "      display:flex;\n",
              "      gap: 12px;\n",
              "    }\n",
              "\n",
              "    .colab-df-convert {\n",
              "      background-color: #E8F0FE;\n",
              "      border: none;\n",
              "      border-radius: 50%;\n",
              "      cursor: pointer;\n",
              "      display: none;\n",
              "      fill: #1967D2;\n",
              "      height: 32px;\n",
              "      padding: 0 0 0 0;\n",
              "      width: 32px;\n",
              "    }\n",
              "\n",
              "    .colab-df-convert:hover {\n",
              "      background-color: #E2EBFA;\n",
              "      box-shadow: 0px 1px 2px rgba(60, 64, 67, 0.3), 0px 1px 3px 1px rgba(60, 64, 67, 0.15);\n",
              "      fill: #174EA6;\n",
              "    }\n",
              "\n",
              "    .colab-df-buttons div {\n",
              "      margin-bottom: 4px;\n",
              "    }\n",
              "\n",
              "    [theme=dark] .colab-df-convert {\n",
              "      background-color: #3B4455;\n",
              "      fill: #D2E3FC;\n",
              "    }\n",
              "\n",
              "    [theme=dark] .colab-df-convert:hover {\n",
              "      background-color: #434B5C;\n",
              "      box-shadow: 0px 1px 3px 1px rgba(0, 0, 0, 0.15);\n",
              "      filter: drop-shadow(0px 1px 2px rgba(0, 0, 0, 0.3));\n",
              "      fill: #FFFFFF;\n",
              "    }\n",
              "  </style>\n",
              "\n",
              "    <script>\n",
              "      const buttonEl =\n",
              "        document.querySelector('#df-8196458c-813e-4b12-bc26-74f34a61c897 button.colab-df-convert');\n",
              "      buttonEl.style.display =\n",
              "        google.colab.kernel.accessAllowed ? 'block' : 'none';\n",
              "\n",
              "      async function convertToInteractive(key) {\n",
              "        const element = document.querySelector('#df-8196458c-813e-4b12-bc26-74f34a61c897');\n",
              "        const dataTable =\n",
              "          await google.colab.kernel.invokeFunction('convertToInteractive',\n",
              "                                                    [key], {});\n",
              "        if (!dataTable) return;\n",
              "\n",
              "        const docLinkHtml = 'Like what you see? Visit the ' +\n",
              "          '<a target=\"_blank\" href=https://colab.research.google.com/notebooks/data_table.ipynb>data table notebook</a>'\n",
              "          + ' to learn more about interactive tables.';\n",
              "        element.innerHTML = '';\n",
              "        dataTable['output_type'] = 'display_data';\n",
              "        await google.colab.output.renderOutput(dataTable, element);\n",
              "        const docLink = document.createElement('div');\n",
              "        docLink.innerHTML = docLinkHtml;\n",
              "        element.appendChild(docLink);\n",
              "      }\n",
              "    </script>\n",
              "  </div>\n",
              "\n",
              "\n",
              "<div id=\"df-e7840e95-4600-4e35-9294-3e2146cc5ecd\">\n",
              "  <button class=\"colab-df-quickchart\" onclick=\"quickchart('df-e7840e95-4600-4e35-9294-3e2146cc5ecd')\"\n",
              "            title=\"Suggest charts\"\n",
              "            style=\"display:none;\">\n",
              "\n",
              "<svg xmlns=\"http://www.w3.org/2000/svg\" height=\"24px\"viewBox=\"0 0 24 24\"\n",
              "     width=\"24px\">\n",
              "    <g>\n",
              "        <path d=\"M19 3H5c-1.1 0-2 .9-2 2v14c0 1.1.9 2 2 2h14c1.1 0 2-.9 2-2V5c0-1.1-.9-2-2-2zM9 17H7v-7h2v7zm4 0h-2V7h2v10zm4 0h-2v-4h2v4z\"/>\n",
              "    </g>\n",
              "</svg>\n",
              "  </button>\n",
              "\n",
              "<style>\n",
              "  .colab-df-quickchart {\n",
              "      --bg-color: #E8F0FE;\n",
              "      --fill-color: #1967D2;\n",
              "      --hover-bg-color: #E2EBFA;\n",
              "      --hover-fill-color: #174EA6;\n",
              "      --disabled-fill-color: #AAA;\n",
              "      --disabled-bg-color: #DDD;\n",
              "  }\n",
              "\n",
              "  [theme=dark] .colab-df-quickchart {\n",
              "      --bg-color: #3B4455;\n",
              "      --fill-color: #D2E3FC;\n",
              "      --hover-bg-color: #434B5C;\n",
              "      --hover-fill-color: #FFFFFF;\n",
              "      --disabled-bg-color: #3B4455;\n",
              "      --disabled-fill-color: #666;\n",
              "  }\n",
              "\n",
              "  .colab-df-quickchart {\n",
              "    background-color: var(--bg-color);\n",
              "    border: none;\n",
              "    border-radius: 50%;\n",
              "    cursor: pointer;\n",
              "    display: none;\n",
              "    fill: var(--fill-color);\n",
              "    height: 32px;\n",
              "    padding: 0;\n",
              "    width: 32px;\n",
              "  }\n",
              "\n",
              "  .colab-df-quickchart:hover {\n",
              "    background-color: var(--hover-bg-color);\n",
              "    box-shadow: 0 1px 2px rgba(60, 64, 67, 0.3), 0 1px 3px 1px rgba(60, 64, 67, 0.15);\n",
              "    fill: var(--button-hover-fill-color);\n",
              "  }\n",
              "\n",
              "  .colab-df-quickchart-complete:disabled,\n",
              "  .colab-df-quickchart-complete:disabled:hover {\n",
              "    background-color: var(--disabled-bg-color);\n",
              "    fill: var(--disabled-fill-color);\n",
              "    box-shadow: none;\n",
              "  }\n",
              "\n",
              "  .colab-df-spinner {\n",
              "    border: 2px solid var(--fill-color);\n",
              "    border-color: transparent;\n",
              "    border-bottom-color: var(--fill-color);\n",
              "    animation:\n",
              "      spin 1s steps(1) infinite;\n",
              "  }\n",
              "\n",
              "  @keyframes spin {\n",
              "    0% {\n",
              "      border-color: transparent;\n",
              "      border-bottom-color: var(--fill-color);\n",
              "      border-left-color: var(--fill-color);\n",
              "    }\n",
              "    20% {\n",
              "      border-color: transparent;\n",
              "      border-left-color: var(--fill-color);\n",
              "      border-top-color: var(--fill-color);\n",
              "    }\n",
              "    30% {\n",
              "      border-color: transparent;\n",
              "      border-left-color: var(--fill-color);\n",
              "      border-top-color: var(--fill-color);\n",
              "      border-right-color: var(--fill-color);\n",
              "    }\n",
              "    40% {\n",
              "      border-color: transparent;\n",
              "      border-right-color: var(--fill-color);\n",
              "      border-top-color: var(--fill-color);\n",
              "    }\n",
              "    60% {\n",
              "      border-color: transparent;\n",
              "      border-right-color: var(--fill-color);\n",
              "    }\n",
              "    80% {\n",
              "      border-color: transparent;\n",
              "      border-right-color: var(--fill-color);\n",
              "      border-bottom-color: var(--fill-color);\n",
              "    }\n",
              "    90% {\n",
              "      border-color: transparent;\n",
              "      border-bottom-color: var(--fill-color);\n",
              "    }\n",
              "  }\n",
              "</style>\n",
              "\n",
              "  <script>\n",
              "    async function quickchart(key) {\n",
              "      const quickchartButtonEl =\n",
              "        document.querySelector('#' + key + ' button');\n",
              "      quickchartButtonEl.disabled = true;  // To prevent multiple clicks.\n",
              "      quickchartButtonEl.classList.add('colab-df-spinner');\n",
              "      try {\n",
              "        const charts = await google.colab.kernel.invokeFunction(\n",
              "            'suggestCharts', [key], {});\n",
              "      } catch (error) {\n",
              "        console.error('Error during call to suggestCharts:', error);\n",
              "      }\n",
              "      quickchartButtonEl.classList.remove('colab-df-spinner');\n",
              "      quickchartButtonEl.classList.add('colab-df-quickchart-complete');\n",
              "    }\n",
              "    (() => {\n",
              "      let quickchartButtonEl =\n",
              "        document.querySelector('#df-e7840e95-4600-4e35-9294-3e2146cc5ecd button');\n",
              "      quickchartButtonEl.style.display =\n",
              "        google.colab.kernel.accessAllowed ? 'block' : 'none';\n",
              "    })();\n",
              "  </script>\n",
              "</div>\n",
              "    </div>\n",
              "  </div>\n"
            ],
            "application/vnd.google.colaboratory.intrinsic+json": {
              "type": "dataframe",
              "summary": "{\n  \"name\": \"featureScores\",\n  \"rows\": 20,\n  \"fields\": [\n    {\n      \"column\": \"Features\",\n      \"properties\": {\n        \"dtype\": \"string\",\n        \"num_unique_values\": 20,\n        \"samples\": [\n          \"ram\",\n          \"dual_sim\",\n          \"blue\"\n        ],\n        \"semantic_type\": \"\",\n        \"description\": \"\"\n      }\n    },\n    {\n      \"column\": \"Score\",\n      \"properties\": {\n        \"dtype\": \"number\",\n        \"std\": 207812.73127486432,\n        \"min\": 0.32764281024294134,\n        \"max\": 931267.5190529381,\n        \"num_unique_values\": 20,\n        \"samples\": [\n          931267.5190529381,\n          0.6310107948969574,\n          0.7232323232323228\n        ],\n        \"semantic_type\": \"\",\n        \"description\": \"\"\n      }\n    }\n  ]\n}"
            }
          },
          "metadata": {},
          "execution_count": 123
        }
      ]
    },
    {
      "cell_type": "markdown",
      "source": [
        "It can be seen which features correlate well with price range.\n",
        "\n",
        "Best features: ram, px_height, battery_power, px_width, mobile_wt\n",
        "\n",
        "Worst features: three_g, wifi, dual_sim, clock_speed, blue"
      ],
      "metadata": {
        "id": "MjgdguYVx9Tu"
      }
    },
    {
      "cell_type": "markdown",
      "source": [
        "**Data Splitting**"
      ],
      "metadata": {
        "id": "-2QZ3a8K2u-G"
      }
    },
    {
      "cell_type": "code",
      "source": [
        "# define x and y features (top 10 features)\n",
        "x_balanced = df_train[['ram', 'px_height', 'battery_power', 'px_width', 'mobile_wt','int_memory',\n",
        "                       'sc_w', 'talk_time', 'fc', 'sc_h']]\n",
        "y_balanced = df_train['price_range']"
      ],
      "metadata": {
        "id": "omPRD18s1xuf"
      },
      "execution_count": 135,
      "outputs": []
    },
    {
      "cell_type": "code",
      "source": [
        "X_train, X_test, y_train, y_test = train_test_split(x_balanced, y_balanced, test_size=0.2, random_state=42)\n",
        "print(X_train.shape, X_test.shape)"
      ],
      "metadata": {
        "colab": {
          "base_uri": "https://localhost:8080/"
        },
        "id": "5bdKD8re2mpp",
        "outputId": "a4de349d-0d07-4de8-eaf7-c533ceb1c169"
      },
      "execution_count": 136,
      "outputs": [
        {
          "output_type": "stream",
          "name": "stdout",
          "text": [
            "(1600, 10) (400, 10)\n"
          ]
        }
      ]
    },
    {
      "cell_type": "code",
      "execution_count": 137,
      "metadata": {
        "id": "qAqxNyvc5zGk"
      },
      "outputs": [],
      "source": [
        "# normalize features\n",
        "scaler = StandardScaler()\n",
        "X_train = scaler.fit_transform(X_train)\n",
        "X_test = scaler.fit_transform(X_test)"
      ]
    },
    {
      "cell_type": "markdown",
      "source": [
        "# **Model Building**\n",
        "Here are some algorithms that will be tested to determine the best model:\n",
        "\n",
        "1. Logistic Regression\n",
        "2. Random Forest\n",
        "3. Decision Tree\n",
        "4. K-Nearest Neighbor\n",
        "5. Neural Network\n",
        "6. Gaussian Naive Bayes"
      ],
      "metadata": {
        "id": "-GAkMMgE21wL"
      }
    },
    {
      "cell_type": "markdown",
      "metadata": {
        "id": "1kMRkBdI439P"
      },
      "source": [
        "**1. Logistic Regression**"
      ]
    },
    {
      "cell_type": "code",
      "execution_count": 138,
      "metadata": {
        "id": "1pGOPZq84kS7"
      },
      "outputs": [],
      "source": [
        "log_model = LogisticRegression().fit(X_train, y_train)"
      ]
    },
    {
      "cell_type": "code",
      "execution_count": 141,
      "metadata": {
        "id": "N69fLl_547dI"
      },
      "outputs": [],
      "source": [
        "y_train_pred_log = log_model.predict(X_train)\n",
        "categories = ['Low', 'Medium', 'High', 'Very High']\n",
        "\n",
        "confusion_matrix_log = pd.DataFrame(confusion_matrix(y_train, y_train_pred_log),\n",
        "                                     index=pd.Index(categories, name='Actual'),\n",
        "                                     columns=pd.Index(categories, name='Predicted'))"
      ]
    },
    {
      "cell_type": "code",
      "execution_count": 143,
      "metadata": {
        "id": "lp0MDsHp5QsG"
      },
      "outputs": [],
      "source": [
        "y_test_pred_log = log_model.predict(X_test)\n",
        "categories = ['Low', 'Medium', 'High', 'Very High']\n",
        "\n",
        "confusion_matrix_log = pd.DataFrame(confusion_matrix(y_test, y_test_pred_log),\n",
        "                                    index=pd.Index(categories, name='Actual'),\n",
        "                                    columns=pd.Index(categories, name='Predicted'))"
      ]
    },
    {
      "cell_type": "code",
      "execution_count": 159,
      "metadata": {
        "id": "muSAwh745h0E",
        "colab": {
          "base_uri": "https://localhost:8080/"
        },
        "outputId": "da538c9a-ff01-48b7-b0af-b896f1f87e68"
      },
      "outputs": [
        {
          "output_type": "stream",
          "name": "stdout",
          "text": [
            "Training Accuracy: % 97.94\n",
            "Test Accuracy: % 96.75\n"
          ]
        }
      ],
      "source": [
        "acc_log_train=round(log_model.score(X_train,y_train)*100,2)\n",
        "acc_log_test=round(log_model.score(X_test,y_test)*100,2)\n",
        "print(\"Training Accuracy: % {}\".format(acc_log_train))\n",
        "print(\"Test Accuracy: % {}\".format(acc_log_test))"
      ]
    },
    {
      "cell_type": "markdown",
      "metadata": {
        "id": "I_BeWmNU6Rm7"
      },
      "source": [
        "**2. Random Forest**"
      ]
    },
    {
      "cell_type": "code",
      "execution_count": 161,
      "metadata": {
        "id": "l5n9yC18ExQ8"
      },
      "outputs": [],
      "source": [
        "rf_model = RandomForestClassifier().fit(X_train, y_train)"
      ]
    },
    {
      "cell_type": "code",
      "execution_count": 163,
      "metadata": {
        "id": "7LbmDVRhG1kS"
      },
      "outputs": [],
      "source": [
        "y_train_pred_rf = rf_model.predict(X_train)\n"
      ]
    },
    {
      "cell_type": "code",
      "execution_count": 164,
      "metadata": {
        "id": "UbIN_pKTVSPf"
      },
      "outputs": [],
      "source": [
        "confusion_matrix_rf = pd.DataFrame(confusion_matrix(y_train, y_train_pred_rf),\n",
        "                                   index=pd.Index(categories, name='Actual'),\n",
        "                                   columns=pd.Index(categories, name='Predicted'))"
      ]
    },
    {
      "cell_type": "code",
      "execution_count": 165,
      "metadata": {
        "id": "VuKd7yAWVODF"
      },
      "outputs": [],
      "source": [
        "y_test_pred_rf = rf_model.predict(X_test)"
      ]
    },
    {
      "cell_type": "code",
      "execution_count": 166,
      "metadata": {
        "id": "BwNj7O6OVZx3"
      },
      "outputs": [],
      "source": [
        "categories = ['Low', 'Medium', 'High', 'Very High']\n",
        "\n",
        "confusion_matrix_rf = pd.DataFrame(confusion_matrix(y_test, y_test_pred_rf),\n",
        "                                    index=pd.Index(categories, name='Actual'),\n",
        "                                    columns=pd.Index(categories, name='Predicted'))"
      ]
    },
    {
      "cell_type": "code",
      "execution_count": 167,
      "metadata": {
        "id": "9NNlDWpKHKLk",
        "colab": {
          "base_uri": "https://localhost:8080/"
        },
        "outputId": "c2934fc0-c624-44c7-bc95-688592b5adce"
      },
      "outputs": [
        {
          "output_type": "stream",
          "name": "stdout",
          "text": [
            "Training Accuracy: % 100.0\n",
            "Test Accuracy: % 89.75\n"
          ]
        }
      ],
      "source": [
        "acc_rf_train=round(rf_model.score(X_train,y_train)*100,2)\n",
        "acc_rf_test=round(rf_model.score(X_test,y_test)*100,2)\n",
        "print(\"Training Accuracy: % {}\".format(acc_rf_train))\n",
        "print(\"Test Accuracy: % {}\".format(acc_rf_test))"
      ]
    },
    {
      "cell_type": "markdown",
      "metadata": {
        "id": "uiHoWEHU7lM4"
      },
      "source": [
        "**3. Decision Tree**"
      ]
    },
    {
      "cell_type": "code",
      "execution_count": 170,
      "metadata": {
        "id": "BH-7DPN-7ppf"
      },
      "outputs": [],
      "source": [
        "dt_model = DecisionTreeClassifier().fit(X_train,y_train)"
      ]
    },
    {
      "cell_type": "code",
      "execution_count": 171,
      "metadata": {
        "id": "2-ZJ5BWy7wQ4"
      },
      "outputs": [],
      "source": [
        "y_train_pred_dt = dt_model.predict(X_train)"
      ]
    },
    {
      "cell_type": "code",
      "execution_count": 172,
      "metadata": {
        "id": "JtwRJEL470mv"
      },
      "outputs": [],
      "source": [
        "confusion_matrix_dt = pd.DataFrame(confusion_matrix(y_train, y_train_pred_dt),\n",
        "                                   index=pd.Index(categories, name='Actual'),\n",
        "                                   columns=pd.Index(categories, name='Predicted'))"
      ]
    },
    {
      "cell_type": "code",
      "execution_count": 173,
      "metadata": {
        "id": "Dkg5lxZS77KM"
      },
      "outputs": [],
      "source": [
        "y_test_pred_dt = dt_model.predict(X_test)"
      ]
    },
    {
      "cell_type": "code",
      "execution_count": 174,
      "metadata": {
        "id": "3HBbTSxu7-pm"
      },
      "outputs": [],
      "source": [
        "categories = ['Low', 'Medium', 'High', 'Very High']\n",
        "\n",
        "confusion_matrix_dt = pd.DataFrame(confusion_matrix(y_test, y_test_pred_dt),\n",
        "                                   index=pd.Index(categories, name='Actual'),\n",
        "                                   columns=pd.Index(categories, name='Predicted'))"
      ]
    },
    {
      "cell_type": "code",
      "execution_count": 175,
      "metadata": {
        "id": "fU_BIM3c8_bd",
        "colab": {
          "base_uri": "https://localhost:8080/"
        },
        "outputId": "8b998f4d-251f-4dde-ef54-28ccb7d510d8"
      },
      "outputs": [
        {
          "output_type": "stream",
          "name": "stdout",
          "text": [
            "Training Accuracy: % 100.0\n",
            "Test Accuracy: % 85.5\n"
          ]
        }
      ],
      "source": [
        "acc_dt_train=round(dt_model.score(X_train,y_train)*100,2)\n",
        "acc_dt_test=round(dt_model.score(X_test,y_test)*100,2)\n",
        "print(\"Training Accuracy: % {}\".format(acc_dt_train))\n",
        "print(\"Test Accuracy: % {}\".format(acc_dt_test))"
      ]
    },
    {
      "cell_type": "markdown",
      "metadata": {
        "id": "nILlC23k9RwI"
      },
      "source": [
        "**4. K-Nearest Neighbors**"
      ]
    },
    {
      "cell_type": "code",
      "execution_count": 176,
      "metadata": {
        "id": "vL_U9yOi9ixF"
      },
      "outputs": [],
      "source": [
        "knn_model = KNeighborsClassifier().fit(X_train,y_train)"
      ]
    },
    {
      "cell_type": "code",
      "execution_count": 177,
      "metadata": {
        "id": "8B1iTR939llJ"
      },
      "outputs": [],
      "source": [
        "y_train_pred_knn = knn_model.predict(X_train)"
      ]
    },
    {
      "cell_type": "code",
      "execution_count": 179,
      "metadata": {
        "id": "qB7GtRtU9zAW"
      },
      "outputs": [],
      "source": [
        "confusion_matrix_knn = pd.DataFrame(confusion_matrix(y_train, y_train_pred_knn),\n",
        "                                    index=pd.Index(categories, name='Actual'),\n",
        "                                    columns=pd.Index(categories, name='Predicted'))"
      ]
    },
    {
      "cell_type": "code",
      "execution_count": 180,
      "metadata": {
        "id": "t_XduLCb-Djb"
      },
      "outputs": [],
      "source": [
        "y_test_pred_knn = knn_model.predict(X_test)"
      ]
    },
    {
      "cell_type": "code",
      "execution_count": 181,
      "metadata": {
        "id": "aFZ_2y9B9998"
      },
      "outputs": [],
      "source": [
        "confusion_matrix_knn = pd.DataFrame(confusion_matrix(y_test, y_test_pred_knn),\n",
        "                                     index=pd.Index(categories, name='Actual'),\n",
        "                                     columns=pd.Index(categories, name='Predicted'))"
      ]
    },
    {
      "cell_type": "code",
      "execution_count": 182,
      "metadata": {
        "id": "D8-X3qTV-hfa",
        "colab": {
          "base_uri": "https://localhost:8080/"
        },
        "outputId": "6b4af60c-bf29-43a2-e5f0-4cc917aacf57"
      },
      "outputs": [
        {
          "output_type": "stream",
          "name": "stdout",
          "text": [
            "Training Accuracy: % 80.56\n",
            "Test Accuracy: % 68.75\n"
          ]
        }
      ],
      "source": [
        "acc_knn_train=round(knn_model.score(X_train,y_train)*100,2)\n",
        "acc_knn_test=round(knn_model.score(X_test,y_test)*100,2)\n",
        "print(\"Training Accuracy: % {}\".format(acc_knn_train))\n",
        "print(\"Test Accuracy: % {}\".format(acc_knn_test))"
      ]
    },
    {
      "cell_type": "markdown",
      "metadata": {
        "id": "xujrPncVABoV"
      },
      "source": [
        "**5. Neural Network**"
      ]
    },
    {
      "cell_type": "code",
      "execution_count": 183,
      "metadata": {
        "id": "jS5NGfYmAH6g"
      },
      "outputs": [],
      "source": [
        "nn_model = MLPClassifier().fit(X_train, y_train)"
      ]
    },
    {
      "cell_type": "code",
      "execution_count": 184,
      "metadata": {
        "id": "ncSjz2OMAPLL"
      },
      "outputs": [],
      "source": [
        "y_train_pred_nn = nn_model.predict(X_train)"
      ]
    },
    {
      "cell_type": "code",
      "execution_count": 186,
      "metadata": {
        "id": "d0WboTffARxQ"
      },
      "outputs": [],
      "source": [
        "confusion_matrix_nn = pd.DataFrame(confusion_matrix(y_train, y_train_pred_nn),\n",
        "                                   index=pd.Index(categories, name='Actual'),\n",
        "                                   columns=pd.Index(categories, name='Predicted'))"
      ]
    },
    {
      "cell_type": "code",
      "execution_count": 187,
      "metadata": {
        "id": "2UFN9lLDAcF8"
      },
      "outputs": [],
      "source": [
        "y_test_pred_nn = nn_model.predict(X_test)"
      ]
    },
    {
      "cell_type": "code",
      "execution_count": 190,
      "metadata": {
        "id": "rlF8rILEAfcW"
      },
      "outputs": [],
      "source": [
        "confusion_matrix_nn = pd.DataFrame(confusion_matrix(y_test, y_test_pred_nn),\n",
        "                                   index=pd.Index(categories, name='Actual'),\n",
        "                                   columns=pd.Index(categories, name='Predicted'))"
      ]
    },
    {
      "cell_type": "code",
      "execution_count": 191,
      "metadata": {
        "id": "FT-v2FP4AqL5",
        "colab": {
          "base_uri": "https://localhost:8080/"
        },
        "outputId": "eae3b055-b88c-4857-a8f3-1ac3cfb29aaf"
      },
      "outputs": [
        {
          "output_type": "stream",
          "name": "stdout",
          "text": [
            "Training Accuracy: % 99.25\n",
            "Test Accuracy: % 95.0\n"
          ]
        }
      ],
      "source": [
        "acc_nn_train=round(nn_model.score(X_train,y_train)*100,2)\n",
        "acc_nn_test=round(nn_model.score(X_test,y_test)*100,2)\n",
        "print(\"Training Accuracy: % {}\".format(acc_nn_train))\n",
        "print(\"Test Accuracy: % {}\".format(acc_nn_test))"
      ]
    },
    {
      "cell_type": "markdown",
      "metadata": {
        "id": "iK6bdd9qAstc"
      },
      "source": [
        "**6. Gaussian Naive Bayes**"
      ]
    },
    {
      "cell_type": "code",
      "execution_count": 192,
      "metadata": {
        "id": "UylkpodbA1mj"
      },
      "outputs": [],
      "source": [
        "gnb_model = GaussianNB().fit(X_train, y_train)"
      ]
    },
    {
      "cell_type": "code",
      "execution_count": 193,
      "metadata": {
        "id": "C6JXmVM3A9r1"
      },
      "outputs": [],
      "source": [
        "y_train_pred_gnb = gnb_model.predict(X_train)"
      ]
    },
    {
      "cell_type": "code",
      "execution_count": 194,
      "metadata": {
        "id": "8aMvaZ7BBIud"
      },
      "outputs": [],
      "source": [
        "y_test_pred_gnb = gnb_model.predict(X_test)"
      ]
    },
    {
      "cell_type": "code",
      "execution_count": 195,
      "metadata": {
        "id": "2vrLIvMQBTcl",
        "colab": {
          "base_uri": "https://localhost:8080/"
        },
        "outputId": "c8030182-1fa3-4f9b-c29e-29220ce2d94d"
      },
      "outputs": [
        {
          "output_type": "stream",
          "name": "stdout",
          "text": [
            "Training Accuracy: % 80.62\n",
            "Test Accuracy: % 79.5\n"
          ]
        }
      ],
      "source": [
        "acc_nb_train=round(gnb_model.score(X_train,y_train)*100,2)\n",
        "acc_nb_test=round(gnb_model.score(X_test,y_test)*100,2)\n",
        "print(\"Training Accuracy: % {}\".format(acc_nb_train))\n",
        "print(\"Test Accuracy: % {}\".format(acc_nb_test))"
      ]
    },
    {
      "cell_type": "markdown",
      "source": [
        "# **Model Selection**"
      ],
      "metadata": {
        "id": "UXmnamL0IYmP"
      }
    },
    {
      "cell_type": "code",
      "execution_count": 198,
      "metadata": {
        "id": "2aNwcX9g-3P4",
        "colab": {
          "base_uri": "https://localhost:8080/",
          "height": 238
        },
        "outputId": "4c7ee8f9-833d-4a66-f3af-73f97420c9ca"
      },
      "outputs": [
        {
          "output_type": "execute_result",
          "data": {
            "text/plain": [
              "<pandas.io.formats.style.Styler at 0x7c29352bfd00>"
            ],
            "text/html": [
              "<style type=\"text/css\">\n",
              "#T_a9117_row0_col1, #T_a9117_row1_col1, #T_a9117_row2_col1, #T_a9117_row2_col2, #T_a9117_row3_col1, #T_a9117_row3_col2 {\n",
              "  background-color: #f2f2f2;\n",
              "  color: #000000;\n",
              "}\n",
              "#T_a9117_row0_col2 {\n",
              "  background-color: #e5d8bd;\n",
              "  color: #000000;\n",
              "}\n",
              "#T_a9117_row1_col2 {\n",
              "  background-color: #ffffcc;\n",
              "  color: #000000;\n",
              "}\n",
              "#T_a9117_row4_col1, #T_a9117_row5_col1, #T_a9117_row5_col2 {\n",
              "  background-color: #fbb4ae;\n",
              "  color: #000000;\n",
              "}\n",
              "#T_a9117_row4_col2 {\n",
              "  background-color: #decbe4;\n",
              "  color: #000000;\n",
              "}\n",
              "</style>\n",
              "<table id=\"T_a9117\" class=\"dataframe\">\n",
              "  <thead>\n",
              "    <tr>\n",
              "      <th class=\"blank level0\" >&nbsp;</th>\n",
              "      <th id=\"T_a9117_level0_col0\" class=\"col_heading level0 col0\" >Models</th>\n",
              "      <th id=\"T_a9117_level0_col1\" class=\"col_heading level0 col1\" >Training Accuracy Score</th>\n",
              "      <th id=\"T_a9117_level0_col2\" class=\"col_heading level0 col2\" >Testing Accuracy Score</th>\n",
              "    </tr>\n",
              "  </thead>\n",
              "  <tbody>\n",
              "    <tr>\n",
              "      <th id=\"T_a9117_level0_row0\" class=\"row_heading level0 row0\" >1</th>\n",
              "      <td id=\"T_a9117_row0_col0\" class=\"data row0 col0\" >Random Forest</td>\n",
              "      <td id=\"T_a9117_row0_col1\" class=\"data row0 col1\" >1.000000</td>\n",
              "      <td id=\"T_a9117_row0_col2\" class=\"data row0 col2\" >0.897500</td>\n",
              "    </tr>\n",
              "    <tr>\n",
              "      <th id=\"T_a9117_level0_row1\" class=\"row_heading level0 row1\" >2</th>\n",
              "      <td id=\"T_a9117_row1_col0\" class=\"data row1 col0\" >Decision Tree</td>\n",
              "      <td id=\"T_a9117_row1_col1\" class=\"data row1 col1\" >1.000000</td>\n",
              "      <td id=\"T_a9117_row1_col2\" class=\"data row1 col2\" >0.855000</td>\n",
              "    </tr>\n",
              "    <tr>\n",
              "      <th id=\"T_a9117_level0_row2\" class=\"row_heading level0 row2\" >4</th>\n",
              "      <td id=\"T_a9117_row2_col0\" class=\"data row2 col0\" >Neural Network</td>\n",
              "      <td id=\"T_a9117_row2_col1\" class=\"data row2 col1\" >0.992500</td>\n",
              "      <td id=\"T_a9117_row2_col2\" class=\"data row2 col2\" >0.950000</td>\n",
              "    </tr>\n",
              "    <tr>\n",
              "      <th id=\"T_a9117_level0_row3\" class=\"row_heading level0 row3\" >0</th>\n",
              "      <td id=\"T_a9117_row3_col0\" class=\"data row3 col0\" >Logistic Regression</td>\n",
              "      <td id=\"T_a9117_row3_col1\" class=\"data row3 col1\" >0.979400</td>\n",
              "      <td id=\"T_a9117_row3_col2\" class=\"data row3 col2\" >0.967500</td>\n",
              "    </tr>\n",
              "    <tr>\n",
              "      <th id=\"T_a9117_level0_row4\" class=\"row_heading level0 row4\" >5</th>\n",
              "      <td id=\"T_a9117_row4_col0\" class=\"data row4 col0\" >naive bayes</td>\n",
              "      <td id=\"T_a9117_row4_col1\" class=\"data row4 col1\" >0.806200</td>\n",
              "      <td id=\"T_a9117_row4_col2\" class=\"data row4 col2\" >0.795000</td>\n",
              "    </tr>\n",
              "    <tr>\n",
              "      <th id=\"T_a9117_level0_row5\" class=\"row_heading level0 row5\" >3</th>\n",
              "      <td id=\"T_a9117_row5_col0\" class=\"data row5 col0\" >K-Nearest Neighbor</td>\n",
              "      <td id=\"T_a9117_row5_col1\" class=\"data row5 col1\" >0.805600</td>\n",
              "      <td id=\"T_a9117_row5_col2\" class=\"data row5 col2\" >0.687500</td>\n",
              "    </tr>\n",
              "  </tbody>\n",
              "</table>\n"
            ]
          },
          "metadata": {},
          "execution_count": 198
        }
      ],
      "source": [
        "results = pd.DataFrame([[\"Logistic Regression\", 0.9794, 0.9675],\n",
        "                        [\"Random Forest\", 1, 0.8975],\n",
        "                        [\"Decision Tree\", 1, 0.855],\n",
        "                        [\"K-Nearest Neighbor\", 0.8056, 0.6875],\n",
        "                        [\"Neural Network\", 0.9925, 0.95],\n",
        "                        [\"naive bayes\", 0.8062, 0.795]],\n",
        "                        columns = [\"Models\", \"Training Accuracy Score\", \"Testing Accuracy Score\"])\n",
        "\n",
        "results.sort_values(by=['Training Accuracy Score', 'Testing Accuracy Score'], ascending=False).style.background_gradient(cmap='Pastel1')"
      ]
    },
    {
      "cell_type": "markdown",
      "source": [
        "**The prediction accuracy of the train and test data in Random Forest model has a value that is not much different, it can be said that the model is very good, which is there is no underfitting or overfitting. So the Random Forest model was chosen as the best model to predict a price range indicating how high the price is**"
      ],
      "metadata": {
        "id": "c0GlqmbgIiwS"
      }
    },
    {
      "cell_type": "markdown",
      "source": [
        "# **Prediction**\n"
      ],
      "metadata": {
        "id": "bdRQIGqBJOhj"
      }
    },
    {
      "cell_type": "markdown",
      "source": [
        "# **Import Dataset**"
      ],
      "metadata": {
        "id": "Ys23fs07JXPU"
      }
    },
    {
      "cell_type": "code",
      "source": [
        "df_test = pd.read_csv('/content/test.csv')\n",
        "print('This dataset has %d rows dan %d columns.\\n' % df_test.shape)\n",
        "df_test.head()"
      ],
      "metadata": {
        "colab": {
          "base_uri": "https://localhost:8080/",
          "height": 290
        },
        "id": "mrshKd0tJL-u",
        "outputId": "e47a0e20-ee73-496f-c72f-44450ee91157"
      },
      "execution_count": 199,
      "outputs": [
        {
          "output_type": "stream",
          "name": "stdout",
          "text": [
            "This dataset has 1000 rows dan 21 columns.\n",
            "\n"
          ]
        },
        {
          "output_type": "execute_result",
          "data": {
            "text/plain": [
              "   id  battery_power  blue  clock_speed  dual_sim  fc  four_g  int_memory  \\\n",
              "0   1           1043     1          1.8         1  14       0           5   \n",
              "1   2            841     1          0.5         1   4       1          61   \n",
              "2   3           1807     1          2.8         0   1       0          27   \n",
              "3   4           1546     0          0.5         1  18       1          25   \n",
              "4   5           1434     0          1.4         0  11       1          49   \n",
              "\n",
              "   m_dep  mobile_wt  ...  pc  px_height  px_width   ram  sc_h  sc_w  \\\n",
              "0    0.1        193  ...  16        226      1412  3476    12     7   \n",
              "1    0.8        191  ...  12        746       857  3895     6     0   \n",
              "2    0.9        186  ...   4       1270      1366  2396    17    10   \n",
              "3    0.5         96  ...  20        295      1752  3893    10     0   \n",
              "4    0.5        108  ...  18        749       810  1773    15     8   \n",
              "\n",
              "   talk_time  three_g  touch_screen  wifi  \n",
              "0          2        0             1     0  \n",
              "1          7        1             0     0  \n",
              "2         10        0             1     1  \n",
              "3          7        1             1     0  \n",
              "4          7        1             0     1  \n",
              "\n",
              "[5 rows x 21 columns]"
            ],
            "text/html": [
              "\n",
              "  <div id=\"df-2bd6ba01-a575-48a8-b262-5ca73f1af50a\" class=\"colab-df-container\">\n",
              "    <div>\n",
              "<style scoped>\n",
              "    .dataframe tbody tr th:only-of-type {\n",
              "        vertical-align: middle;\n",
              "    }\n",
              "\n",
              "    .dataframe tbody tr th {\n",
              "        vertical-align: top;\n",
              "    }\n",
              "\n",
              "    .dataframe thead th {\n",
              "        text-align: right;\n",
              "    }\n",
              "</style>\n",
              "<table border=\"1\" class=\"dataframe\">\n",
              "  <thead>\n",
              "    <tr style=\"text-align: right;\">\n",
              "      <th></th>\n",
              "      <th>id</th>\n",
              "      <th>battery_power</th>\n",
              "      <th>blue</th>\n",
              "      <th>clock_speed</th>\n",
              "      <th>dual_sim</th>\n",
              "      <th>fc</th>\n",
              "      <th>four_g</th>\n",
              "      <th>int_memory</th>\n",
              "      <th>m_dep</th>\n",
              "      <th>mobile_wt</th>\n",
              "      <th>...</th>\n",
              "      <th>pc</th>\n",
              "      <th>px_height</th>\n",
              "      <th>px_width</th>\n",
              "      <th>ram</th>\n",
              "      <th>sc_h</th>\n",
              "      <th>sc_w</th>\n",
              "      <th>talk_time</th>\n",
              "      <th>three_g</th>\n",
              "      <th>touch_screen</th>\n",
              "      <th>wifi</th>\n",
              "    </tr>\n",
              "  </thead>\n",
              "  <tbody>\n",
              "    <tr>\n",
              "      <th>0</th>\n",
              "      <td>1</td>\n",
              "      <td>1043</td>\n",
              "      <td>1</td>\n",
              "      <td>1.8</td>\n",
              "      <td>1</td>\n",
              "      <td>14</td>\n",
              "      <td>0</td>\n",
              "      <td>5</td>\n",
              "      <td>0.1</td>\n",
              "      <td>193</td>\n",
              "      <td>...</td>\n",
              "      <td>16</td>\n",
              "      <td>226</td>\n",
              "      <td>1412</td>\n",
              "      <td>3476</td>\n",
              "      <td>12</td>\n",
              "      <td>7</td>\n",
              "      <td>2</td>\n",
              "      <td>0</td>\n",
              "      <td>1</td>\n",
              "      <td>0</td>\n",
              "    </tr>\n",
              "    <tr>\n",
              "      <th>1</th>\n",
              "      <td>2</td>\n",
              "      <td>841</td>\n",
              "      <td>1</td>\n",
              "      <td>0.5</td>\n",
              "      <td>1</td>\n",
              "      <td>4</td>\n",
              "      <td>1</td>\n",
              "      <td>61</td>\n",
              "      <td>0.8</td>\n",
              "      <td>191</td>\n",
              "      <td>...</td>\n",
              "      <td>12</td>\n",
              "      <td>746</td>\n",
              "      <td>857</td>\n",
              "      <td>3895</td>\n",
              "      <td>6</td>\n",
              "      <td>0</td>\n",
              "      <td>7</td>\n",
              "      <td>1</td>\n",
              "      <td>0</td>\n",
              "      <td>0</td>\n",
              "    </tr>\n",
              "    <tr>\n",
              "      <th>2</th>\n",
              "      <td>3</td>\n",
              "      <td>1807</td>\n",
              "      <td>1</td>\n",
              "      <td>2.8</td>\n",
              "      <td>0</td>\n",
              "      <td>1</td>\n",
              "      <td>0</td>\n",
              "      <td>27</td>\n",
              "      <td>0.9</td>\n",
              "      <td>186</td>\n",
              "      <td>...</td>\n",
              "      <td>4</td>\n",
              "      <td>1270</td>\n",
              "      <td>1366</td>\n",
              "      <td>2396</td>\n",
              "      <td>17</td>\n",
              "      <td>10</td>\n",
              "      <td>10</td>\n",
              "      <td>0</td>\n",
              "      <td>1</td>\n",
              "      <td>1</td>\n",
              "    </tr>\n",
              "    <tr>\n",
              "      <th>3</th>\n",
              "      <td>4</td>\n",
              "      <td>1546</td>\n",
              "      <td>0</td>\n",
              "      <td>0.5</td>\n",
              "      <td>1</td>\n",
              "      <td>18</td>\n",
              "      <td>1</td>\n",
              "      <td>25</td>\n",
              "      <td>0.5</td>\n",
              "      <td>96</td>\n",
              "      <td>...</td>\n",
              "      <td>20</td>\n",
              "      <td>295</td>\n",
              "      <td>1752</td>\n",
              "      <td>3893</td>\n",
              "      <td>10</td>\n",
              "      <td>0</td>\n",
              "      <td>7</td>\n",
              "      <td>1</td>\n",
              "      <td>1</td>\n",
              "      <td>0</td>\n",
              "    </tr>\n",
              "    <tr>\n",
              "      <th>4</th>\n",
              "      <td>5</td>\n",
              "      <td>1434</td>\n",
              "      <td>0</td>\n",
              "      <td>1.4</td>\n",
              "      <td>0</td>\n",
              "      <td>11</td>\n",
              "      <td>1</td>\n",
              "      <td>49</td>\n",
              "      <td>0.5</td>\n",
              "      <td>108</td>\n",
              "      <td>...</td>\n",
              "      <td>18</td>\n",
              "      <td>749</td>\n",
              "      <td>810</td>\n",
              "      <td>1773</td>\n",
              "      <td>15</td>\n",
              "      <td>8</td>\n",
              "      <td>7</td>\n",
              "      <td>1</td>\n",
              "      <td>0</td>\n",
              "      <td>1</td>\n",
              "    </tr>\n",
              "  </tbody>\n",
              "</table>\n",
              "<p>5 rows × 21 columns</p>\n",
              "</div>\n",
              "    <div class=\"colab-df-buttons\">\n",
              "\n",
              "  <div class=\"colab-df-container\">\n",
              "    <button class=\"colab-df-convert\" onclick=\"convertToInteractive('df-2bd6ba01-a575-48a8-b262-5ca73f1af50a')\"\n",
              "            title=\"Convert this dataframe to an interactive table.\"\n",
              "            style=\"display:none;\">\n",
              "\n",
              "  <svg xmlns=\"http://www.w3.org/2000/svg\" height=\"24px\" viewBox=\"0 -960 960 960\">\n",
              "    <path d=\"M120-120v-720h720v720H120Zm60-500h600v-160H180v160Zm220 220h160v-160H400v160Zm0 220h160v-160H400v160ZM180-400h160v-160H180v160Zm440 0h160v-160H620v160ZM180-180h160v-160H180v160Zm440 0h160v-160H620v160Z\"/>\n",
              "  </svg>\n",
              "    </button>\n",
              "\n",
              "  <style>\n",
              "    .colab-df-container {\n",
              "      display:flex;\n",
              "      gap: 12px;\n",
              "    }\n",
              "\n",
              "    .colab-df-convert {\n",
              "      background-color: #E8F0FE;\n",
              "      border: none;\n",
              "      border-radius: 50%;\n",
              "      cursor: pointer;\n",
              "      display: none;\n",
              "      fill: #1967D2;\n",
              "      height: 32px;\n",
              "      padding: 0 0 0 0;\n",
              "      width: 32px;\n",
              "    }\n",
              "\n",
              "    .colab-df-convert:hover {\n",
              "      background-color: #E2EBFA;\n",
              "      box-shadow: 0px 1px 2px rgba(60, 64, 67, 0.3), 0px 1px 3px 1px rgba(60, 64, 67, 0.15);\n",
              "      fill: #174EA6;\n",
              "    }\n",
              "\n",
              "    .colab-df-buttons div {\n",
              "      margin-bottom: 4px;\n",
              "    }\n",
              "\n",
              "    [theme=dark] .colab-df-convert {\n",
              "      background-color: #3B4455;\n",
              "      fill: #D2E3FC;\n",
              "    }\n",
              "\n",
              "    [theme=dark] .colab-df-convert:hover {\n",
              "      background-color: #434B5C;\n",
              "      box-shadow: 0px 1px 3px 1px rgba(0, 0, 0, 0.15);\n",
              "      filter: drop-shadow(0px 1px 2px rgba(0, 0, 0, 0.3));\n",
              "      fill: #FFFFFF;\n",
              "    }\n",
              "  </style>\n",
              "\n",
              "    <script>\n",
              "      const buttonEl =\n",
              "        document.querySelector('#df-2bd6ba01-a575-48a8-b262-5ca73f1af50a button.colab-df-convert');\n",
              "      buttonEl.style.display =\n",
              "        google.colab.kernel.accessAllowed ? 'block' : 'none';\n",
              "\n",
              "      async function convertToInteractive(key) {\n",
              "        const element = document.querySelector('#df-2bd6ba01-a575-48a8-b262-5ca73f1af50a');\n",
              "        const dataTable =\n",
              "          await google.colab.kernel.invokeFunction('convertToInteractive',\n",
              "                                                    [key], {});\n",
              "        if (!dataTable) return;\n",
              "\n",
              "        const docLinkHtml = 'Like what you see? Visit the ' +\n",
              "          '<a target=\"_blank\" href=https://colab.research.google.com/notebooks/data_table.ipynb>data table notebook</a>'\n",
              "          + ' to learn more about interactive tables.';\n",
              "        element.innerHTML = '';\n",
              "        dataTable['output_type'] = 'display_data';\n",
              "        await google.colab.output.renderOutput(dataTable, element);\n",
              "        const docLink = document.createElement('div');\n",
              "        docLink.innerHTML = docLinkHtml;\n",
              "        element.appendChild(docLink);\n",
              "      }\n",
              "    </script>\n",
              "  </div>\n",
              "\n",
              "\n",
              "<div id=\"df-d0010aae-f67d-4dad-ae7d-00ac53b6f400\">\n",
              "  <button class=\"colab-df-quickchart\" onclick=\"quickchart('df-d0010aae-f67d-4dad-ae7d-00ac53b6f400')\"\n",
              "            title=\"Suggest charts\"\n",
              "            style=\"display:none;\">\n",
              "\n",
              "<svg xmlns=\"http://www.w3.org/2000/svg\" height=\"24px\"viewBox=\"0 0 24 24\"\n",
              "     width=\"24px\">\n",
              "    <g>\n",
              "        <path d=\"M19 3H5c-1.1 0-2 .9-2 2v14c0 1.1.9 2 2 2h14c1.1 0 2-.9 2-2V5c0-1.1-.9-2-2-2zM9 17H7v-7h2v7zm4 0h-2V7h2v10zm4 0h-2v-4h2v4z\"/>\n",
              "    </g>\n",
              "</svg>\n",
              "  </button>\n",
              "\n",
              "<style>\n",
              "  .colab-df-quickchart {\n",
              "      --bg-color: #E8F0FE;\n",
              "      --fill-color: #1967D2;\n",
              "      --hover-bg-color: #E2EBFA;\n",
              "      --hover-fill-color: #174EA6;\n",
              "      --disabled-fill-color: #AAA;\n",
              "      --disabled-bg-color: #DDD;\n",
              "  }\n",
              "\n",
              "  [theme=dark] .colab-df-quickchart {\n",
              "      --bg-color: #3B4455;\n",
              "      --fill-color: #D2E3FC;\n",
              "      --hover-bg-color: #434B5C;\n",
              "      --hover-fill-color: #FFFFFF;\n",
              "      --disabled-bg-color: #3B4455;\n",
              "      --disabled-fill-color: #666;\n",
              "  }\n",
              "\n",
              "  .colab-df-quickchart {\n",
              "    background-color: var(--bg-color);\n",
              "    border: none;\n",
              "    border-radius: 50%;\n",
              "    cursor: pointer;\n",
              "    display: none;\n",
              "    fill: var(--fill-color);\n",
              "    height: 32px;\n",
              "    padding: 0;\n",
              "    width: 32px;\n",
              "  }\n",
              "\n",
              "  .colab-df-quickchart:hover {\n",
              "    background-color: var(--hover-bg-color);\n",
              "    box-shadow: 0 1px 2px rgba(60, 64, 67, 0.3), 0 1px 3px 1px rgba(60, 64, 67, 0.15);\n",
              "    fill: var(--button-hover-fill-color);\n",
              "  }\n",
              "\n",
              "  .colab-df-quickchart-complete:disabled,\n",
              "  .colab-df-quickchart-complete:disabled:hover {\n",
              "    background-color: var(--disabled-bg-color);\n",
              "    fill: var(--disabled-fill-color);\n",
              "    box-shadow: none;\n",
              "  }\n",
              "\n",
              "  .colab-df-spinner {\n",
              "    border: 2px solid var(--fill-color);\n",
              "    border-color: transparent;\n",
              "    border-bottom-color: var(--fill-color);\n",
              "    animation:\n",
              "      spin 1s steps(1) infinite;\n",
              "  }\n",
              "\n",
              "  @keyframes spin {\n",
              "    0% {\n",
              "      border-color: transparent;\n",
              "      border-bottom-color: var(--fill-color);\n",
              "      border-left-color: var(--fill-color);\n",
              "    }\n",
              "    20% {\n",
              "      border-color: transparent;\n",
              "      border-left-color: var(--fill-color);\n",
              "      border-top-color: var(--fill-color);\n",
              "    }\n",
              "    30% {\n",
              "      border-color: transparent;\n",
              "      border-left-color: var(--fill-color);\n",
              "      border-top-color: var(--fill-color);\n",
              "      border-right-color: var(--fill-color);\n",
              "    }\n",
              "    40% {\n",
              "      border-color: transparent;\n",
              "      border-right-color: var(--fill-color);\n",
              "      border-top-color: var(--fill-color);\n",
              "    }\n",
              "    60% {\n",
              "      border-color: transparent;\n",
              "      border-right-color: var(--fill-color);\n",
              "    }\n",
              "    80% {\n",
              "      border-color: transparent;\n",
              "      border-right-color: var(--fill-color);\n",
              "      border-bottom-color: var(--fill-color);\n",
              "    }\n",
              "    90% {\n",
              "      border-color: transparent;\n",
              "      border-bottom-color: var(--fill-color);\n",
              "    }\n",
              "  }\n",
              "</style>\n",
              "\n",
              "  <script>\n",
              "    async function quickchart(key) {\n",
              "      const quickchartButtonEl =\n",
              "        document.querySelector('#' + key + ' button');\n",
              "      quickchartButtonEl.disabled = true;  // To prevent multiple clicks.\n",
              "      quickchartButtonEl.classList.add('colab-df-spinner');\n",
              "      try {\n",
              "        const charts = await google.colab.kernel.invokeFunction(\n",
              "            'suggestCharts', [key], {});\n",
              "      } catch (error) {\n",
              "        console.error('Error during call to suggestCharts:', error);\n",
              "      }\n",
              "      quickchartButtonEl.classList.remove('colab-df-spinner');\n",
              "      quickchartButtonEl.classList.add('colab-df-quickchart-complete');\n",
              "    }\n",
              "    (() => {\n",
              "      let quickchartButtonEl =\n",
              "        document.querySelector('#df-d0010aae-f67d-4dad-ae7d-00ac53b6f400 button');\n",
              "      quickchartButtonEl.style.display =\n",
              "        google.colab.kernel.accessAllowed ? 'block' : 'none';\n",
              "    })();\n",
              "  </script>\n",
              "</div>\n",
              "    </div>\n",
              "  </div>\n"
            ],
            "application/vnd.google.colaboratory.intrinsic+json": {
              "type": "dataframe",
              "variable_name": "df_test"
            }
          },
          "metadata": {},
          "execution_count": 199
        }
      ]
    },
    {
      "cell_type": "markdown",
      "source": [
        "# **Data Prepocessing**"
      ],
      "metadata": {
        "id": "uXwgkyDmJpvq"
      }
    },
    {
      "cell_type": "markdown",
      "source": [
        "**Detecting Duplication**"
      ],
      "metadata": {
        "id": "lKB7N7mTJyCR"
      }
    },
    {
      "cell_type": "code",
      "source": [
        "print('The number of duplication is:', df_test.duplicated().sum())"
      ],
      "metadata": {
        "colab": {
          "base_uri": "https://localhost:8080/"
        },
        "id": "rF4BzVwzJ3TR",
        "outputId": "b8993708-07a4-42fd-b8fe-32f1d37535e5"
      },
      "execution_count": 200,
      "outputs": [
        {
          "output_type": "stream",
          "name": "stdout",
          "text": [
            "The number of duplication is: 0\n"
          ]
        }
      ]
    },
    {
      "cell_type": "markdown",
      "source": [
        "**Detecting Missing Values**"
      ],
      "metadata": {
        "id": "QtZJDrfgJ4wW"
      }
    },
    {
      "cell_type": "code",
      "source": [
        "print('Missing values status:', df_test.isnull().values.any())\n",
        "tvc = pd.DataFrame(df_test.isnull().sum(), columns=['Total Null Values'])\n",
        "tvc['Percentage'] = (tvc['Total Null Values']/df_test.shape[0])*100\n",
        "tvc.sort_values(by=['Percentage'], ascending=False).reset_index()"
      ],
      "metadata": {
        "colab": {
          "base_uri": "https://localhost:8080/",
          "height": 725
        },
        "id": "gRiSoAraJ9Vt",
        "outputId": "59ace7bd-196e-4898-fa92-fc692130a336"
      },
      "execution_count": 201,
      "outputs": [
        {
          "output_type": "stream",
          "name": "stdout",
          "text": [
            "Missing values status: False\n"
          ]
        },
        {
          "output_type": "execute_result",
          "data": {
            "text/plain": [
              "            index  Total Null Values  Percentage\n",
              "0              id                  0         0.0\n",
              "1              pc                  0         0.0\n",
              "2    touch_screen                  0         0.0\n",
              "3         three_g                  0         0.0\n",
              "4       talk_time                  0         0.0\n",
              "5            sc_w                  0         0.0\n",
              "6            sc_h                  0         0.0\n",
              "7             ram                  0         0.0\n",
              "8        px_width                  0         0.0\n",
              "9       px_height                  0         0.0\n",
              "10        n_cores                  0         0.0\n",
              "11  battery_power                  0         0.0\n",
              "12      mobile_wt                  0         0.0\n",
              "13          m_dep                  0         0.0\n",
              "14     int_memory                  0         0.0\n",
              "15         four_g                  0         0.0\n",
              "16             fc                  0         0.0\n",
              "17       dual_sim                  0         0.0\n",
              "18    clock_speed                  0         0.0\n",
              "19           blue                  0         0.0\n",
              "20           wifi                  0         0.0"
            ],
            "text/html": [
              "\n",
              "  <div id=\"df-8c400ffb-1cd6-49bd-9c0f-1f327b41d2db\" class=\"colab-df-container\">\n",
              "    <div>\n",
              "<style scoped>\n",
              "    .dataframe tbody tr th:only-of-type {\n",
              "        vertical-align: middle;\n",
              "    }\n",
              "\n",
              "    .dataframe tbody tr th {\n",
              "        vertical-align: top;\n",
              "    }\n",
              "\n",
              "    .dataframe thead th {\n",
              "        text-align: right;\n",
              "    }\n",
              "</style>\n",
              "<table border=\"1\" class=\"dataframe\">\n",
              "  <thead>\n",
              "    <tr style=\"text-align: right;\">\n",
              "      <th></th>\n",
              "      <th>index</th>\n",
              "      <th>Total Null Values</th>\n",
              "      <th>Percentage</th>\n",
              "    </tr>\n",
              "  </thead>\n",
              "  <tbody>\n",
              "    <tr>\n",
              "      <th>0</th>\n",
              "      <td>id</td>\n",
              "      <td>0</td>\n",
              "      <td>0.0</td>\n",
              "    </tr>\n",
              "    <tr>\n",
              "      <th>1</th>\n",
              "      <td>pc</td>\n",
              "      <td>0</td>\n",
              "      <td>0.0</td>\n",
              "    </tr>\n",
              "    <tr>\n",
              "      <th>2</th>\n",
              "      <td>touch_screen</td>\n",
              "      <td>0</td>\n",
              "      <td>0.0</td>\n",
              "    </tr>\n",
              "    <tr>\n",
              "      <th>3</th>\n",
              "      <td>three_g</td>\n",
              "      <td>0</td>\n",
              "      <td>0.0</td>\n",
              "    </tr>\n",
              "    <tr>\n",
              "      <th>4</th>\n",
              "      <td>talk_time</td>\n",
              "      <td>0</td>\n",
              "      <td>0.0</td>\n",
              "    </tr>\n",
              "    <tr>\n",
              "      <th>5</th>\n",
              "      <td>sc_w</td>\n",
              "      <td>0</td>\n",
              "      <td>0.0</td>\n",
              "    </tr>\n",
              "    <tr>\n",
              "      <th>6</th>\n",
              "      <td>sc_h</td>\n",
              "      <td>0</td>\n",
              "      <td>0.0</td>\n",
              "    </tr>\n",
              "    <tr>\n",
              "      <th>7</th>\n",
              "      <td>ram</td>\n",
              "      <td>0</td>\n",
              "      <td>0.0</td>\n",
              "    </tr>\n",
              "    <tr>\n",
              "      <th>8</th>\n",
              "      <td>px_width</td>\n",
              "      <td>0</td>\n",
              "      <td>0.0</td>\n",
              "    </tr>\n",
              "    <tr>\n",
              "      <th>9</th>\n",
              "      <td>px_height</td>\n",
              "      <td>0</td>\n",
              "      <td>0.0</td>\n",
              "    </tr>\n",
              "    <tr>\n",
              "      <th>10</th>\n",
              "      <td>n_cores</td>\n",
              "      <td>0</td>\n",
              "      <td>0.0</td>\n",
              "    </tr>\n",
              "    <tr>\n",
              "      <th>11</th>\n",
              "      <td>battery_power</td>\n",
              "      <td>0</td>\n",
              "      <td>0.0</td>\n",
              "    </tr>\n",
              "    <tr>\n",
              "      <th>12</th>\n",
              "      <td>mobile_wt</td>\n",
              "      <td>0</td>\n",
              "      <td>0.0</td>\n",
              "    </tr>\n",
              "    <tr>\n",
              "      <th>13</th>\n",
              "      <td>m_dep</td>\n",
              "      <td>0</td>\n",
              "      <td>0.0</td>\n",
              "    </tr>\n",
              "    <tr>\n",
              "      <th>14</th>\n",
              "      <td>int_memory</td>\n",
              "      <td>0</td>\n",
              "      <td>0.0</td>\n",
              "    </tr>\n",
              "    <tr>\n",
              "      <th>15</th>\n",
              "      <td>four_g</td>\n",
              "      <td>0</td>\n",
              "      <td>0.0</td>\n",
              "    </tr>\n",
              "    <tr>\n",
              "      <th>16</th>\n",
              "      <td>fc</td>\n",
              "      <td>0</td>\n",
              "      <td>0.0</td>\n",
              "    </tr>\n",
              "    <tr>\n",
              "      <th>17</th>\n",
              "      <td>dual_sim</td>\n",
              "      <td>0</td>\n",
              "      <td>0.0</td>\n",
              "    </tr>\n",
              "    <tr>\n",
              "      <th>18</th>\n",
              "      <td>clock_speed</td>\n",
              "      <td>0</td>\n",
              "      <td>0.0</td>\n",
              "    </tr>\n",
              "    <tr>\n",
              "      <th>19</th>\n",
              "      <td>blue</td>\n",
              "      <td>0</td>\n",
              "      <td>0.0</td>\n",
              "    </tr>\n",
              "    <tr>\n",
              "      <th>20</th>\n",
              "      <td>wifi</td>\n",
              "      <td>0</td>\n",
              "      <td>0.0</td>\n",
              "    </tr>\n",
              "  </tbody>\n",
              "</table>\n",
              "</div>\n",
              "    <div class=\"colab-df-buttons\">\n",
              "\n",
              "  <div class=\"colab-df-container\">\n",
              "    <button class=\"colab-df-convert\" onclick=\"convertToInteractive('df-8c400ffb-1cd6-49bd-9c0f-1f327b41d2db')\"\n",
              "            title=\"Convert this dataframe to an interactive table.\"\n",
              "            style=\"display:none;\">\n",
              "\n",
              "  <svg xmlns=\"http://www.w3.org/2000/svg\" height=\"24px\" viewBox=\"0 -960 960 960\">\n",
              "    <path d=\"M120-120v-720h720v720H120Zm60-500h600v-160H180v160Zm220 220h160v-160H400v160Zm0 220h160v-160H400v160ZM180-400h160v-160H180v160Zm440 0h160v-160H620v160ZM180-180h160v-160H180v160Zm440 0h160v-160H620v160Z\"/>\n",
              "  </svg>\n",
              "    </button>\n",
              "\n",
              "  <style>\n",
              "    .colab-df-container {\n",
              "      display:flex;\n",
              "      gap: 12px;\n",
              "    }\n",
              "\n",
              "    .colab-df-convert {\n",
              "      background-color: #E8F0FE;\n",
              "      border: none;\n",
              "      border-radius: 50%;\n",
              "      cursor: pointer;\n",
              "      display: none;\n",
              "      fill: #1967D2;\n",
              "      height: 32px;\n",
              "      padding: 0 0 0 0;\n",
              "      width: 32px;\n",
              "    }\n",
              "\n",
              "    .colab-df-convert:hover {\n",
              "      background-color: #E2EBFA;\n",
              "      box-shadow: 0px 1px 2px rgba(60, 64, 67, 0.3), 0px 1px 3px 1px rgba(60, 64, 67, 0.15);\n",
              "      fill: #174EA6;\n",
              "    }\n",
              "\n",
              "    .colab-df-buttons div {\n",
              "      margin-bottom: 4px;\n",
              "    }\n",
              "\n",
              "    [theme=dark] .colab-df-convert {\n",
              "      background-color: #3B4455;\n",
              "      fill: #D2E3FC;\n",
              "    }\n",
              "\n",
              "    [theme=dark] .colab-df-convert:hover {\n",
              "      background-color: #434B5C;\n",
              "      box-shadow: 0px 1px 3px 1px rgba(0, 0, 0, 0.15);\n",
              "      filter: drop-shadow(0px 1px 2px rgba(0, 0, 0, 0.3));\n",
              "      fill: #FFFFFF;\n",
              "    }\n",
              "  </style>\n",
              "\n",
              "    <script>\n",
              "      const buttonEl =\n",
              "        document.querySelector('#df-8c400ffb-1cd6-49bd-9c0f-1f327b41d2db button.colab-df-convert');\n",
              "      buttonEl.style.display =\n",
              "        google.colab.kernel.accessAllowed ? 'block' : 'none';\n",
              "\n",
              "      async function convertToInteractive(key) {\n",
              "        const element = document.querySelector('#df-8c400ffb-1cd6-49bd-9c0f-1f327b41d2db');\n",
              "        const dataTable =\n",
              "          await google.colab.kernel.invokeFunction('convertToInteractive',\n",
              "                                                    [key], {});\n",
              "        if (!dataTable) return;\n",
              "\n",
              "        const docLinkHtml = 'Like what you see? Visit the ' +\n",
              "          '<a target=\"_blank\" href=https://colab.research.google.com/notebooks/data_table.ipynb>data table notebook</a>'\n",
              "          + ' to learn more about interactive tables.';\n",
              "        element.innerHTML = '';\n",
              "        dataTable['output_type'] = 'display_data';\n",
              "        await google.colab.output.renderOutput(dataTable, element);\n",
              "        const docLink = document.createElement('div');\n",
              "        docLink.innerHTML = docLinkHtml;\n",
              "        element.appendChild(docLink);\n",
              "      }\n",
              "    </script>\n",
              "  </div>\n",
              "\n",
              "\n",
              "<div id=\"df-364ae3f2-fa84-41f1-93f4-32a721d66392\">\n",
              "  <button class=\"colab-df-quickchart\" onclick=\"quickchart('df-364ae3f2-fa84-41f1-93f4-32a721d66392')\"\n",
              "            title=\"Suggest charts\"\n",
              "            style=\"display:none;\">\n",
              "\n",
              "<svg xmlns=\"http://www.w3.org/2000/svg\" height=\"24px\"viewBox=\"0 0 24 24\"\n",
              "     width=\"24px\">\n",
              "    <g>\n",
              "        <path d=\"M19 3H5c-1.1 0-2 .9-2 2v14c0 1.1.9 2 2 2h14c1.1 0 2-.9 2-2V5c0-1.1-.9-2-2-2zM9 17H7v-7h2v7zm4 0h-2V7h2v10zm4 0h-2v-4h2v4z\"/>\n",
              "    </g>\n",
              "</svg>\n",
              "  </button>\n",
              "\n",
              "<style>\n",
              "  .colab-df-quickchart {\n",
              "      --bg-color: #E8F0FE;\n",
              "      --fill-color: #1967D2;\n",
              "      --hover-bg-color: #E2EBFA;\n",
              "      --hover-fill-color: #174EA6;\n",
              "      --disabled-fill-color: #AAA;\n",
              "      --disabled-bg-color: #DDD;\n",
              "  }\n",
              "\n",
              "  [theme=dark] .colab-df-quickchart {\n",
              "      --bg-color: #3B4455;\n",
              "      --fill-color: #D2E3FC;\n",
              "      --hover-bg-color: #434B5C;\n",
              "      --hover-fill-color: #FFFFFF;\n",
              "      --disabled-bg-color: #3B4455;\n",
              "      --disabled-fill-color: #666;\n",
              "  }\n",
              "\n",
              "  .colab-df-quickchart {\n",
              "    background-color: var(--bg-color);\n",
              "    border: none;\n",
              "    border-radius: 50%;\n",
              "    cursor: pointer;\n",
              "    display: none;\n",
              "    fill: var(--fill-color);\n",
              "    height: 32px;\n",
              "    padding: 0;\n",
              "    width: 32px;\n",
              "  }\n",
              "\n",
              "  .colab-df-quickchart:hover {\n",
              "    background-color: var(--hover-bg-color);\n",
              "    box-shadow: 0 1px 2px rgba(60, 64, 67, 0.3), 0 1px 3px 1px rgba(60, 64, 67, 0.15);\n",
              "    fill: var(--button-hover-fill-color);\n",
              "  }\n",
              "\n",
              "  .colab-df-quickchart-complete:disabled,\n",
              "  .colab-df-quickchart-complete:disabled:hover {\n",
              "    background-color: var(--disabled-bg-color);\n",
              "    fill: var(--disabled-fill-color);\n",
              "    box-shadow: none;\n",
              "  }\n",
              "\n",
              "  .colab-df-spinner {\n",
              "    border: 2px solid var(--fill-color);\n",
              "    border-color: transparent;\n",
              "    border-bottom-color: var(--fill-color);\n",
              "    animation:\n",
              "      spin 1s steps(1) infinite;\n",
              "  }\n",
              "\n",
              "  @keyframes spin {\n",
              "    0% {\n",
              "      border-color: transparent;\n",
              "      border-bottom-color: var(--fill-color);\n",
              "      border-left-color: var(--fill-color);\n",
              "    }\n",
              "    20% {\n",
              "      border-color: transparent;\n",
              "      border-left-color: var(--fill-color);\n",
              "      border-top-color: var(--fill-color);\n",
              "    }\n",
              "    30% {\n",
              "      border-color: transparent;\n",
              "      border-left-color: var(--fill-color);\n",
              "      border-top-color: var(--fill-color);\n",
              "      border-right-color: var(--fill-color);\n",
              "    }\n",
              "    40% {\n",
              "      border-color: transparent;\n",
              "      border-right-color: var(--fill-color);\n",
              "      border-top-color: var(--fill-color);\n",
              "    }\n",
              "    60% {\n",
              "      border-color: transparent;\n",
              "      border-right-color: var(--fill-color);\n",
              "    }\n",
              "    80% {\n",
              "      border-color: transparent;\n",
              "      border-right-color: var(--fill-color);\n",
              "      border-bottom-color: var(--fill-color);\n",
              "    }\n",
              "    90% {\n",
              "      border-color: transparent;\n",
              "      border-bottom-color: var(--fill-color);\n",
              "    }\n",
              "  }\n",
              "</style>\n",
              "\n",
              "  <script>\n",
              "    async function quickchart(key) {\n",
              "      const quickchartButtonEl =\n",
              "        document.querySelector('#' + key + ' button');\n",
              "      quickchartButtonEl.disabled = true;  // To prevent multiple clicks.\n",
              "      quickchartButtonEl.classList.add('colab-df-spinner');\n",
              "      try {\n",
              "        const charts = await google.colab.kernel.invokeFunction(\n",
              "            'suggestCharts', [key], {});\n",
              "      } catch (error) {\n",
              "        console.error('Error during call to suggestCharts:', error);\n",
              "      }\n",
              "      quickchartButtonEl.classList.remove('colab-df-spinner');\n",
              "      quickchartButtonEl.classList.add('colab-df-quickchart-complete');\n",
              "    }\n",
              "    (() => {\n",
              "      let quickchartButtonEl =\n",
              "        document.querySelector('#df-364ae3f2-fa84-41f1-93f4-32a721d66392 button');\n",
              "      quickchartButtonEl.style.display =\n",
              "        google.colab.kernel.accessAllowed ? 'block' : 'none';\n",
              "    })();\n",
              "  </script>\n",
              "</div>\n",
              "    </div>\n",
              "  </div>\n"
            ],
            "application/vnd.google.colaboratory.intrinsic+json": {
              "type": "dataframe",
              "summary": "{\n  \"name\": \"tvc\",\n  \"rows\": 21,\n  \"fields\": [\n    {\n      \"column\": \"index\",\n      \"properties\": {\n        \"dtype\": \"string\",\n        \"num_unique_values\": 21,\n        \"samples\": [\n          \"id\",\n          \"dual_sim\",\n          \"four_g\"\n        ],\n        \"semantic_type\": \"\",\n        \"description\": \"\"\n      }\n    },\n    {\n      \"column\": \"Total Null Values\",\n      \"properties\": {\n        \"dtype\": \"number\",\n        \"std\": 0,\n        \"min\": 0,\n        \"max\": 0,\n        \"num_unique_values\": 1,\n        \"samples\": [\n          0\n        ],\n        \"semantic_type\": \"\",\n        \"description\": \"\"\n      }\n    },\n    {\n      \"column\": \"Percentage\",\n      \"properties\": {\n        \"dtype\": \"number\",\n        \"std\": 0.0,\n        \"min\": 0.0,\n        \"max\": 0.0,\n        \"num_unique_values\": 1,\n        \"samples\": [\n          0.0\n        ],\n        \"semantic_type\": \"\",\n        \"description\": \"\"\n      }\n    }\n  ]\n}"
            }
          },
          "metadata": {},
          "execution_count": 201
        }
      ]
    },
    {
      "cell_type": "markdown",
      "source": [
        "**Prediction**"
      ],
      "metadata": {
        "id": "4IgoJXIQKTPS"
      }
    },
    {
      "cell_type": "markdown",
      "source": [
        "Prediction\n",
        "Predict price range on application data test with best machine learning model obtained before, i.e Random Forest."
      ],
      "metadata": {
        "id": "zBHrdFGzKZLK"
      }
    },
    {
      "cell_type": "code",
      "source": [
        "pred_test = df_test[['ram', 'px_height', 'battery_power', 'px_width', 'mobile_wt','int_memory',\n",
        "                     'sc_w', 'talk_time', 'fc', 'sc_h']]\n",
        "pred_test.head()"
      ],
      "metadata": {
        "colab": {
          "base_uri": "https://localhost:8080/",
          "height": 206
        },
        "id": "WgB9MzF5KiU5",
        "outputId": "bcac04e1-0c42-475b-bd1b-307e0a94d5fe"
      },
      "execution_count": 202,
      "outputs": [
        {
          "output_type": "execute_result",
          "data": {
            "text/plain": [
              "    ram  px_height  battery_power  px_width  mobile_wt  int_memory  sc_w  \\\n",
              "0  3476        226           1043      1412        193           5     7   \n",
              "1  3895        746            841       857        191          61     0   \n",
              "2  2396       1270           1807      1366        186          27    10   \n",
              "3  3893        295           1546      1752         96          25     0   \n",
              "4  1773        749           1434       810        108          49     8   \n",
              "\n",
              "   talk_time  fc  sc_h  \n",
              "0          2  14    12  \n",
              "1          7   4     6  \n",
              "2         10   1    17  \n",
              "3          7  18    10  \n",
              "4          7  11    15  "
            ],
            "text/html": [
              "\n",
              "  <div id=\"df-afbaef94-540f-4c9e-a579-0cbd9dbf285a\" class=\"colab-df-container\">\n",
              "    <div>\n",
              "<style scoped>\n",
              "    .dataframe tbody tr th:only-of-type {\n",
              "        vertical-align: middle;\n",
              "    }\n",
              "\n",
              "    .dataframe tbody tr th {\n",
              "        vertical-align: top;\n",
              "    }\n",
              "\n",
              "    .dataframe thead th {\n",
              "        text-align: right;\n",
              "    }\n",
              "</style>\n",
              "<table border=\"1\" class=\"dataframe\">\n",
              "  <thead>\n",
              "    <tr style=\"text-align: right;\">\n",
              "      <th></th>\n",
              "      <th>ram</th>\n",
              "      <th>px_height</th>\n",
              "      <th>battery_power</th>\n",
              "      <th>px_width</th>\n",
              "      <th>mobile_wt</th>\n",
              "      <th>int_memory</th>\n",
              "      <th>sc_w</th>\n",
              "      <th>talk_time</th>\n",
              "      <th>fc</th>\n",
              "      <th>sc_h</th>\n",
              "    </tr>\n",
              "  </thead>\n",
              "  <tbody>\n",
              "    <tr>\n",
              "      <th>0</th>\n",
              "      <td>3476</td>\n",
              "      <td>226</td>\n",
              "      <td>1043</td>\n",
              "      <td>1412</td>\n",
              "      <td>193</td>\n",
              "      <td>5</td>\n",
              "      <td>7</td>\n",
              "      <td>2</td>\n",
              "      <td>14</td>\n",
              "      <td>12</td>\n",
              "    </tr>\n",
              "    <tr>\n",
              "      <th>1</th>\n",
              "      <td>3895</td>\n",
              "      <td>746</td>\n",
              "      <td>841</td>\n",
              "      <td>857</td>\n",
              "      <td>191</td>\n",
              "      <td>61</td>\n",
              "      <td>0</td>\n",
              "      <td>7</td>\n",
              "      <td>4</td>\n",
              "      <td>6</td>\n",
              "    </tr>\n",
              "    <tr>\n",
              "      <th>2</th>\n",
              "      <td>2396</td>\n",
              "      <td>1270</td>\n",
              "      <td>1807</td>\n",
              "      <td>1366</td>\n",
              "      <td>186</td>\n",
              "      <td>27</td>\n",
              "      <td>10</td>\n",
              "      <td>10</td>\n",
              "      <td>1</td>\n",
              "      <td>17</td>\n",
              "    </tr>\n",
              "    <tr>\n",
              "      <th>3</th>\n",
              "      <td>3893</td>\n",
              "      <td>295</td>\n",
              "      <td>1546</td>\n",
              "      <td>1752</td>\n",
              "      <td>96</td>\n",
              "      <td>25</td>\n",
              "      <td>0</td>\n",
              "      <td>7</td>\n",
              "      <td>18</td>\n",
              "      <td>10</td>\n",
              "    </tr>\n",
              "    <tr>\n",
              "      <th>4</th>\n",
              "      <td>1773</td>\n",
              "      <td>749</td>\n",
              "      <td>1434</td>\n",
              "      <td>810</td>\n",
              "      <td>108</td>\n",
              "      <td>49</td>\n",
              "      <td>8</td>\n",
              "      <td>7</td>\n",
              "      <td>11</td>\n",
              "      <td>15</td>\n",
              "    </tr>\n",
              "  </tbody>\n",
              "</table>\n",
              "</div>\n",
              "    <div class=\"colab-df-buttons\">\n",
              "\n",
              "  <div class=\"colab-df-container\">\n",
              "    <button class=\"colab-df-convert\" onclick=\"convertToInteractive('df-afbaef94-540f-4c9e-a579-0cbd9dbf285a')\"\n",
              "            title=\"Convert this dataframe to an interactive table.\"\n",
              "            style=\"display:none;\">\n",
              "\n",
              "  <svg xmlns=\"http://www.w3.org/2000/svg\" height=\"24px\" viewBox=\"0 -960 960 960\">\n",
              "    <path d=\"M120-120v-720h720v720H120Zm60-500h600v-160H180v160Zm220 220h160v-160H400v160Zm0 220h160v-160H400v160ZM180-400h160v-160H180v160Zm440 0h160v-160H620v160ZM180-180h160v-160H180v160Zm440 0h160v-160H620v160Z\"/>\n",
              "  </svg>\n",
              "    </button>\n",
              "\n",
              "  <style>\n",
              "    .colab-df-container {\n",
              "      display:flex;\n",
              "      gap: 12px;\n",
              "    }\n",
              "\n",
              "    .colab-df-convert {\n",
              "      background-color: #E8F0FE;\n",
              "      border: none;\n",
              "      border-radius: 50%;\n",
              "      cursor: pointer;\n",
              "      display: none;\n",
              "      fill: #1967D2;\n",
              "      height: 32px;\n",
              "      padding: 0 0 0 0;\n",
              "      width: 32px;\n",
              "    }\n",
              "\n",
              "    .colab-df-convert:hover {\n",
              "      background-color: #E2EBFA;\n",
              "      box-shadow: 0px 1px 2px rgba(60, 64, 67, 0.3), 0px 1px 3px 1px rgba(60, 64, 67, 0.15);\n",
              "      fill: #174EA6;\n",
              "    }\n",
              "\n",
              "    .colab-df-buttons div {\n",
              "      margin-bottom: 4px;\n",
              "    }\n",
              "\n",
              "    [theme=dark] .colab-df-convert {\n",
              "      background-color: #3B4455;\n",
              "      fill: #D2E3FC;\n",
              "    }\n",
              "\n",
              "    [theme=dark] .colab-df-convert:hover {\n",
              "      background-color: #434B5C;\n",
              "      box-shadow: 0px 1px 3px 1px rgba(0, 0, 0, 0.15);\n",
              "      filter: drop-shadow(0px 1px 2px rgba(0, 0, 0, 0.3));\n",
              "      fill: #FFFFFF;\n",
              "    }\n",
              "  </style>\n",
              "\n",
              "    <script>\n",
              "      const buttonEl =\n",
              "        document.querySelector('#df-afbaef94-540f-4c9e-a579-0cbd9dbf285a button.colab-df-convert');\n",
              "      buttonEl.style.display =\n",
              "        google.colab.kernel.accessAllowed ? 'block' : 'none';\n",
              "\n",
              "      async function convertToInteractive(key) {\n",
              "        const element = document.querySelector('#df-afbaef94-540f-4c9e-a579-0cbd9dbf285a');\n",
              "        const dataTable =\n",
              "          await google.colab.kernel.invokeFunction('convertToInteractive',\n",
              "                                                    [key], {});\n",
              "        if (!dataTable) return;\n",
              "\n",
              "        const docLinkHtml = 'Like what you see? Visit the ' +\n",
              "          '<a target=\"_blank\" href=https://colab.research.google.com/notebooks/data_table.ipynb>data table notebook</a>'\n",
              "          + ' to learn more about interactive tables.';\n",
              "        element.innerHTML = '';\n",
              "        dataTable['output_type'] = 'display_data';\n",
              "        await google.colab.output.renderOutput(dataTable, element);\n",
              "        const docLink = document.createElement('div');\n",
              "        docLink.innerHTML = docLinkHtml;\n",
              "        element.appendChild(docLink);\n",
              "      }\n",
              "    </script>\n",
              "  </div>\n",
              "\n",
              "\n",
              "<div id=\"df-82f490b9-2a72-4b1f-9df5-33a4d62280c4\">\n",
              "  <button class=\"colab-df-quickchart\" onclick=\"quickchart('df-82f490b9-2a72-4b1f-9df5-33a4d62280c4')\"\n",
              "            title=\"Suggest charts\"\n",
              "            style=\"display:none;\">\n",
              "\n",
              "<svg xmlns=\"http://www.w3.org/2000/svg\" height=\"24px\"viewBox=\"0 0 24 24\"\n",
              "     width=\"24px\">\n",
              "    <g>\n",
              "        <path d=\"M19 3H5c-1.1 0-2 .9-2 2v14c0 1.1.9 2 2 2h14c1.1 0 2-.9 2-2V5c0-1.1-.9-2-2-2zM9 17H7v-7h2v7zm4 0h-2V7h2v10zm4 0h-2v-4h2v4z\"/>\n",
              "    </g>\n",
              "</svg>\n",
              "  </button>\n",
              "\n",
              "<style>\n",
              "  .colab-df-quickchart {\n",
              "      --bg-color: #E8F0FE;\n",
              "      --fill-color: #1967D2;\n",
              "      --hover-bg-color: #E2EBFA;\n",
              "      --hover-fill-color: #174EA6;\n",
              "      --disabled-fill-color: #AAA;\n",
              "      --disabled-bg-color: #DDD;\n",
              "  }\n",
              "\n",
              "  [theme=dark] .colab-df-quickchart {\n",
              "      --bg-color: #3B4455;\n",
              "      --fill-color: #D2E3FC;\n",
              "      --hover-bg-color: #434B5C;\n",
              "      --hover-fill-color: #FFFFFF;\n",
              "      --disabled-bg-color: #3B4455;\n",
              "      --disabled-fill-color: #666;\n",
              "  }\n",
              "\n",
              "  .colab-df-quickchart {\n",
              "    background-color: var(--bg-color);\n",
              "    border: none;\n",
              "    border-radius: 50%;\n",
              "    cursor: pointer;\n",
              "    display: none;\n",
              "    fill: var(--fill-color);\n",
              "    height: 32px;\n",
              "    padding: 0;\n",
              "    width: 32px;\n",
              "  }\n",
              "\n",
              "  .colab-df-quickchart:hover {\n",
              "    background-color: var(--hover-bg-color);\n",
              "    box-shadow: 0 1px 2px rgba(60, 64, 67, 0.3), 0 1px 3px 1px rgba(60, 64, 67, 0.15);\n",
              "    fill: var(--button-hover-fill-color);\n",
              "  }\n",
              "\n",
              "  .colab-df-quickchart-complete:disabled,\n",
              "  .colab-df-quickchart-complete:disabled:hover {\n",
              "    background-color: var(--disabled-bg-color);\n",
              "    fill: var(--disabled-fill-color);\n",
              "    box-shadow: none;\n",
              "  }\n",
              "\n",
              "  .colab-df-spinner {\n",
              "    border: 2px solid var(--fill-color);\n",
              "    border-color: transparent;\n",
              "    border-bottom-color: var(--fill-color);\n",
              "    animation:\n",
              "      spin 1s steps(1) infinite;\n",
              "  }\n",
              "\n",
              "  @keyframes spin {\n",
              "    0% {\n",
              "      border-color: transparent;\n",
              "      border-bottom-color: var(--fill-color);\n",
              "      border-left-color: var(--fill-color);\n",
              "    }\n",
              "    20% {\n",
              "      border-color: transparent;\n",
              "      border-left-color: var(--fill-color);\n",
              "      border-top-color: var(--fill-color);\n",
              "    }\n",
              "    30% {\n",
              "      border-color: transparent;\n",
              "      border-left-color: var(--fill-color);\n",
              "      border-top-color: var(--fill-color);\n",
              "      border-right-color: var(--fill-color);\n",
              "    }\n",
              "    40% {\n",
              "      border-color: transparent;\n",
              "      border-right-color: var(--fill-color);\n",
              "      border-top-color: var(--fill-color);\n",
              "    }\n",
              "    60% {\n",
              "      border-color: transparent;\n",
              "      border-right-color: var(--fill-color);\n",
              "    }\n",
              "    80% {\n",
              "      border-color: transparent;\n",
              "      border-right-color: var(--fill-color);\n",
              "      border-bottom-color: var(--fill-color);\n",
              "    }\n",
              "    90% {\n",
              "      border-color: transparent;\n",
              "      border-bottom-color: var(--fill-color);\n",
              "    }\n",
              "  }\n",
              "</style>\n",
              "\n",
              "  <script>\n",
              "    async function quickchart(key) {\n",
              "      const quickchartButtonEl =\n",
              "        document.querySelector('#' + key + ' button');\n",
              "      quickchartButtonEl.disabled = true;  // To prevent multiple clicks.\n",
              "      quickchartButtonEl.classList.add('colab-df-spinner');\n",
              "      try {\n",
              "        const charts = await google.colab.kernel.invokeFunction(\n",
              "            'suggestCharts', [key], {});\n",
              "      } catch (error) {\n",
              "        console.error('Error during call to suggestCharts:', error);\n",
              "      }\n",
              "      quickchartButtonEl.classList.remove('colab-df-spinner');\n",
              "      quickchartButtonEl.classList.add('colab-df-quickchart-complete');\n",
              "    }\n",
              "    (() => {\n",
              "      let quickchartButtonEl =\n",
              "        document.querySelector('#df-82f490b9-2a72-4b1f-9df5-33a4d62280c4 button');\n",
              "      quickchartButtonEl.style.display =\n",
              "        google.colab.kernel.accessAllowed ? 'block' : 'none';\n",
              "    })();\n",
              "  </script>\n",
              "</div>\n",
              "    </div>\n",
              "  </div>\n"
            ],
            "application/vnd.google.colaboratory.intrinsic+json": {
              "type": "dataframe",
              "variable_name": "pred_test",
              "summary": "{\n  \"name\": \"pred_test\",\n  \"rows\": 1000,\n  \"fields\": [\n    {\n      \"column\": \"ram\",\n      \"properties\": {\n        \"dtype\": \"number\",\n        \"std\": 1088,\n        \"min\": 263,\n        \"max\": 3989,\n        \"num_unique_values\": 872,\n        \"samples\": [\n          1197,\n          2782,\n          788\n        ],\n        \"semantic_type\": \"\",\n        \"description\": \"\"\n      }\n    },\n    {\n      \"column\": \"px_height\",\n      \"properties\": {\n        \"dtype\": \"number\",\n        \"std\": 432,\n        \"min\": 0,\n        \"max\": 1907,\n        \"num_unique_values\": 694,\n        \"samples\": [\n          992,\n          1611,\n          1300\n        ],\n        \"semantic_type\": \"\",\n        \"description\": \"\"\n      }\n    },\n    {\n      \"column\": \"battery_power\",\n      \"properties\": {\n        \"dtype\": \"number\",\n        \"std\": 432,\n        \"min\": 500,\n        \"max\": 1999,\n        \"num_unique_values\": 721,\n        \"samples\": [\n          1423,\n          1949,\n          1391\n        ],\n        \"semantic_type\": \"\",\n        \"description\": \"\"\n      }\n    },\n    {\n      \"column\": \"px_width\",\n      \"properties\": {\n        \"dtype\": \"number\",\n        \"std\": 439,\n        \"min\": 501,\n        \"max\": 1998,\n        \"num_unique_values\": 743,\n        \"samples\": [\n          1222,\n          1294,\n          1146\n        ],\n        \"semantic_type\": \"\",\n        \"description\": \"\"\n      }\n    },\n    {\n      \"column\": \"mobile_wt\",\n      \"properties\": {\n        \"dtype\": \"number\",\n        \"std\": 34,\n        \"min\": 80,\n        \"max\": 200,\n        \"num_unique_values\": 121,\n        \"samples\": [\n          90,\n          83,\n          108\n        ],\n        \"semantic_type\": \"\",\n        \"description\": \"\"\n      }\n    },\n    {\n      \"column\": \"int_memory\",\n      \"properties\": {\n        \"dtype\": \"number\",\n        \"std\": 18,\n        \"min\": 2,\n        \"max\": 64,\n        \"num_unique_values\": 63,\n        \"samples\": [\n          35,\n          9,\n          5\n        ],\n        \"semantic_type\": \"\",\n        \"description\": \"\"\n      }\n    },\n    {\n      \"column\": \"sc_w\",\n      \"properties\": {\n        \"dtype\": \"number\",\n        \"std\": 4,\n        \"min\": 0,\n        \"max\": 18,\n        \"num_unique_values\": 19,\n        \"samples\": [\n          7,\n          9,\n          11\n        ],\n        \"semantic_type\": \"\",\n        \"description\": \"\"\n      }\n    },\n    {\n      \"column\": \"talk_time\",\n      \"properties\": {\n        \"dtype\": \"number\",\n        \"std\": 5,\n        \"min\": 2,\n        \"max\": 20,\n        \"num_unique_values\": 19,\n        \"samples\": [\n          2,\n          5,\n          6\n        ],\n        \"semantic_type\": \"\",\n        \"description\": \"\"\n      }\n    },\n    {\n      \"column\": \"fc\",\n      \"properties\": {\n        \"dtype\": \"number\",\n        \"std\": 4,\n        \"min\": 0,\n        \"max\": 19,\n        \"num_unique_values\": 20,\n        \"samples\": [\n          14,\n          13,\n          3\n        ],\n        \"semantic_type\": \"\",\n        \"description\": \"\"\n      }\n    },\n    {\n      \"column\": \"sc_h\",\n      \"properties\": {\n        \"dtype\": \"number\",\n        \"std\": 4,\n        \"min\": 5,\n        \"max\": 19,\n        \"num_unique_values\": 15,\n        \"samples\": [\n          9,\n          5,\n          12\n        ],\n        \"semantic_type\": \"\",\n        \"description\": \"\"\n      }\n    }\n  ]\n}"
            }
          },
          "metadata": {},
          "execution_count": 202
        }
      ]
    },
    {
      "cell_type": "code",
      "source": [
        "# lets predict!\n",
        "predict = pd.Series(rf_model.predict(pred_test), name = \"price_range\").astype(int)\n",
        "results = pd.concat([df_test['id'], predict],axis = 1)\n",
        "results.to_csv(\"predict mobile price classification.csv\", index = False)\n",
        "results.head()"
      ],
      "metadata": {
        "colab": {
          "base_uri": "https://localhost:8080/",
          "height": 206
        },
        "id": "z6TmCZjzK3tM",
        "outputId": "602622c0-5f95-40ae-9e1d-9751837b1c4e"
      },
      "execution_count": 205,
      "outputs": [
        {
          "output_type": "execute_result",
          "data": {
            "text/plain": [
              "   id  price_range\n",
              "0   1            3\n",
              "1   2            3\n",
              "2   3            3\n",
              "3   4            3\n",
              "4   5            3"
            ],
            "text/html": [
              "\n",
              "  <div id=\"df-a606232c-4fe4-4392-bc94-0270950c5653\" class=\"colab-df-container\">\n",
              "    <div>\n",
              "<style scoped>\n",
              "    .dataframe tbody tr th:only-of-type {\n",
              "        vertical-align: middle;\n",
              "    }\n",
              "\n",
              "    .dataframe tbody tr th {\n",
              "        vertical-align: top;\n",
              "    }\n",
              "\n",
              "    .dataframe thead th {\n",
              "        text-align: right;\n",
              "    }\n",
              "</style>\n",
              "<table border=\"1\" class=\"dataframe\">\n",
              "  <thead>\n",
              "    <tr style=\"text-align: right;\">\n",
              "      <th></th>\n",
              "      <th>id</th>\n",
              "      <th>price_range</th>\n",
              "    </tr>\n",
              "  </thead>\n",
              "  <tbody>\n",
              "    <tr>\n",
              "      <th>0</th>\n",
              "      <td>1</td>\n",
              "      <td>3</td>\n",
              "    </tr>\n",
              "    <tr>\n",
              "      <th>1</th>\n",
              "      <td>2</td>\n",
              "      <td>3</td>\n",
              "    </tr>\n",
              "    <tr>\n",
              "      <th>2</th>\n",
              "      <td>3</td>\n",
              "      <td>3</td>\n",
              "    </tr>\n",
              "    <tr>\n",
              "      <th>3</th>\n",
              "      <td>4</td>\n",
              "      <td>3</td>\n",
              "    </tr>\n",
              "    <tr>\n",
              "      <th>4</th>\n",
              "      <td>5</td>\n",
              "      <td>3</td>\n",
              "    </tr>\n",
              "  </tbody>\n",
              "</table>\n",
              "</div>\n",
              "    <div class=\"colab-df-buttons\">\n",
              "\n",
              "  <div class=\"colab-df-container\">\n",
              "    <button class=\"colab-df-convert\" onclick=\"convertToInteractive('df-a606232c-4fe4-4392-bc94-0270950c5653')\"\n",
              "            title=\"Convert this dataframe to an interactive table.\"\n",
              "            style=\"display:none;\">\n",
              "\n",
              "  <svg xmlns=\"http://www.w3.org/2000/svg\" height=\"24px\" viewBox=\"0 -960 960 960\">\n",
              "    <path d=\"M120-120v-720h720v720H120Zm60-500h600v-160H180v160Zm220 220h160v-160H400v160Zm0 220h160v-160H400v160ZM180-400h160v-160H180v160Zm440 0h160v-160H620v160ZM180-180h160v-160H180v160Zm440 0h160v-160H620v160Z\"/>\n",
              "  </svg>\n",
              "    </button>\n",
              "\n",
              "  <style>\n",
              "    .colab-df-container {\n",
              "      display:flex;\n",
              "      gap: 12px;\n",
              "    }\n",
              "\n",
              "    .colab-df-convert {\n",
              "      background-color: #E8F0FE;\n",
              "      border: none;\n",
              "      border-radius: 50%;\n",
              "      cursor: pointer;\n",
              "      display: none;\n",
              "      fill: #1967D2;\n",
              "      height: 32px;\n",
              "      padding: 0 0 0 0;\n",
              "      width: 32px;\n",
              "    }\n",
              "\n",
              "    .colab-df-convert:hover {\n",
              "      background-color: #E2EBFA;\n",
              "      box-shadow: 0px 1px 2px rgba(60, 64, 67, 0.3), 0px 1px 3px 1px rgba(60, 64, 67, 0.15);\n",
              "      fill: #174EA6;\n",
              "    }\n",
              "\n",
              "    .colab-df-buttons div {\n",
              "      margin-bottom: 4px;\n",
              "    }\n",
              "\n",
              "    [theme=dark] .colab-df-convert {\n",
              "      background-color: #3B4455;\n",
              "      fill: #D2E3FC;\n",
              "    }\n",
              "\n",
              "    [theme=dark] .colab-df-convert:hover {\n",
              "      background-color: #434B5C;\n",
              "      box-shadow: 0px 1px 3px 1px rgba(0, 0, 0, 0.15);\n",
              "      filter: drop-shadow(0px 1px 2px rgba(0, 0, 0, 0.3));\n",
              "      fill: #FFFFFF;\n",
              "    }\n",
              "  </style>\n",
              "\n",
              "    <script>\n",
              "      const buttonEl =\n",
              "        document.querySelector('#df-a606232c-4fe4-4392-bc94-0270950c5653 button.colab-df-convert');\n",
              "      buttonEl.style.display =\n",
              "        google.colab.kernel.accessAllowed ? 'block' : 'none';\n",
              "\n",
              "      async function convertToInteractive(key) {\n",
              "        const element = document.querySelector('#df-a606232c-4fe4-4392-bc94-0270950c5653');\n",
              "        const dataTable =\n",
              "          await google.colab.kernel.invokeFunction('convertToInteractive',\n",
              "                                                    [key], {});\n",
              "        if (!dataTable) return;\n",
              "\n",
              "        const docLinkHtml = 'Like what you see? Visit the ' +\n",
              "          '<a target=\"_blank\" href=https://colab.research.google.com/notebooks/data_table.ipynb>data table notebook</a>'\n",
              "          + ' to learn more about interactive tables.';\n",
              "        element.innerHTML = '';\n",
              "        dataTable['output_type'] = 'display_data';\n",
              "        await google.colab.output.renderOutput(dataTable, element);\n",
              "        const docLink = document.createElement('div');\n",
              "        docLink.innerHTML = docLinkHtml;\n",
              "        element.appendChild(docLink);\n",
              "      }\n",
              "    </script>\n",
              "  </div>\n",
              "\n",
              "\n",
              "<div id=\"df-eed818e1-b64a-4409-81c5-95588d0619d5\">\n",
              "  <button class=\"colab-df-quickchart\" onclick=\"quickchart('df-eed818e1-b64a-4409-81c5-95588d0619d5')\"\n",
              "            title=\"Suggest charts\"\n",
              "            style=\"display:none;\">\n",
              "\n",
              "<svg xmlns=\"http://www.w3.org/2000/svg\" height=\"24px\"viewBox=\"0 0 24 24\"\n",
              "     width=\"24px\">\n",
              "    <g>\n",
              "        <path d=\"M19 3H5c-1.1 0-2 .9-2 2v14c0 1.1.9 2 2 2h14c1.1 0 2-.9 2-2V5c0-1.1-.9-2-2-2zM9 17H7v-7h2v7zm4 0h-2V7h2v10zm4 0h-2v-4h2v4z\"/>\n",
              "    </g>\n",
              "</svg>\n",
              "  </button>\n",
              "\n",
              "<style>\n",
              "  .colab-df-quickchart {\n",
              "      --bg-color: #E8F0FE;\n",
              "      --fill-color: #1967D2;\n",
              "      --hover-bg-color: #E2EBFA;\n",
              "      --hover-fill-color: #174EA6;\n",
              "      --disabled-fill-color: #AAA;\n",
              "      --disabled-bg-color: #DDD;\n",
              "  }\n",
              "\n",
              "  [theme=dark] .colab-df-quickchart {\n",
              "      --bg-color: #3B4455;\n",
              "      --fill-color: #D2E3FC;\n",
              "      --hover-bg-color: #434B5C;\n",
              "      --hover-fill-color: #FFFFFF;\n",
              "      --disabled-bg-color: #3B4455;\n",
              "      --disabled-fill-color: #666;\n",
              "  }\n",
              "\n",
              "  .colab-df-quickchart {\n",
              "    background-color: var(--bg-color);\n",
              "    border: none;\n",
              "    border-radius: 50%;\n",
              "    cursor: pointer;\n",
              "    display: none;\n",
              "    fill: var(--fill-color);\n",
              "    height: 32px;\n",
              "    padding: 0;\n",
              "    width: 32px;\n",
              "  }\n",
              "\n",
              "  .colab-df-quickchart:hover {\n",
              "    background-color: var(--hover-bg-color);\n",
              "    box-shadow: 0 1px 2px rgba(60, 64, 67, 0.3), 0 1px 3px 1px rgba(60, 64, 67, 0.15);\n",
              "    fill: var(--button-hover-fill-color);\n",
              "  }\n",
              "\n",
              "  .colab-df-quickchart-complete:disabled,\n",
              "  .colab-df-quickchart-complete:disabled:hover {\n",
              "    background-color: var(--disabled-bg-color);\n",
              "    fill: var(--disabled-fill-color);\n",
              "    box-shadow: none;\n",
              "  }\n",
              "\n",
              "  .colab-df-spinner {\n",
              "    border: 2px solid var(--fill-color);\n",
              "    border-color: transparent;\n",
              "    border-bottom-color: var(--fill-color);\n",
              "    animation:\n",
              "      spin 1s steps(1) infinite;\n",
              "  }\n",
              "\n",
              "  @keyframes spin {\n",
              "    0% {\n",
              "      border-color: transparent;\n",
              "      border-bottom-color: var(--fill-color);\n",
              "      border-left-color: var(--fill-color);\n",
              "    }\n",
              "    20% {\n",
              "      border-color: transparent;\n",
              "      border-left-color: var(--fill-color);\n",
              "      border-top-color: var(--fill-color);\n",
              "    }\n",
              "    30% {\n",
              "      border-color: transparent;\n",
              "      border-left-color: var(--fill-color);\n",
              "      border-top-color: var(--fill-color);\n",
              "      border-right-color: var(--fill-color);\n",
              "    }\n",
              "    40% {\n",
              "      border-color: transparent;\n",
              "      border-right-color: var(--fill-color);\n",
              "      border-top-color: var(--fill-color);\n",
              "    }\n",
              "    60% {\n",
              "      border-color: transparent;\n",
              "      border-right-color: var(--fill-color);\n",
              "    }\n",
              "    80% {\n",
              "      border-color: transparent;\n",
              "      border-right-color: var(--fill-color);\n",
              "      border-bottom-color: var(--fill-color);\n",
              "    }\n",
              "    90% {\n",
              "      border-color: transparent;\n",
              "      border-bottom-color: var(--fill-color);\n",
              "    }\n",
              "  }\n",
              "</style>\n",
              "\n",
              "  <script>\n",
              "    async function quickchart(key) {\n",
              "      const quickchartButtonEl =\n",
              "        document.querySelector('#' + key + ' button');\n",
              "      quickchartButtonEl.disabled = true;  // To prevent multiple clicks.\n",
              "      quickchartButtonEl.classList.add('colab-df-spinner');\n",
              "      try {\n",
              "        const charts = await google.colab.kernel.invokeFunction(\n",
              "            'suggestCharts', [key], {});\n",
              "      } catch (error) {\n",
              "        console.error('Error during call to suggestCharts:', error);\n",
              "      }\n",
              "      quickchartButtonEl.classList.remove('colab-df-spinner');\n",
              "      quickchartButtonEl.classList.add('colab-df-quickchart-complete');\n",
              "    }\n",
              "    (() => {\n",
              "      let quickchartButtonEl =\n",
              "        document.querySelector('#df-eed818e1-b64a-4409-81c5-95588d0619d5 button');\n",
              "      quickchartButtonEl.style.display =\n",
              "        google.colab.kernel.accessAllowed ? 'block' : 'none';\n",
              "    })();\n",
              "  </script>\n",
              "</div>\n",
              "    </div>\n",
              "  </div>\n"
            ],
            "application/vnd.google.colaboratory.intrinsic+json": {
              "type": "dataframe",
              "variable_name": "results",
              "summary": "{\n  \"name\": \"results\",\n  \"rows\": 1000,\n  \"fields\": [\n    {\n      \"column\": \"id\",\n      \"properties\": {\n        \"dtype\": \"number\",\n        \"std\": 288,\n        \"min\": 1,\n        \"max\": 1000,\n        \"num_unique_values\": 1000,\n        \"samples\": [\n          522,\n          738,\n          741\n        ],\n        \"semantic_type\": \"\",\n        \"description\": \"\"\n      }\n    },\n    {\n      \"column\": \"price_range\",\n      \"properties\": {\n        \"dtype\": \"number\",\n        \"std\": 0,\n        \"min\": 3,\n        \"max\": 3,\n        \"num_unique_values\": 1,\n        \"samples\": [\n          3\n        ],\n        \"semantic_type\": \"\",\n        \"description\": \"\"\n      }\n    }\n  ]\n}"
            }
          },
          "metadata": {},
          "execution_count": 205
        }
      ]
    },
    {
      "cell_type": "markdown",
      "source": [
        "**Conclusion:**\n",
        "\n",
        "Smartphones with comprehensive features tend to fall within the very high price range.\n",
        "\n",
        "**Recommendation:**\n",
        "*   Consider adjusting prices based on features identified as key determinants of the price range.\n",
        "*   Evaluate the most popular price ranges and popular brands.\n",
        "\n",
        "\n",
        "\n",
        "\n",
        "\n",
        "\n",
        "\n"
      ],
      "metadata": {
        "id": "q8gtO__VWEVY"
      }
    }
  ],
  "metadata": {
    "colab": {
      "provenance": []
    },
    "kernelspec": {
      "display_name": "Python 3",
      "name": "python3"
    },
    "language_info": {
      "name": "python"
    }
  },
  "nbformat": 4,
  "nbformat_minor": 0
}